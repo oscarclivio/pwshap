{
 "cells": [
  {
   "cell_type": "code",
   "execution_count": 1,
   "id": "ea3c15db",
   "metadata": {},
   "outputs": [],
   "source": [
    "import matplotlib.pyplot as plt\n",
    "import numpy as np\n",
    "import pandas as pd\n",
    "import seaborn as sns\n",
    "import math\n",
    "import scipy\n",
    "from sklearn.experimental import enable_iterative_imputer\n",
    "from sklearn.impute import IterativeImputer\n",
    "from sklearn.linear_model import BayesianRidge, LogisticRegression, PoissonRegressor\n",
    "from sklearn.ensemble import RandomForestClassifier\n",
    "from sklearn.preprocessing import StandardScaler\n",
    "from sklearn.metrics import roc_auc_score\n",
    "\n",
    "import pathlib\n",
    "import sklearn.metrics\n",
    "from scipy.stats import gaussian_kde\n",
    "import matplotlib.cm as cm\n",
    "\n",
    "import random\n",
    "import time"
   ]
  },
  {
   "cell_type": "code",
   "execution_count": 2,
   "id": "885a2917",
   "metadata": {},
   "outputs": [],
   "source": [
    "\n",
    "def model_outcomes_coal(model, coal, local_obs, ref_point, imp=None, predict_proba=True, seed=0):\n",
    "    \n",
    "    start = time.time()\n",
    "    \n",
    "    ## this function outputs a list of all model predictions for a single coalition\n",
    "    # the input is the coalition of interest as a binary vector eg. [1,1,0,1]\n",
    "    # ref point is the entire reference distirbution (here we take x_train)\n",
    "    # local_obs is the instance we aim to explain\n",
    "    \n",
    "    n_obs, d_obs = np.shape(local_obs)\n",
    "\n",
    "    # we consider all 2**n coalitions and all n reference points\n",
    "    # get constants\n",
    "    \n",
    "    n, d = np.shape(ref_point)\n",
    "    assert d == d_obs\n",
    "    \n",
    "    # train imputation algorithm for conditional references   \n",
    "    # create an \"all_imputed_coalitions\" 3D matrix with all \"artificial inputs\" we get by imputing\n",
    "    coalitions = np.array([[int(i) for i in '0'*((d)-len(bin(j))+2) + bin(j)[2:]] for j in range(2**d)]) \n",
    "    all_imputed_coalitions = np.zeros((n_obs, n, d))\n",
    "    \n",
    "    \n",
    "    \n",
    "    \n",
    "    \n",
    "     ## below we build the concatenated inputs using conditional imputation for dropped features and averages\n",
    "    for k in range(n):#reference point index\n",
    "        vect=(1-coal) \n",
    "        vect = vect.astype('float')\n",
    "        vect[vect == 1] = 'nan'    # vect is a binary vector of being \"absent\" ('nan') or \"present\" (1)\n",
    "        # impute conditionally with Bayesian Ridge MICE \n",
    "        imputed_coalitions = coal * local_obs + vect #either local obs value or 'nan'\n",
    "        #print(imputed_coalitions)\n",
    "        nans = (np.isnan(imputed_coalitions).sum(axis=0) > 0)\n",
    "        if (~nans).sum() == 0 or imp is None:\n",
    "            idx = np.random.randint(n, size=n_obs)\n",
    "            imputation = ref_point[idx]\n",
    "            imputed_coalitions[:,nans] = imputation[:,nans]\n",
    "        else:\n",
    "            imputed_coalitions = imp.transform(imputed_coalitions)       \n",
    "        all_imputed_coalitions[:, k, :] = imputed_coalitions\n",
    "        \n",
    "    end = time.time()\n",
    "    print('Execution time (s) :', end - start)\n",
    "    #we ultimately return the model predictions\n",
    "    if predict_proba:\n",
    "        return model.predict_proba(all_imputed_coalitions.reshape(n_obs * n, d))[:,1].reshape(n_obs, n)\n",
    "    else:\n",
    "        return model.predict(all_imputed_coalitions.reshape(n_obs * n, d)).reshape(n_obs, n)\n"
   ]
  },
  {
   "cell_type": "code",
   "execution_count": 4,
   "id": "abceb1eb",
   "metadata": {},
   "outputs": [],
   "source": [
    "prop_train = 0.5\n",
    "\n",
    "data = pd.read_csv('../data/german_processed.csv')\n",
    "rng = np.random.default_rng(0)\n",
    "rng.permutation(data) \n",
    "N = len(data)\n",
    "N_train = int(prop_train * N)\n",
    "\n",
    "train_df, test_df = data.iloc[:N_train], data.iloc[N_train:]\n",
    "\n",
    "\n",
    "\n",
    "y_train = train_df['GoodCustomer (label)']\n",
    "x_train = train_df.drop(columns=['GoodCustomer (label)'])\n",
    "\n",
    "y_test = test_df['GoodCustomer (label)']\n",
    "x_test = test_df.drop(columns=['GoodCustomer (label)'])\n"
   ]
  },
  {
   "cell_type": "code",
   "execution_count": 5,
   "id": "a45d35d5",
   "metadata": {},
   "outputs": [
    {
     "name": "stdout",
     "output_type": "stream",
     "text": [
      "0.734\n",
      "0.6696428571428572\n",
      "0.68\n",
      "0.6171784262485482\n"
     ]
    }
   ],
   "source": [
    "# fit and score the model\n",
    "outcome = LogisticRegression(random_state=0)\n",
    "outcome.fit(x_train, y_train)\n",
    "print(sklearn.metrics.accuracy_score(y_train, outcome.predict(x_train)))\n",
    "print(sklearn.metrics.roc_auc_score(y_train, outcome.predict_proba(x_train)[:, 1]))\n",
    "print(sklearn.metrics.accuracy_score(y_test, outcome.predict(x_test)))\n",
    "print(sklearn.metrics.roc_auc_score(y_test, outcome.predict_proba(x_test)[:, 1]))"
   ]
  },
  {
   "cell_type": "markdown",
   "id": "f6c63131",
   "metadata": {},
   "source": [
    "## Treatment = Sex (mediation analysis)"
   ]
  },
  {
   "cell_type": "code",
   "execution_count": 6,
   "id": "0f415922",
   "metadata": {},
   "outputs": [
    {
     "name": "stdout",
     "output_type": "stream",
     "text": [
      "0.696\n",
      "0.6118988203266787\n",
      "0.684\n",
      "0.656210674365238\n"
     ]
    }
   ],
   "source": [
    "propensity_sex = LogisticRegression(random_state=0)\n",
    "propensity_sex.fit(x_train.drop(columns=['Sex']), x_train['Sex'])\n",
    "print(sklearn.metrics.accuracy_score(x_train['Sex'], propensity_sex.predict(x_train.drop(columns=['Sex']))))\n",
    "print(sklearn.metrics.roc_auc_score(x_train['Sex'], propensity_sex.predict_proba(x_train.drop(columns=['Sex']))[:, 1]))\n",
    "print(sklearn.metrics.accuracy_score(x_test['Sex'], propensity_sex.predict(x_test.drop(columns=['Sex']))))\n",
    "print(sklearn.metrics.roc_auc_score(x_test['Sex'], propensity_sex.predict_proba(x_test.drop(columns=['Sex']))[:, 1]))"
   ]
  },
  {
   "cell_type": "code",
   "execution_count": 7,
   "id": "8bbb0cfd",
   "metadata": {},
   "outputs": [
    {
     "data": {
      "text/html": [
       "<style>#sk-container-id-1 {color: black;background-color: white;}#sk-container-id-1 pre{padding: 0;}#sk-container-id-1 div.sk-toggleable {background-color: white;}#sk-container-id-1 label.sk-toggleable__label {cursor: pointer;display: block;width: 100%;margin-bottom: 0;padding: 0.3em;box-sizing: border-box;text-align: center;}#sk-container-id-1 label.sk-toggleable__label-arrow:before {content: \"▸\";float: left;margin-right: 0.25em;color: #696969;}#sk-container-id-1 label.sk-toggleable__label-arrow:hover:before {color: black;}#sk-container-id-1 div.sk-estimator:hover label.sk-toggleable__label-arrow:before {color: black;}#sk-container-id-1 div.sk-toggleable__content {max-height: 0;max-width: 0;overflow: hidden;text-align: left;background-color: #f0f8ff;}#sk-container-id-1 div.sk-toggleable__content pre {margin: 0.2em;color: black;border-radius: 0.25em;background-color: #f0f8ff;}#sk-container-id-1 input.sk-toggleable__control:checked~div.sk-toggleable__content {max-height: 200px;max-width: 100%;overflow: auto;}#sk-container-id-1 input.sk-toggleable__control:checked~label.sk-toggleable__label-arrow:before {content: \"▾\";}#sk-container-id-1 div.sk-estimator input.sk-toggleable__control:checked~label.sk-toggleable__label {background-color: #d4ebff;}#sk-container-id-1 div.sk-label input.sk-toggleable__control:checked~label.sk-toggleable__label {background-color: #d4ebff;}#sk-container-id-1 input.sk-hidden--visually {border: 0;clip: rect(1px 1px 1px 1px);clip: rect(1px, 1px, 1px, 1px);height: 1px;margin: -1px;overflow: hidden;padding: 0;position: absolute;width: 1px;}#sk-container-id-1 div.sk-estimator {font-family: monospace;background-color: #f0f8ff;border: 1px dotted black;border-radius: 0.25em;box-sizing: border-box;margin-bottom: 0.5em;}#sk-container-id-1 div.sk-estimator:hover {background-color: #d4ebff;}#sk-container-id-1 div.sk-parallel-item::after {content: \"\";width: 100%;border-bottom: 1px solid gray;flex-grow: 1;}#sk-container-id-1 div.sk-label:hover label.sk-toggleable__label {background-color: #d4ebff;}#sk-container-id-1 div.sk-serial::before {content: \"\";position: absolute;border-left: 1px solid gray;box-sizing: border-box;top: 0;bottom: 0;left: 50%;z-index: 0;}#sk-container-id-1 div.sk-serial {display: flex;flex-direction: column;align-items: center;background-color: white;padding-right: 0.2em;padding-left: 0.2em;position: relative;}#sk-container-id-1 div.sk-item {position: relative;z-index: 1;}#sk-container-id-1 div.sk-parallel {display: flex;align-items: stretch;justify-content: center;background-color: white;position: relative;}#sk-container-id-1 div.sk-item::before, #sk-container-id-1 div.sk-parallel-item::before {content: \"\";position: absolute;border-left: 1px solid gray;box-sizing: border-box;top: 0;bottom: 0;left: 50%;z-index: -1;}#sk-container-id-1 div.sk-parallel-item {display: flex;flex-direction: column;z-index: 1;position: relative;background-color: white;}#sk-container-id-1 div.sk-parallel-item:first-child::after {align-self: flex-end;width: 50%;}#sk-container-id-1 div.sk-parallel-item:last-child::after {align-self: flex-start;width: 50%;}#sk-container-id-1 div.sk-parallel-item:only-child::after {width: 0;}#sk-container-id-1 div.sk-dashed-wrapped {border: 1px dashed gray;margin: 0 0.4em 0.5em 0.4em;box-sizing: border-box;padding-bottom: 0.4em;background-color: white;}#sk-container-id-1 div.sk-label label {font-family: monospace;font-weight: bold;display: inline-block;line-height: 1.2em;}#sk-container-id-1 div.sk-label-container {text-align: center;}#sk-container-id-1 div.sk-container {/* jupyter's `normalize.less` sets `[hidden] { display: none; }` but bootstrap.min.css set `[hidden] { display: none !important; }` so we also need the `!important` here to be able to override the default hidden behavior on the sphinx rendered scikit-learn.org. See: https://github.com/scikit-learn/scikit-learn/issues/21755 */display: inline-block !important;position: relative;}#sk-container-id-1 div.sk-text-repr-fallback {display: none;}</style><div id=\"sk-container-id-1\" class=\"sk-top-container\"><div class=\"sk-text-repr-fallback\"><pre>IterativeImputer(max_iter=100, random_state=0, sample_posterior=True)</pre><b>In a Jupyter environment, please rerun this cell to show the HTML representation or trust the notebook. <br />On GitHub, the HTML representation is unable to render, please try loading this page with nbviewer.org.</b></div><div class=\"sk-container\" hidden><div class=\"sk-item\"><div class=\"sk-estimator sk-toggleable\"><input class=\"sk-toggleable__control sk-hidden--visually\" id=\"sk-estimator-id-1\" type=\"checkbox\" checked><label for=\"sk-estimator-id-1\" class=\"sk-toggleable__label sk-toggleable__label-arrow\">IterativeImputer</label><div class=\"sk-toggleable__content\"><pre>IterativeImputer(max_iter=100, random_state=0, sample_posterior=True)</pre></div></div></div></div></div>"
      ],
      "text/plain": [
       "IterativeImputer(max_iter=100, random_state=0, sample_posterior=True)"
      ]
     },
     "execution_count": 7,
     "metadata": {},
     "output_type": "execute_result"
    }
   ],
   "source": [
    "imp = IterativeImputer(max_iter=100, random_state=0, sample_posterior=True)\n",
    "imp.fit(x_train.values) #imputer learns from marginal distribution"
   ]
  },
  {
   "cell_type": "code",
   "execution_count": 8,
   "id": "c019b293",
   "metadata": {},
   "outputs": [
    {
     "name": "stdout",
     "output_type": "stream",
     "text": [
      "Sex                1.0\n",
      "Age               44.0\n",
      "Credit          5507.0\n",
      "LoanDuration      24.0\n",
      "Name: 520, dtype: float64\n",
      "----\n",
      "1.0\n",
      "0.7133023045412202\n",
      "0.7280000941945143\n"
     ]
    }
   ],
   "source": [
    "inst=20 # chose your treated instance\n",
    "print(x_test.iloc[inst,:])\n",
    "print('----')\n",
    "print(y_test.iloc[inst])\n",
    "print(outcome.predict_proba(x_test)[inst,1])\n",
    "print(np.mean(outcome.predict_proba(x_train)[:,1]))"
   ]
  },
  {
   "cell_type": "code",
   "execution_count": 9,
   "id": "f4d8598e",
   "metadata": {},
   "outputs": [],
   "source": [
    "from scipy import stats"
   ]
  },
  {
   "cell_type": "code",
   "execution_count": 10,
   "id": "09e3fdd9",
   "metadata": {},
   "outputs": [
    {
     "name": "stdout",
     "output_type": "stream",
     "text": [
      "65.3623188405797\n"
     ]
    },
    {
     "data": {
      "text/plain": [
       "<matplotlib.lines.Line2D at 0x7ff1e009eda0>"
      ]
     },
     "execution_count": 10,
     "metadata": {},
     "output_type": "execute_result"
    },
    {
     "data": {
      "image/png": "[encoded data removed]",
      "text/plain": [
       "<Figure size 640x480 with 1 Axes>"
      ]
     },
     "metadata": {},
     "output_type": "display_data"
    }
   ],
   "source": [
    "import matplotlib.pyplot as plt\n",
    "mask = data['Sex'] == 1\n",
    "print(stats.percentileofscore(data['LoanDuration'][mask], x_test.iloc[inst,:]['LoanDuration']))\n",
    "plt.hist(data['LoanDuration'][mask])\n",
    "plt.axvline(x=x_test.iloc[inst,:]['LoanDuration'], color='red')"
   ]
  },
  {
   "cell_type": "code",
   "execution_count": 11,
   "id": "121c7201",
   "metadata": {},
   "outputs": [
    {
     "name": "stdout",
     "output_type": "stream",
     "text": [
      "81.30434782608695\n"
     ]
    },
    {
     "data": {
      "text/plain": [
       "<matplotlib.lines.Line2D at 0x7ff1ec606830>"
      ]
     },
     "execution_count": 11,
     "metadata": {},
     "output_type": "execute_result"
    },
    {
     "data": {
      "image/png": "[encoded data removed]",
      "text/plain": [
       "<Figure size 640x480 with 1 Axes>"
      ]
     },
     "metadata": {},
     "output_type": "display_data"
    }
   ],
   "source": [
    "import matplotlib.pyplot as plt\n",
    "mask = data['Sex'] == 1\n",
    "print(stats.percentileofscore(data['Credit'][mask], x_test.iloc[inst,:]['Credit']))\n",
    "plt.hist(data['Credit'][mask])\n",
    "plt.axvline(x=x_test.iloc[inst,:]['Credit'], color='red')"
   ]
  },
  {
   "cell_type": "code",
   "execution_count": 12,
   "id": "ef33abb8",
   "metadata": {},
   "outputs": [
    {
     "name": "stdout",
     "output_type": "stream",
     "text": [
      "Execution time (s) : 1.4196689128875732\n"
     ]
    },
    {
     "name": "stderr",
     "output_type": "stream",
     "text": [
      "/home/clivio/miniconda3/envs/pwshap/lib/python3.10/site-packages/sklearn/base.py:450: UserWarning: X does not have valid feature names, but LogisticRegression was fitted with feature names\n",
      "  warnings.warn(\n"
     ]
    },
    {
     "name": "stdout",
     "output_type": "stream",
     "text": [
      "Execution time (s) : 51.33233976364136\n"
     ]
    },
    {
     "name": "stderr",
     "output_type": "stream",
     "text": [
      "/home/clivio/miniconda3/envs/pwshap/lib/python3.10/site-packages/sklearn/base.py:450: UserWarning: X does not have valid feature names, but LogisticRegression was fitted with feature names\n",
      "  warnings.warn(\n"
     ]
    },
    {
     "name": "stdout",
     "output_type": "stream",
     "text": [
      "Execution time (s) : 62.70551109313965\n"
     ]
    },
    {
     "name": "stderr",
     "output_type": "stream",
     "text": [
      "/home/clivio/miniconda3/envs/pwshap/lib/python3.10/site-packages/sklearn/base.py:450: UserWarning: X does not have valid feature names, but LogisticRegression was fitted with feature names\n",
      "  warnings.warn(\n"
     ]
    },
    {
     "name": "stdout",
     "output_type": "stream",
     "text": [
      "Execution time (s) : 116.63162660598755\n",
      "model_outcome_all 0.7133023045412201\n",
      "model_outcome_all_but_sex 0.6928323419030074\n",
      "model_outcome_all_but_credit 0.737974366885455\n",
      "model_outcome_all_but_sex_credit 0.7167359477866448\n"
     ]
    },
    {
     "name": "stderr",
     "output_type": "stream",
     "text": [
      "/home/clivio/miniconda3/envs/pwshap/lib/python3.10/site-packages/sklearn/base.py:450: UserWarning: X does not have valid feature names, but LogisticRegression was fitted with feature names\n",
      "  warnings.warn(\n"
     ]
    }
   ],
   "source": [
    "# COALITION-SPECIFIC SHAPLEY TERMS: an example (we only want the mean prediction over all reference points ultimately)\n",
    "\n",
    "model_outcome_all= np.mean(model_outcomes_coal(outcome, np.array([1, 1, 1, 1]), local_obs=x_test.iloc[inst,:].values.reshape((1,-1)), ref_point=x_train.values, imp=imp, seed=0))\n",
    "model_outcome_all_but_sex = np.mean(model_outcomes_coal(outcome, np.array([0, 1, 1, 1]), local_obs=x_test.iloc[inst,:].values.reshape((1,-1)), ref_point=x_train.values, imp=imp, seed=0))\n",
    "model_outcome_all_but_credit= np.mean(model_outcomes_coal(outcome, np.array([1, 1, 0, 1]), local_obs=x_test.iloc[inst,:].values.reshape((1,-1)), ref_point=x_train.values, imp=imp, seed=0))\n",
    "model_outcome_all_but_sex_credit = np.mean(model_outcomes_coal(outcome, np.array([0, 1, 0, 1]), local_obs=x_test.iloc[inst,:].values.reshape((1,-1)), ref_point=x_train.values, imp=imp, seed=0))\n",
    "\n",
    "print('model_outcome_all '+str(model_outcome_all))\n",
    "print('model_outcome_all_but_sex '+str(model_outcome_all_but_sex))\n",
    "print('model_outcome_all_but_credit '+str(model_outcome_all_but_credit))\n",
    "print('model_outcome_all_but_sex_credit '+str(model_outcome_all_but_sex_credit))\n"
   ]
  },
  {
   "cell_type": "code",
   "execution_count": 13,
   "id": "10dfe712",
   "metadata": {},
   "outputs": [
    {
     "name": "stdout",
     "output_type": "stream",
     "text": [
      "Execution time (s) : 63.473724126815796\n"
     ]
    },
    {
     "name": "stderr",
     "output_type": "stream",
     "text": [
      "/home/clivio/miniconda3/envs/pwshap/lib/python3.10/site-packages/sklearn/base.py:450: UserWarning: X does not have valid feature names, but LogisticRegression was fitted with feature names\n",
      "  warnings.warn(\n"
     ]
    },
    {
     "name": "stdout",
     "output_type": "stream",
     "text": [
      "Execution time (s) : 118.8544511795044\n"
     ]
    },
    {
     "name": "stderr",
     "output_type": "stream",
     "text": [
      "/home/clivio/miniconda3/envs/pwshap/lib/python3.10/site-packages/sklearn/base.py:450: UserWarning: X does not have valid feature names, but LogisticRegression was fitted with feature names\n",
      "  warnings.warn(\n"
     ]
    },
    {
     "name": "stdout",
     "output_type": "stream",
     "text": [
      "Execution time (s) : 111.34647798538208\n"
     ]
    },
    {
     "name": "stderr",
     "output_type": "stream",
     "text": [
      "/home/clivio/miniconda3/envs/pwshap/lib/python3.10/site-packages/sklearn/base.py:450: UserWarning: X does not have valid feature names, but LogisticRegression was fitted with feature names\n",
      "  warnings.warn(\n"
     ]
    },
    {
     "name": "stdout",
     "output_type": "stream",
     "text": [
      "Execution time (s) : 167.37281680107117\n"
     ]
    },
    {
     "name": "stderr",
     "output_type": "stream",
     "text": [
      "/home/clivio/miniconda3/envs/pwshap/lib/python3.10/site-packages/sklearn/base.py:450: UserWarning: X does not have valid feature names, but LogisticRegression was fitted with feature names\n",
      "  warnings.warn(\n"
     ]
    }
   ],
   "source": [
    "model_outcome_all_but_duration= np.mean(model_outcomes_coal(outcome, np.array([1, 1, 1, 0]), local_obs=x_test.iloc[inst,:].values.reshape((1,-1)), ref_point=x_train.values, imp=imp, seed=0))\n",
    "model_outcome_all_but_sex_duration = np.mean(model_outcomes_coal(outcome, np.array([0, 1, 1, 0]), local_obs=x_test.iloc[inst,:].values.reshape((1,-1)), ref_point=x_train.values, imp=imp, seed=0))\n",
    "\n",
    "model_outcome_all_but_credit_duration= np.mean(model_outcomes_coal(outcome, np.array([1, 1, 0, 0]), local_obs=x_test.iloc[inst,:].values.reshape((1,-1)), ref_point=x_train.values, imp=imp, seed=0))\n",
    "model_outcome_all_but_sex_credit_duration = np.mean(model_outcomes_coal(outcome, np.array([0, 1, 0, 0]), local_obs=x_test.iloc[inst,:].values.reshape((1,-1)), ref_point=x_train.values, imp=imp, seed=0))\n"
   ]
  },
  {
   "cell_type": "code",
   "execution_count": 14,
   "id": "90da4bfd",
   "metadata": {},
   "outputs": [
    {
     "data": {
      "text/html": [
       "<style>#sk-container-id-2 {color: black;background-color: white;}#sk-container-id-2 pre{padding: 0;}#sk-container-id-2 div.sk-toggleable {background-color: white;}#sk-container-id-2 label.sk-toggleable__label {cursor: pointer;display: block;width: 100%;margin-bottom: 0;padding: 0.3em;box-sizing: border-box;text-align: center;}#sk-container-id-2 label.sk-toggleable__label-arrow:before {content: \"▸\";float: left;margin-right: 0.25em;color: #696969;}#sk-container-id-2 label.sk-toggleable__label-arrow:hover:before {color: black;}#sk-container-id-2 div.sk-estimator:hover label.sk-toggleable__label-arrow:before {color: black;}#sk-container-id-2 div.sk-toggleable__content {max-height: 0;max-width: 0;overflow: hidden;text-align: left;background-color: #f0f8ff;}#sk-container-id-2 div.sk-toggleable__content pre {margin: 0.2em;color: black;border-radius: 0.25em;background-color: #f0f8ff;}#sk-container-id-2 input.sk-toggleable__control:checked~div.sk-toggleable__content {max-height: 200px;max-width: 100%;overflow: auto;}#sk-container-id-2 input.sk-toggleable__control:checked~label.sk-toggleable__label-arrow:before {content: \"▾\";}#sk-container-id-2 div.sk-estimator input.sk-toggleable__control:checked~label.sk-toggleable__label {background-color: #d4ebff;}#sk-container-id-2 div.sk-label input.sk-toggleable__control:checked~label.sk-toggleable__label {background-color: #d4ebff;}#sk-container-id-2 input.sk-hidden--visually {border: 0;clip: rect(1px 1px 1px 1px);clip: rect(1px, 1px, 1px, 1px);height: 1px;margin: -1px;overflow: hidden;padding: 0;position: absolute;width: 1px;}#sk-container-id-2 div.sk-estimator {font-family: monospace;background-color: #f0f8ff;border: 1px dotted black;border-radius: 0.25em;box-sizing: border-box;margin-bottom: 0.5em;}#sk-container-id-2 div.sk-estimator:hover {background-color: #d4ebff;}#sk-container-id-2 div.sk-parallel-item::after {content: \"\";width: 100%;border-bottom: 1px solid gray;flex-grow: 1;}#sk-container-id-2 div.sk-label:hover label.sk-toggleable__label {background-color: #d4ebff;}#sk-container-id-2 div.sk-serial::before {content: \"\";position: absolute;border-left: 1px solid gray;box-sizing: border-box;top: 0;bottom: 0;left: 50%;z-index: 0;}#sk-container-id-2 div.sk-serial {display: flex;flex-direction: column;align-items: center;background-color: white;padding-right: 0.2em;padding-left: 0.2em;position: relative;}#sk-container-id-2 div.sk-item {position: relative;z-index: 1;}#sk-container-id-2 div.sk-parallel {display: flex;align-items: stretch;justify-content: center;background-color: white;position: relative;}#sk-container-id-2 div.sk-item::before, #sk-container-id-2 div.sk-parallel-item::before {content: \"\";position: absolute;border-left: 1px solid gray;box-sizing: border-box;top: 0;bottom: 0;left: 50%;z-index: -1;}#sk-container-id-2 div.sk-parallel-item {display: flex;flex-direction: column;z-index: 1;position: relative;background-color: white;}#sk-container-id-2 div.sk-parallel-item:first-child::after {align-self: flex-end;width: 50%;}#sk-container-id-2 div.sk-parallel-item:last-child::after {align-self: flex-start;width: 50%;}#sk-container-id-2 div.sk-parallel-item:only-child::after {width: 0;}#sk-container-id-2 div.sk-dashed-wrapped {border: 1px dashed gray;margin: 0 0.4em 0.5em 0.4em;box-sizing: border-box;padding-bottom: 0.4em;background-color: white;}#sk-container-id-2 div.sk-label label {font-family: monospace;font-weight: bold;display: inline-block;line-height: 1.2em;}#sk-container-id-2 div.sk-label-container {text-align: center;}#sk-container-id-2 div.sk-container {/* jupyter's `normalize.less` sets `[hidden] { display: none; }` but bootstrap.min.css set `[hidden] { display: none !important; }` so we also need the `!important` here to be able to override the default hidden behavior on the sphinx rendered scikit-learn.org. See: https://github.com/scikit-learn/scikit-learn/issues/21755 */display: inline-block !important;position: relative;}#sk-container-id-2 div.sk-text-repr-fallback {display: none;}</style><div id=\"sk-container-id-2\" class=\"sk-top-container\"><div class=\"sk-text-repr-fallback\"><pre>IterativeImputer(max_iter=100, random_state=0, sample_posterior=True)</pre><b>In a Jupyter environment, please rerun this cell to show the HTML representation or trust the notebook. <br />On GitHub, the HTML representation is unable to render, please try loading this page with nbviewer.org.</b></div><div class=\"sk-container\" hidden><div class=\"sk-item\"><div class=\"sk-estimator sk-toggleable\"><input class=\"sk-toggleable__control sk-hidden--visually\" id=\"sk-estimator-id-2\" type=\"checkbox\" checked><label for=\"sk-estimator-id-2\" class=\"sk-toggleable__label sk-toggleable__label-arrow\">IterativeImputer</label><div class=\"sk-toggleable__content\"><pre>IterativeImputer(max_iter=100, random_state=0, sample_posterior=True)</pre></div></div></div></div></div>"
      ],
      "text/plain": [
       "IterativeImputer(max_iter=100, random_state=0, sample_posterior=True)"
      ]
     },
     "execution_count": 14,
     "metadata": {},
     "output_type": "execute_result"
    }
   ],
   "source": [
    "imp_all_but_sex = IterativeImputer(max_iter=100, random_state=0, sample_posterior=True)\n",
    "imp_all_but_sex.fit(x_train.drop(columns=['Sex']).values)"
   ]
  },
  {
   "cell_type": "code",
   "execution_count": 15,
   "id": "f6449dd3",
   "metadata": {},
   "outputs": [
    {
     "name": "stdout",
     "output_type": "stream",
     "text": [
      "Execution time (s) : 0.9814727306365967\n"
     ]
    },
    {
     "name": "stderr",
     "output_type": "stream",
     "text": [
      "/home/clivio/miniconda3/envs/pwshap/lib/python3.10/site-packages/sklearn/base.py:450: UserWarning: X does not have valid feature names, but LogisticRegression was fitted with feature names\n",
      "  warnings.warn(\n"
     ]
    },
    {
     "name": "stdout",
     "output_type": "stream",
     "text": [
      "Execution time (s) : 56.71106767654419\n"
     ]
    },
    {
     "name": "stderr",
     "output_type": "stream",
     "text": [
      "/home/clivio/miniconda3/envs/pwshap/lib/python3.10/site-packages/sklearn/base.py:450: UserWarning: X does not have valid feature names, but LogisticRegression was fitted with feature names\n",
      "  warnings.warn(\n"
     ]
    },
    {
     "name": "stdout",
     "output_type": "stream",
     "text": [
      "Execution time (s) : 57.62569713592529\n"
     ]
    },
    {
     "name": "stderr",
     "output_type": "stream",
     "text": [
      "/home/clivio/miniconda3/envs/pwshap/lib/python3.10/site-packages/sklearn/base.py:450: UserWarning: X does not have valid feature names, but LogisticRegression was fitted with feature names\n",
      "  warnings.warn(\n"
     ]
    },
    {
     "name": "stdout",
     "output_type": "stream",
     "text": [
      "Execution time (s) : 111.38366293907166\n",
      "weight_all_but_sex 0.24888435493286154\n",
      "weight_all_but_sex_credit 0.2565482001303895\n",
      "weight_all_but_sex_duration 0.251194644342395\n",
      "weight_all_but_sex_credit_duration 0.25562779590663265\n"
     ]
    },
    {
     "name": "stderr",
     "output_type": "stream",
     "text": [
      "/home/clivio/miniconda3/envs/pwshap/lib/python3.10/site-packages/sklearn/base.py:450: UserWarning: X does not have valid feature names, but LogisticRegression was fitted with feature names\n",
      "  warnings.warn(\n"
     ]
    }
   ],
   "source": [
    "# weights : 1 - P(T=1 knowing CS) example:\n",
    "weight_all_but_sex= 1-np.mean(model_outcomes_coal(propensity_sex, np.array([1, 1, 1]), local_obs=x_test.drop(columns=['Sex']).iloc[inst,:].values.reshape((1,-1)), ref_point=x_train.drop(columns=['Sex']).values, imp=imp_all_but_sex, seed=0))\n",
    "weight_all_but_sex_credit = 1-np.mean(model_outcomes_coal(propensity_sex, np.array([1, 0, 1]), local_obs=x_test.drop(columns=['Sex']).iloc[inst,:].values.reshape((1,-1)), ref_point=x_train.drop(columns=['Sex']).values, imp=imp_all_but_sex, seed=0))\n",
    "weight_all_but_sex_duration = 1-np.mean(model_outcomes_coal(propensity_sex, np.array([1, 1, 0]), local_obs=x_test.drop(columns=['Sex']).iloc[inst,:].values.reshape((1,-1)), ref_point=x_train.drop(columns=['Sex']).values, imp=imp_all_but_sex, seed=0))\n",
    "weight_all_but_sex_credit_duration = 1-np.mean(model_outcomes_coal(propensity_sex, np.array([1, 0, 0]), local_obs=x_test.drop(columns=['Sex']).iloc[inst,:].values.reshape((1,-1)), ref_point=x_train.drop(columns=['Sex']).values, imp=imp_all_but_sex, seed=0))\n",
    "\n",
    "print('weight_all_but_sex '+str(weight_all_but_sex))\n",
    "print('weight_all_but_sex_credit '+str(weight_all_but_sex_credit))\n",
    "print('weight_all_but_sex_duration '+str(weight_all_but_sex_duration))\n",
    "print('weight_all_but_sex_credit_duration '+str(weight_all_but_sex_credit_duration))"
   ]
  },
  {
   "cell_type": "code",
   "execution_count": 16,
   "id": "1b5591b7",
   "metadata": {},
   "outputs": [
    {
     "name": "stdout",
     "output_type": "stream",
     "text": [
      "phi_med_by_credit -0.18191592536924678\n",
      "phi_med_by_duration 0.018810230029635444\n",
      "phi_med_by_credit_duration -0.23709758505440673\n"
     ]
    }
   ],
   "source": [
    "phi_med_by_credit=((model_outcome_all-model_outcome_all_but_credit)/weight_all_but_sex)-((model_outcome_all_but_credit-model_outcome_all_but_sex_credit)/weight_all_but_sex_credit)\n",
    "phi_med_by_duration=((model_outcome_all-model_outcome_all_but_duration)/weight_all_but_sex)-((model_outcome_all_but_duration-model_outcome_all_but_sex_duration)/weight_all_but_sex_duration)\n",
    "phi_med_by_credit_duration=((model_outcome_all-model_outcome_all_but_credit_duration)/weight_all_but_sex)-((model_outcome_all_but_credit_duration-model_outcome_all_but_sex_credit_duration)/weight_all_but_sex_credit_duration)\n",
    "print('phi_med_by_credit ' +str(phi_med_by_credit))\n",
    "print('phi_med_by_duration ' +str(phi_med_by_duration))\n",
    "print('phi_med_by_credit_duration ' +str(phi_med_by_credit_duration))\n"
   ]
  },
  {
   "cell_type": "code",
   "execution_count": 17,
   "id": "fad81279",
   "metadata": {},
   "outputs": [
    {
     "name": "stdout",
     "output_type": "stream",
     "text": [
      "Execution time (s) : 173.27045798301697\n",
      "Execution time (s) : 0.020790576934814453\n",
      "Execution time (s) : 0.020689725875854492\n",
      "phi_total 0.06385957224392631\n"
     ]
    },
    {
     "name": "stderr",
     "output_type": "stream",
     "text": [
      "/home/clivio/miniconda3/envs/pwshap/lib/python3.10/site-packages/sklearn/base.py:450: UserWarning: X does not have valid feature names, but LogisticRegression was fitted with feature names\n",
      "  warnings.warn(\n",
      "/home/clivio/miniconda3/envs/pwshap/lib/python3.10/site-packages/sklearn/base.py:450: UserWarning: X does not have valid feature names, but LogisticRegression was fitted with feature names\n",
      "  warnings.warn(\n",
      "/home/clivio/miniconda3/envs/pwshap/lib/python3.10/site-packages/sklearn/base.py:450: UserWarning: X does not have valid feature names, but LogisticRegression was fitted with feature names\n",
      "  warnings.warn(\n"
     ]
    }
   ],
   "source": [
    "model_outcome_sex_only = np.mean(model_outcomes_coal(outcome, np.array([1, 0, 0, 0]), local_obs=x_test.iloc[inst,:].values.reshape((1,-1)), ref_point=x_train.values, imp=imp, seed=0))\n",
    "model_outcome_empty = np.mean(model_outcomes_coal(outcome, np.array([0, 0, 0, 0]), local_obs=x_test.iloc[inst,:].values.reshape((1,-1)), ref_point=x_train.values, imp=imp, seed=0))\n",
    "weight_empty = 1-np.mean(model_outcomes_coal(propensity_sex, np.array([0, 0, 0]), local_obs=x_test.drop(columns=['Sex']).iloc[inst,:].values.reshape((1,-1)), ref_point=x_train.drop(columns=['Sex']).values, imp=imp_all_but_sex, seed=0))\n",
    "phi_total=((model_outcome_sex_only-model_outcome_empty)/weight_empty)\n",
    "print('phi_total ' +str(phi_total))\n"
   ]
  },
  {
   "cell_type": "code",
   "execution_count": 18,
   "id": "2fc0b68e",
   "metadata": {},
   "outputs": [
    {
     "name": "stdout",
     "output_type": "stream",
     "text": [
      "phi_total 0.06385957224392631\n"
     ]
    }
   ],
   "source": [
    "print('phi_total ' +str(phi_total))\n"
   ]
  },
  {
   "cell_type": "markdown",
   "id": "197cb12f",
   "metadata": {},
   "source": [
    "## Causal Shapley"
   ]
  },
  {
   "cell_type": "code",
   "execution_count": 19,
   "id": "99e76e4e",
   "metadata": {},
   "outputs": [],
   "source": [
    "class IterativeImputerSubsets(object):\n",
    "    \n",
    "    def __init__(self, subsets=[], **kwargs):\n",
    "        \n",
    "        self.imps = []\n",
    "        self.subsets = subsets\n",
    "        for subset in self.subsets: \n",
    "            self.imps.append(IterativeImputer(**kwargs))\n",
    "\n",
    "        \n",
    "    def fit(self, x_train):\n",
    "        for imp,subset in zip(self.imps, self.subsets):\n",
    "            x_train_subset = x_train[:, subset]\n",
    "            imp.fit(x_train_subset)\n",
    "        \n",
    "    def transform(self, x):\n",
    "        x_new = x\n",
    "        for imp,subset in zip(self.imps,self.subsets):\n",
    "            x_new[:, subset] = imp.transform(x[:, subset])\n",
    "        return x_new\n",
    "    \n",
    "        "
   ]
  },
  {
   "cell_type": "code",
   "execution_count": 20,
   "id": "45298450",
   "metadata": {},
   "outputs": [],
   "source": [
    "imp_without_sex = IterativeImputerSubsets([[False,True,True,True]], max_iter=100, random_state=0, sample_posterior=True)\n",
    "imp_without_sex.fit(x_train.values) #imputer learns from marginal distribution"
   ]
  },
  {
   "cell_type": "code",
   "execution_count": 21,
   "id": "9c184b00",
   "metadata": {},
   "outputs": [],
   "source": [
    "# decorrelate a subset of features from others (but not between features in said subset)\n",
    "def decorrelate_x_train(x_train, mask_to_decorrelate):\n",
    "    x_train_decorrelated = x_train\n",
    "    idx = np.random.randint(len(x_train), size=len(x_train))\n",
    "    x_train_sampled = x_train[idx]\n",
    "    x_train_decorrelated[:,mask_to_decorrelate] = x_train_sampled[:,mask_to_decorrelate]\n",
    "    return x_train_decorrelated"
   ]
  },
  {
   "cell_type": "code",
   "execution_count": 22,
   "id": "1cdf7da8",
   "metadata": {},
   "outputs": [],
   "source": [
    "x_train_do_credit = decorrelate_x_train(x_train.values, [False,False,True,True])\n",
    "imp_do_credit = IterativeImputer(max_iter=100, random_state=0, sample_posterior=True)\n",
    "imp_do_credit.fit(x_train_do_credit) \n",
    "imp_do_credit_without_sex =  IterativeImputerSubsets([[False,True,True,True]], max_iter=100, random_state=0, sample_posterior=True)\n",
    "imp_do_credit_without_sex.fit(x_train_do_credit) "
   ]
  },
  {
   "cell_type": "code",
   "execution_count": 23,
   "id": "fc949bcd",
   "metadata": {},
   "outputs": [],
   "source": [
    "x_train_do_duration = decorrelate_x_train(x_train.values, [False,False,False,True])\n",
    "imp_do_duration = IterativeImputer(max_iter=100, random_state=0, sample_posterior=True)\n",
    "imp_do_duration.fit(x_train_do_duration) \n",
    "imp_do_duration_without_sex =  IterativeImputerSubsets([[False,True,True,True]], max_iter=100, random_state=0, sample_posterior=True)\n",
    "imp_do_duration_without_sex.fit(x_train_do_duration) "
   ]
  },
  {
   "cell_type": "code",
   "execution_count": 24,
   "id": "bd910a88",
   "metadata": {},
   "outputs": [
    {
     "name": "stdout",
     "output_type": "stream",
     "text": [
      "Execution time (s) : 0.038576602935791016\n",
      "Execution time (s) : 0.027872562408447266\n",
      "Execution time (s) : 0.03819394111633301\n"
     ]
    },
    {
     "name": "stderr",
     "output_type": "stream",
     "text": [
      "/home/clivio/miniconda3/envs/pwshap/lib/python3.10/site-packages/sklearn/base.py:450: UserWarning: X does not have valid feature names, but LogisticRegression was fitted with feature names\n",
      "  warnings.warn(\n",
      "/home/clivio/miniconda3/envs/pwshap/lib/python3.10/site-packages/sklearn/base.py:450: UserWarning: X does not have valid feature names, but LogisticRegression was fitted with feature names\n",
      "  warnings.warn(\n",
      "/home/clivio/miniconda3/envs/pwshap/lib/python3.10/site-packages/sklearn/base.py:450: UserWarning: X does not have valid feature names, but LogisticRegression was fitted with feature names\n",
      "  warnings.warn(\n"
     ]
    },
    {
     "data": {
      "text/plain": [
       "(0.02503473881392071, 0.0)"
      ]
     },
     "execution_count": 24,
     "metadata": {},
     "output_type": "execute_result"
    }
   ],
   "source": [
    "# Full coalition - the distribution is mutually independent\n",
    "model_outcome_all_cs = np.mean(model_outcomes_coal(outcome, np.array([1, 1, 1, 1]), local_obs=x_test.iloc[inst,:].values.reshape((1,-1)), ref_point=x_train.values, imp=None, seed=0))\n",
    "model_outcome_all_but_sex_cs = np.mean(model_outcomes_coal(outcome, np.array([0, 1, 1, 1]), local_obs=x_test.iloc[inst,:].values.reshape((1,-1)), ref_point=x_train.values, imp=None, seed=0))\n",
    "model_outcome_all_impwithoutsex_cs = np.mean(model_outcomes_coal(outcome, np.array([1, 1, 1, 1]), local_obs=x_test.iloc[inst,:].values.reshape((1,-1)), ref_point=x_train.values, imp=None, seed=0))\n",
    "\n",
    "phi_direct_cs_full_coalition = model_outcome_all_impwithoutsex_cs - model_outcome_all_but_sex_cs\n",
    "phi_indirect_cs_full_coalition = model_outcome_all_cs - model_outcome_all_impwithoutsex_cs\n",
    "phi_direct_cs_full_coalition, phi_indirect_cs_full_coalition"
   ]
  },
  {
   "cell_type": "code",
   "execution_count": 25,
   "id": "ab4dfa43",
   "metadata": {},
   "outputs": [
    {
     "name": "stdout",
     "output_type": "stream",
     "text": [
      "Execution time (s) : 0.0336909294128418\n",
      "Execution time (s) : 0.028975725173950195\n",
      "Execution time (s) : 0.026050567626953125\n"
     ]
    },
    {
     "name": "stderr",
     "output_type": "stream",
     "text": [
      "/home/clivio/miniconda3/envs/pwshap/lib/python3.10/site-packages/sklearn/base.py:450: UserWarning: X does not have valid feature names, but LogisticRegression was fitted with feature names\n",
      "  warnings.warn(\n",
      "/home/clivio/miniconda3/envs/pwshap/lib/python3.10/site-packages/sklearn/base.py:450: UserWarning: X does not have valid feature names, but LogisticRegression was fitted with feature names\n",
      "  warnings.warn(\n",
      "/home/clivio/miniconda3/envs/pwshap/lib/python3.10/site-packages/sklearn/base.py:450: UserWarning: X does not have valid feature names, but LogisticRegression was fitted with feature names\n",
      "  warnings.warn(\n"
     ]
    },
    {
     "data": {
      "text/plain": [
       "(0.02540511385424915, 0.00075283507963253)"
      ]
     },
     "execution_count": 25,
     "metadata": {},
     "output_type": "execute_result"
    }
   ],
   "source": [
    "# Credit and duration coalition - the distribution is mutually independent\n",
    "model_outcome_all_but_age_cs = np.mean(model_outcomes_coal(outcome, np.array([1, 0, 1, 1]), local_obs=x_test.iloc[inst,:].values.reshape((1,-1)), ref_point=x_train.values, imp=None, seed=0))\n",
    "model_outcome_all_but_sex_age_cs = np.mean(model_outcomes_coal(outcome, np.array([0, 0, 1, 1]), local_obs=x_test.iloc[inst,:].values.reshape((1,-1)), ref_point=x_train.values, imp=None, seed=0))\n",
    "model_outcome_all_but_age_impwithoutsex_cs = np.mean(model_outcomes_coal(outcome, np.array([1, 0, 1, 1]), local_obs=x_test.iloc[inst,:].values.reshape((1,-1)), ref_point=x_train.values, imp=None, seed=0))\n",
    "\n",
    "phi_direct_cs_credit_duration_coalition = model_outcome_all_but_age_impwithoutsex_cs - model_outcome_all_but_sex_age_cs\n",
    "phi_indirect_cs_credit_duration_coalition = model_outcome_all_but_age_cs - model_outcome_all_but_age_impwithoutsex_cs\n",
    "phi_direct_cs_credit_duration_coalition, phi_indirect_cs_credit_duration_coalition"
   ]
  },
  {
   "cell_type": "code",
   "execution_count": 26,
   "id": "60473c96",
   "metadata": {},
   "outputs": [
    {
     "name": "stdout",
     "output_type": "stream",
     "text": [
      "Execution time (s) : 58.661588191986084\n"
     ]
    },
    {
     "name": "stderr",
     "output_type": "stream",
     "text": [
      "/home/clivio/miniconda3/envs/pwshap/lib/python3.10/site-packages/sklearn/base.py:450: UserWarning: X does not have valid feature names, but LogisticRegression was fitted with feature names\n",
      "  warnings.warn(\n"
     ]
    },
    {
     "name": "stdout",
     "output_type": "stream",
     "text": [
      "Execution time (s) : 120.74186611175537\n"
     ]
    },
    {
     "name": "stderr",
     "output_type": "stream",
     "text": [
      "/home/clivio/miniconda3/envs/pwshap/lib/python3.10/site-packages/sklearn/base.py:450: UserWarning: X does not have valid feature names, but LogisticRegression was fitted with feature names\n",
      "  warnings.warn(\n"
     ]
    },
    {
     "name": "stdout",
     "output_type": "stream",
     "text": [
      "Execution time (s) : 58.08226418495178\n"
     ]
    },
    {
     "name": "stderr",
     "output_type": "stream",
     "text": [
      "/home/clivio/miniconda3/envs/pwshap/lib/python3.10/site-packages/sklearn/base.py:450: UserWarning: X does not have valid feature names, but LogisticRegression was fitted with feature names\n",
      "  warnings.warn(\n"
     ]
    },
    {
     "data": {
      "text/plain": [
       "(0.019277581061445725, 2.586078018396165e-10)"
      ]
     },
     "execution_count": 26,
     "metadata": {},
     "output_type": "execute_result"
    }
   ],
   "source": [
    "# Age and duration coalition - credit is still dependent on sex and age but duration becomes independent\n",
    "model_outcome_all_but_credit_cs = np.mean(model_outcomes_coal(outcome, np.array([1, 1, 0, 1]), local_obs=x_test.iloc[inst,:].values.reshape((1,-1)), ref_point=x_train.values, imp=imp_do_duration, seed=0))\n",
    "model_outcome_all_but_sex_credit_cs = np.mean(model_outcomes_coal(outcome, np.array([0, 1, 0, 1]), local_obs=x_test.iloc[inst,:].values.reshape((1,-1)), ref_point=x_train.values, imp=imp_do_duration, seed=0))\n",
    "model_outcome_all_but_credit_impwithoutsex_cs = np.mean(model_outcomes_coal(outcome, np.array([1, 1, 0, 1]), local_obs=x_test.iloc[inst,:].values.reshape((1,-1)), ref_point=x_train.values, imp=imp_do_duration_without_sex, seed=0))\n",
    "\n",
    "phi_direct_cs_age_duration_coalition = model_outcome_all_but_credit_impwithoutsex_cs - model_outcome_all_but_sex_credit_cs\n",
    "phi_indirect_cs_age_duration_coalition = model_outcome_all_but_credit_cs - model_outcome_all_but_credit_impwithoutsex_cs\n",
    "phi_direct_cs_age_duration_coalition, phi_indirect_cs_age_duration_coalition"
   ]
  },
  {
   "cell_type": "code",
   "execution_count": 27,
   "id": "402c947b",
   "metadata": {},
   "outputs": [
    {
     "name": "stdout",
     "output_type": "stream",
     "text": [
      "Execution time (s) : 59.183905839920044\n"
     ]
    },
    {
     "name": "stderr",
     "output_type": "stream",
     "text": [
      "/home/clivio/miniconda3/envs/pwshap/lib/python3.10/site-packages/sklearn/base.py:450: UserWarning: X does not have valid feature names, but LogisticRegression was fitted with feature names\n",
      "  warnings.warn(\n"
     ]
    },
    {
     "name": "stdout",
     "output_type": "stream",
     "text": [
      "Execution time (s) : 119.81734275817871\n"
     ]
    },
    {
     "name": "stderr",
     "output_type": "stream",
     "text": [
      "/home/clivio/miniconda3/envs/pwshap/lib/python3.10/site-packages/sklearn/base.py:450: UserWarning: X does not have valid feature names, but LogisticRegression was fitted with feature names\n",
      "  warnings.warn(\n"
     ]
    },
    {
     "name": "stdout",
     "output_type": "stream",
     "text": [
      "Execution time (s) : 57.7238986492157\n"
     ]
    },
    {
     "name": "stderr",
     "output_type": "stream",
     "text": [
      "/home/clivio/miniconda3/envs/pwshap/lib/python3.10/site-packages/sklearn/base.py:450: UserWarning: X does not have valid feature names, but LogisticRegression was fitted with feature names\n",
      "  warnings.warn(\n"
     ]
    },
    {
     "data": {
      "text/plain": [
       "(0.020649097115349124, -6.162021037869891e-08)"
      ]
     },
     "execution_count": 27,
     "metadata": {},
     "output_type": "execute_result"
    }
   ],
   "source": [
    "# Age and credit coalition - credit is independent but duration depends on credit\n",
    "model_outcome_all_but_duration_cs = np.mean(model_outcomes_coal(outcome, np.array([1, 1, 1, 0]), local_obs=x_test.iloc[inst,:].values.reshape((1,-1)), ref_point=x_train.values, imp=imp_do_credit, seed=0))\n",
    "model_outcome_all_but_sex_duration_cs = np.mean(model_outcomes_coal(outcome, np.array([0, 1, 1, 0]), local_obs=x_test.iloc[inst,:].values.reshape((1,-1)), ref_point=x_train.values, imp=imp_do_credit, seed=0))\n",
    "model_outcome_all_but_duration_impwithoutsex_cs = np.mean(model_outcomes_coal(outcome, np.array([1, 1, 1, 0]), local_obs=x_test.iloc[inst,:].values.reshape((1,-1)), ref_point=x_train.values, imp=imp_do_credit_without_sex, seed=0))\n",
    "\n",
    "phi_direct_cs_age_credit_coalition = model_outcome_all_but_duration_impwithoutsex_cs - model_outcome_all_but_sex_duration_cs\n",
    "phi_indirect_cs_age_credit_coalition = model_outcome_all_but_duration_cs - model_outcome_all_but_duration_impwithoutsex_cs\n",
    "phi_direct_cs_age_credit_coalition, phi_indirect_cs_age_credit_coalition"
   ]
  },
  {
   "cell_type": "code",
   "execution_count": 28,
   "id": "7354e80c",
   "metadata": {},
   "outputs": [
    {
     "name": "stdout",
     "output_type": "stream",
     "text": [
      "Execution time (s) : 111.2486367225647\n"
     ]
    },
    {
     "name": "stderr",
     "output_type": "stream",
     "text": [
      "/home/clivio/miniconda3/envs/pwshap/lib/python3.10/site-packages/sklearn/base.py:450: UserWarning: X does not have valid feature names, but LogisticRegression was fitted with feature names\n",
      "  warnings.warn(\n"
     ]
    },
    {
     "name": "stdout",
     "output_type": "stream",
     "text": [
      "Execution time (s) : 177.3137903213501\n"
     ]
    },
    {
     "name": "stderr",
     "output_type": "stream",
     "text": [
      "/home/clivio/miniconda3/envs/pwshap/lib/python3.10/site-packages/sklearn/base.py:450: UserWarning: X does not have valid feature names, but LogisticRegression was fitted with feature names\n",
      "  warnings.warn(\n"
     ]
    },
    {
     "name": "stdout",
     "output_type": "stream",
     "text": [
      "Execution time (s) : 120.71589159965515\n"
     ]
    },
    {
     "name": "stderr",
     "output_type": "stream",
     "text": [
      "/home/clivio/miniconda3/envs/pwshap/lib/python3.10/site-packages/sklearn/base.py:450: UserWarning: X does not have valid feature names, but LogisticRegression was fitted with feature names\n",
      "  warnings.warn(\n"
     ]
    },
    {
     "data": {
      "text/plain": [
       "(0.016986249998860448, 0.004590392112703623)"
      ]
     },
     "execution_count": 28,
     "metadata": {},
     "output_type": "execute_result"
    }
   ],
   "source": [
    "# Age coalition - the do-distribution is like the conditional distribution\n",
    "model_outcome_all_but_credit_duration_cs = np.mean(model_outcomes_coal(outcome, np.array([1, 1, 0, 0]), local_obs=x_test.iloc[inst,:].values.reshape((1,-1)), ref_point=x_train.values, imp=imp, seed=0))\n",
    "model_outcome_all_but_sex_credit_duration_cs = np.mean(model_outcomes_coal(outcome, np.array([0, 1, 0, 0]), local_obs=x_test.iloc[inst,:].values.reshape((1,-1)), ref_point=x_train.values, imp=imp, seed=0))\n",
    "model_outcome_all_but_credit_duration_impwithoutsex_cs = np.mean(model_outcomes_coal(outcome, np.array([1, 1, 0, 0]), local_obs=x_test.iloc[inst,:].values.reshape((1,-1)), ref_point=x_train.values, imp=imp_without_sex, seed=0))\n",
    "\n",
    "phi_direct_cs_age_coalition = model_outcome_all_but_credit_duration_impwithoutsex_cs - model_outcome_all_but_sex_credit_duration_cs\n",
    "phi_indirect_cs_age_coalition = model_outcome_all_but_credit_duration_cs - model_outcome_all_but_credit_duration_impwithoutsex_cs\n",
    "phi_direct_cs_age_coalition, phi_indirect_cs_age_coalition"
   ]
  },
  {
   "cell_type": "code",
   "execution_count": 29,
   "id": "3914d748",
   "metadata": {},
   "outputs": [
    {
     "name": "stdout",
     "output_type": "stream",
     "text": [
      "Execution time (s) : 128.25567770004272\n"
     ]
    },
    {
     "name": "stderr",
     "output_type": "stream",
     "text": [
      "/home/clivio/miniconda3/envs/pwshap/lib/python3.10/site-packages/sklearn/base.py:450: UserWarning: X does not have valid feature names, but LogisticRegression was fitted with feature names\n",
      "  warnings.warn(\n"
     ]
    },
    {
     "name": "stdout",
     "output_type": "stream",
     "text": [
      "Execution time (s) : 186.42379117012024\n"
     ]
    },
    {
     "name": "stderr",
     "output_type": "stream",
     "text": [
      "/home/clivio/miniconda3/envs/pwshap/lib/python3.10/site-packages/sklearn/base.py:450: UserWarning: X does not have valid feature names, but LogisticRegression was fitted with feature names\n",
      "  warnings.warn(\n"
     ]
    },
    {
     "name": "stdout",
     "output_type": "stream",
     "text": [
      "Execution time (s) : 116.98232555389404\n"
     ]
    },
    {
     "name": "stderr",
     "output_type": "stream",
     "text": [
      "/home/clivio/miniconda3/envs/pwshap/lib/python3.10/site-packages/sklearn/base.py:450: UserWarning: X does not have valid feature names, but LogisticRegression was fitted with feature names\n",
      "  warnings.warn(\n"
     ]
    },
    {
     "data": {
      "text/plain": [
       "(0.027354042468397233, -0.002490234972978733)"
      ]
     },
     "execution_count": 29,
     "metadata": {},
     "output_type": "execute_result"
    }
   ],
   "source": [
    "# Credit coalition - credit is independent but duration depends on credit\n",
    "model_outcome_all_but_age_duration_cs = np.mean(model_outcomes_coal(outcome, np.array([1, 0, 1, 0]), local_obs=x_test.iloc[inst,:].values.reshape((1,-1)), ref_point=x_train.values, imp=imp_do_credit, seed=0))\n",
    "model_outcome_all_but_sex_age_duration_cs = np.mean(model_outcomes_coal(outcome, np.array([0, 0, 1, 0]), local_obs=x_test.iloc[inst,:].values.reshape((1,-1)), ref_point=x_train.values, imp=imp_do_credit, seed=0))\n",
    "model_outcome_all_but_age_duration_impwithoutsex_cs = np.mean(model_outcomes_coal(outcome, np.array([1, 0, 1, 0]), local_obs=x_test.iloc[inst,:].values.reshape((1,-1)), ref_point=x_train.values, imp=imp_do_credit_without_sex, seed=0))\n",
    "\n",
    "phi_direct_cs_credit_coalition = model_outcome_all_but_age_duration_impwithoutsex_cs - model_outcome_all_but_sex_age_duration_cs\n",
    "phi_indirect_cs_credit_coalition = model_outcome_all_but_age_duration_cs - model_outcome_all_but_age_duration_impwithoutsex_cs\n",
    "phi_direct_cs_credit_coalition, phi_indirect_cs_credit_coalition"
   ]
  },
  {
   "cell_type": "code",
   "execution_count": 30,
   "id": "bf995584",
   "metadata": {},
   "outputs": [
    {
     "name": "stdout",
     "output_type": "stream",
     "text": [
      "Execution time (s) : 119.47027063369751\n"
     ]
    },
    {
     "name": "stderr",
     "output_type": "stream",
     "text": [
      "/home/clivio/miniconda3/envs/pwshap/lib/python3.10/site-packages/sklearn/base.py:450: UserWarning: X does not have valid feature names, but LogisticRegression was fitted with feature names\n",
      "  warnings.warn(\n"
     ]
    },
    {
     "name": "stdout",
     "output_type": "stream",
     "text": [
      "Execution time (s) : 166.37941241264343\n"
     ]
    },
    {
     "name": "stderr",
     "output_type": "stream",
     "text": [
      "/home/clivio/miniconda3/envs/pwshap/lib/python3.10/site-packages/sklearn/base.py:450: UserWarning: X does not have valid feature names, but LogisticRegression was fitted with feature names\n",
      "  warnings.warn(\n"
     ]
    },
    {
     "name": "stdout",
     "output_type": "stream",
     "text": [
      "Execution time (s) : 115.44391918182373\n"
     ]
    },
    {
     "name": "stderr",
     "output_type": "stream",
     "text": [
      "/home/clivio/miniconda3/envs/pwshap/lib/python3.10/site-packages/sklearn/base.py:450: UserWarning: X does not have valid feature names, but LogisticRegression was fitted with feature names\n",
      "  warnings.warn(\n"
     ]
    },
    {
     "data": {
      "text/plain": [
       "(0.02518009489642259, -0.0017089441178576026)"
      ]
     },
     "execution_count": 30,
     "metadata": {},
     "output_type": "execute_result"
    }
   ],
   "source": [
    "# Duration coalition - credit is still dependent on sex and age but duration becomes independent\n",
    "model_outcome_all_but_age_credit_cs = np.mean(model_outcomes_coal(outcome, np.array([1, 0, 0, 1]), local_obs=x_test.iloc[inst,:].values.reshape((1,-1)), ref_point=x_train.values, imp=imp_do_duration, seed=0))\n",
    "model_outcome_all_but_sex_age_credit_cs = np.mean(model_outcomes_coal(outcome, np.array([0, 0, 0, 1]), local_obs=x_test.iloc[inst,:].values.reshape((1,-1)), ref_point=x_train.values, imp=imp_do_duration, seed=0))\n",
    "model_outcome_all_but_age_credit_impwithoutsex_cs = np.mean(model_outcomes_coal(outcome, np.array([1, 0, 0, 1]), local_obs=x_test.iloc[inst,:].values.reshape((1,-1)), ref_point=x_train.values, imp=imp_do_duration_without_sex, seed=0))\n",
    "\n",
    "phi_direct_cs_duration_coalition = model_outcome_all_but_age_credit_impwithoutsex_cs - model_outcome_all_but_sex_age_credit_cs\n",
    "phi_indirect_cs_duration_coalition = model_outcome_all_but_age_credit_cs - model_outcome_all_but_age_credit_impwithoutsex_cs\n",
    "phi_direct_cs_duration_coalition, phi_indirect_cs_duration_coalition"
   ]
  },
  {
   "cell_type": "code",
   "execution_count": 31,
   "id": "05291e45",
   "metadata": {},
   "outputs": [
    {
     "name": "stdout",
     "output_type": "stream",
     "text": [
      "Execution time (s) : 170.43746042251587\n",
      "Execution time (s) : 0.023874521255493164\n",
      "Execution time (s) : 0.16155695915222168\n"
     ]
    },
    {
     "name": "stderr",
     "output_type": "stream",
     "text": [
      "/home/clivio/miniconda3/envs/pwshap/lib/python3.10/site-packages/sklearn/base.py:450: UserWarning: X does not have valid feature names, but LogisticRegression was fitted with feature names\n",
      "  warnings.warn(\n",
      "/home/clivio/miniconda3/envs/pwshap/lib/python3.10/site-packages/sklearn/base.py:450: UserWarning: X does not have valid feature names, but LogisticRegression was fitted with feature names\n",
      "  warnings.warn(\n",
      "/home/clivio/miniconda3/envs/pwshap/lib/python3.10/site-packages/sklearn/base.py:450: UserWarning: X does not have valid feature names, but LogisticRegression was fitted with feature names\n",
      "  warnings.warn(\n"
     ]
    },
    {
     "data": {
      "text/plain": [
       "(0.03502315809999279, 0.017635615972740215)"
      ]
     },
     "execution_count": 31,
     "metadata": {},
     "output_type": "execute_result"
    }
   ],
   "source": [
    "# Null coalition - - the do-distribution is like the conditional distribution\n",
    "model_outcome_all_but_age_credit_duration_cs = np.mean(model_outcomes_coal(outcome, np.array([1, 0, 0, 0]), local_obs=x_test.iloc[inst,:].values.reshape((1,-1)), ref_point=x_train.values, imp=imp, seed=0))\n",
    "model_outcome_all_but_sex_age_credit_duration_cs = np.mean(model_outcomes_coal(outcome, np.array([0, 0, 0, 0]), local_obs=x_test.iloc[inst,:].values.reshape((1,-1)), ref_point=x_train.values, imp=imp, seed=0))\n",
    "model_outcome_all_but_age_credit_duration_impwithoutsex_cs = np.mean(model_outcomes_coal(outcome, np.array([1, 0, 0, 0]), local_obs=x_test.iloc[inst,:].values.reshape((1,-1)), ref_point=x_train.values, imp=imp_without_sex, seed=0))\n",
    "\n",
    "phi_direct_cs_empty_coalition = model_outcome_all_but_age_credit_duration_impwithoutsex_cs - model_outcome_all_but_sex_age_credit_duration_cs\n",
    "phi_indirect_cs_empty_coalition = model_outcome_all_but_age_credit_duration_cs - model_outcome_all_but_age_credit_impwithoutsex_cs\n",
    "phi_direct_cs_empty_coalition, phi_indirect_cs_empty_coalition"
   ]
  },
  {
   "cell_type": "raw",
   "id": "32634988",
   "metadata": {},
   "source": [
    "Total direct and indirect effects"
   ]
  },
  {
   "cell_type": "code",
   "execution_count": 32,
   "id": "f73379f7",
   "metadata": {},
   "outputs": [
    {
     "name": "stdout",
     "output_type": "stream",
     "text": [
      "phi_direct_cs  0.026252155844705395\n",
      "phi_indirect_cs  0.0045042362215098235\n"
     ]
    }
   ],
   "source": [
    "phi_direct_cs = 1/4*phi_direct_cs_full_coalition + 1/12*phi_direct_cs_credit_duration_coalition + 1/12*phi_direct_cs_age_duration_coalition+ 1/12*phi_direct_cs_age_credit_coalition + 1/12*phi_direct_cs_age_coalition+ 1/12*phi_direct_cs_credit_coalition + 1/12*phi_direct_cs_duration_coalition + 1/4*phi_direct_cs_empty_coalition\n",
    "phi_indirect_cs = 1/4*phi_indirect_cs_full_coalition + 1/12*phi_indirect_cs_credit_duration_coalition + 1/12*phi_indirect_cs_age_duration_coalition+ 1/12*phi_indirect_cs_age_credit_coalition + 1/12*phi_indirect_cs_age_coalition+ 1/12*phi_indirect_cs_credit_coalition + 1/12*phi_indirect_cs_duration_coalition + 1/4*phi_indirect_cs_empty_coalition\n",
    "\n",
    "\n",
    "print('phi_direct_cs ', phi_direct_cs)\n",
    "print('phi_indirect_cs ',  phi_indirect_cs)\n",
    "\n",
    "\n"
   ]
  },
  {
   "cell_type": "code",
   "execution_count": null,
   "id": "55d53cef",
   "metadata": {},
   "outputs": [],
   "source": [
    "\n"
   ]
  }
 ],
 "metadata": {
  "hide_input": false,
  "kernelspec": {
   "display_name": "Python 3 (ipykernel)",
   "language": "python",
   "name": "python3"
  },
  "language_info": {
   "codemirror_mode": {
    "name": "ipython",
    "version": 3
   },
   "file_extension": ".py",
   "mimetype": "text/x-python",
   "name": "python",
   "nbconvert_exporter": "python",
   "pygments_lexer": "ipython3",
   "version": "3.10.4"
  }
 },
 "nbformat": 4,
 "nbformat_minor": 5
}
