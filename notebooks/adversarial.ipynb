{
 "cells": [
  {
   "cell_type": "code",
   "execution_count": 1,
   "id": "0139a6c0",
   "metadata": {},
   "outputs": [],
   "source": [
    "import matplotlib.pyplot as plt\n",
    "import numpy as np\n",
    "import pandas as pd\n",
    "import seaborn as sns\n",
    "import math\n",
    "import scipy\n",
    "from sklearn.experimental import enable_iterative_imputer\n",
    "from sklearn.impute import IterativeImputer\n",
    "from sklearn.linear_model import BayesianRidge, LogisticRegression\n",
    "from sklearn.ensemble import RandomForestClassifier\n",
    "from sklearn.preprocessing import StandardScaler\n",
    "from sklearn.metrics import roc_auc_score\n",
    "\n",
    "import pathlib\n",
    "import sklearn.metrics\n",
    "from scipy.stats import gaussian_kde\n",
    "import matplotlib.cm as cm\n",
    "\n",
    "import random\n",
    "import time"
   ]
  },
  {
   "cell_type": "code",
   "execution_count": 2,
   "id": "9b39c4d0",
   "metadata": {},
   "outputs": [],
   "source": [
    "\n",
    "def model_outcomes_coal(model, coal, local_obs, ref_point, imp=None, predict_proba=False, seed=0):\n",
    "    \n",
    "    start = time.time()\n",
    "    \n",
    "    ## this function outputs a list of all model predictions for a single coalition\n",
    "    # the input is the coalition of interest as a binary vector eg. [1,1,0,1]\n",
    "    # ref point is the entire reference distirbution (here we take x_train)\n",
    "    # local_obs is the instance we aim to explain\n",
    "    \n",
    "    n_obs, d_obs = np.shape(local_obs)\n",
    "\n",
    "    # we consider all 2**n coalitions and all n reference points\n",
    "    # get constants\n",
    "    \n",
    "    n, d = np.shape(ref_point)\n",
    "    assert d == d_obs\n",
    "    \n",
    "    # train imputation algorithm for conditional references   \n",
    "    # create an \"all_imputed_coalitions\" 3D matrix with all \"artificial inputs\" we get by imputing\n",
    "    coalitions = np.array([[int(i) for i in '0'*((d)-len(bin(j))+2) + bin(j)[2:]] for j in range(2**d)]) \n",
    "    all_imputed_coalitions = np.zeros((n_obs, n, d))\n",
    "    \n",
    "    \n",
    "    \n",
    "    \n",
    "     ## below we build the concatenated inputs using conditional imputation for dropped features and averages\n",
    "    for k in range(n):#reference point index\n",
    "        vect=(1-coal) \n",
    "        vect = vect.astype('float')\n",
    "        vect[vect == 1] = 'nan'    # vect is a binary vector of being \"absent\" ('nan') or \"present\" (1)\n",
    "        # impute conditionally with Bayesian Ridge MICE \n",
    "        imputed_coalitions = coal * local_obs + vect #either local obs value or 'nan'\n",
    "        #print(imputed_coalitions)\n",
    "        nans = (np.isnan(imputed_coalitions).sum(axis=0) > 0)\n",
    "        if imp is None:\n",
    "            idx = np.random.randint(n, size=n_obs)\n",
    "            imputation = ref_point[idx]\n",
    "            imputed_coalitions[:,nans] = imputation[:,nans]\n",
    "        else:\n",
    "            imputed_coalitions = imp.transform(imputed_coalitions)\n",
    "        all_imputed_coalitions[:, k, :] = imputed_coalitions\n",
    "        \n",
    "    end = time.time()\n",
    "    print('Execution time (s) :', end - start)\n",
    "    #we ultimately return the model predictions\n",
    "    if predict_proba:\n",
    "        outputs = model.predict_proba(all_imputed_coalitions.reshape(n_obs * n, d))[:,1].reshape(n_obs, n)\n",
    "        obs = coal * local_obs + vect\n",
    "        return outputs\n",
    "    else:\n",
    "        return model.predict(all_imputed_coalitions.reshape(n_obs * n, d)).reshape(n_obs, n)\n"
   ]
  },
  {
   "cell_type": "code",
   "execution_count": 3,
   "id": "e02f2b9d",
   "metadata": {},
   "outputs": [],
   "source": [
    "np.random.seed(0)\n",
    "N = 500\n",
    "p = 0.5 * np.ones(N)\n",
    "t = np.random.binomial(n=1, p=p)\n",
    "\n",
    "q = np.random.uniform(size=N)\n",
    "prob = 0.99\n",
    "delta_prob = 2*prob - 1\n",
    "d = np.random.binomial(n=1, p=prob - delta_prob * t)\n",
    "\n",
    "q_mean = np.mean(q)\n",
    "d_mean = np.mean(d)\n",
    "t_mean = np.mean(t)"
   ]
  },
  {
   "cell_type": "code",
   "execution_count": 4,
   "id": "bd2ec42a",
   "metadata": {},
   "outputs": [],
   "source": [
    "class ModelWrapper(object):\n",
    "    \n",
    "    def __init__(self, func):\n",
    "        self.func = func\n",
    "        \n",
    "    def predict_proba(self, x):\n",
    "        probas = self.func(x).reshape(-1,1)\n",
    "        probas_sklearn = np.hstack([1 - probas, probas])\n",
    "        return probas_sklearn\n",
    "    \n",
    "    def predict(self, x):\n",
    "        probs = self.predict_proba(x)\n",
    "        return (probs[:,1] > probs[:,0])\n",
    "    \n",
    "    def score(self, x, y):\n",
    "        return np.mean(self.predict(x) == y)"
   ]
  },
  {
   "cell_type": "code",
   "execution_count": 5,
   "id": "d9d3a51a",
   "metadata": {},
   "outputs": [],
   "source": [
    "def indep_predict_proba(x):\n",
    "        x = np.array(x)\n",
    "        d = x[:,1]\n",
    "        q = x[:,0]\n",
    "        t = x[:,2]\n",
    "        p1 = (1-t)*(prob - delta_prob * d) + t*(1 - prob + delta_prob * d)\n",
    "        return p1"
   ]
  },
  {
   "cell_type": "code",
   "execution_count": 6,
   "id": "945980d9",
   "metadata": {},
   "outputs": [],
   "source": [
    "indep_classifier = ModelWrapper(indep_predict_proba)"
   ]
  },
  {
   "cell_type": "code",
   "execution_count": 7,
   "id": "da1d888c",
   "metadata": {},
   "outputs": [],
   "source": [
    "x = pd.DataFrame({'q': q, 'd': d, 't': t})\n",
    "prop_train = 0.5\n",
    "N_train = int(prop_train * N)\n",
    "x_train = x.iloc[:N_train]\n",
    "x_test = x.iloc[N_train:]"
   ]
  },
  {
   "cell_type": "code",
   "execution_count": 8,
   "id": "f8cd26dd",
   "metadata": {},
   "outputs": [],
   "source": [
    "imp = IterativeImputer(max_iter=100, random_state=0, sample_posterior=True)\n",
    "imp.fit(x_train.values) #imputer learns from marginal distribution\n",
    "\n",
    "\n",
    "imp_all_but_t = IterativeImputer(max_iter=100, random_state=0, sample_posterior=True)\n",
    "imp_all_but_t.fit(x_train[['q','d']].values)\n",
    "\n",
    "imp_off = None"
   ]
  },
  {
   "cell_type": "code",
   "execution_count": 9,
   "id": "e8be4fe6",
   "metadata": {},
   "outputs": [],
   "source": [
    "\n",
    "x_indep = pd.DataFrame({'q': np.random.permutation(q), 'd': np.random.permutation(d), 't': np.random.permutation(t)})\n",
    "x_indep_train = x_indep.iloc[:N_train]\n",
    "x_indep_test = x_indep.iloc[N_train:]\n"
   ]
  },
  {
   "cell_type": "code",
   "execution_count": 10,
   "id": "3254eccd",
   "metadata": {},
   "outputs": [
    {
     "data": {
      "text/plain": [
       "0.988"
      ]
     },
     "execution_count": 10,
     "metadata": {},
     "output_type": "execute_result"
    }
   ],
   "source": [
    "indep_classifier.score(np.vstack([x_train]), np.hstack([np.zeros(len(x_train))]))"
   ]
  },
  {
   "cell_type": "code",
   "execution_count": 11,
   "id": "927ff83d",
   "metadata": {},
   "outputs": [
    {
     "data": {
      "text/plain": [
       "0.464"
      ]
     },
     "execution_count": 11,
     "metadata": {},
     "output_type": "execute_result"
    }
   ],
   "source": [
    "indep_classifier.score(np.vstack([x_indep_train]), np.hstack([np.ones(len(x_indep_train))]))"
   ]
  },
  {
   "cell_type": "code",
   "execution_count": 12,
   "id": "d8a6edce",
   "metadata": {},
   "outputs": [
    {
     "data": {
      "text/plain": [
       "0.984"
      ]
     },
     "execution_count": 12,
     "metadata": {},
     "output_type": "execute_result"
    }
   ],
   "source": [
    "indep_classifier.score(np.vstack([x_test]), np.hstack([np.zeros(len(x_test))]))"
   ]
  },
  {
   "cell_type": "code",
   "execution_count": 13,
   "id": "2f40eda9",
   "metadata": {},
   "outputs": [
    {
     "data": {
      "text/plain": [
       "0.492"
      ]
     },
     "execution_count": 13,
     "metadata": {},
     "output_type": "execute_result"
    }
   ],
   "source": [
    "indep_classifier.score(np.vstack([x_indep_test]), np.hstack([np.ones(len(x_indep_test))]))"
   ]
  },
  {
   "cell_type": "code",
   "execution_count": 14,
   "id": "cf3f232b",
   "metadata": {},
   "outputs": [],
   "source": [
    "# x = pd.DataFrame({'q': q, 'd': d, 't': t})\n",
    "from scipy.special import expit\n",
    "def predict_proba_unfair(x):\n",
    "    d = x[:,1]\n",
    "    t = x[:,2]\n",
    "    return (t + t*d)/2\n",
    "\n",
    "unfair_model = ModelWrapper(predict_proba_unfair)\n",
    "\n",
    "def predict_proba_fair(x):\n",
    "    q = x[:,0]\n",
    "    return q\n",
    "\n",
    "fair_model = ModelWrapper(predict_proba_fair)\n",
    "\n",
    "\n",
    "def predict_proba_attacker(x):\n",
    "    fair = predict_proba_fair(x)\n",
    "    unfair = predict_proba_unfair(x)\n",
    "    indep = indep_classifier.predict(x)\n",
    "    return indep*fair + (1 - indep)*unfair\n",
    "\n",
    "attacker_model = ModelWrapper(predict_proba_attacker)\n"
   ]
  },
  {
   "cell_type": "code",
   "execution_count": 15,
   "id": "a6a8785f",
   "metadata": {},
   "outputs": [
    {
     "data": {
      "text/html": [
       "<style>#sk-container-id-1 {color: black;background-color: white;}#sk-container-id-1 pre{padding: 0;}#sk-container-id-1 div.sk-toggleable {background-color: white;}#sk-container-id-1 label.sk-toggleable__label {cursor: pointer;display: block;width: 100%;margin-bottom: 0;padding: 0.3em;box-sizing: border-box;text-align: center;}#sk-container-id-1 label.sk-toggleable__label-arrow:before {content: \"▸\";float: left;margin-right: 0.25em;color: #696969;}#sk-container-id-1 label.sk-toggleable__label-arrow:hover:before {color: black;}#sk-container-id-1 div.sk-estimator:hover label.sk-toggleable__label-arrow:before {color: black;}#sk-container-id-1 div.sk-toggleable__content {max-height: 0;max-width: 0;overflow: hidden;text-align: left;background-color: #f0f8ff;}#sk-container-id-1 div.sk-toggleable__content pre {margin: 0.2em;color: black;border-radius: 0.25em;background-color: #f0f8ff;}#sk-container-id-1 input.sk-toggleable__control:checked~div.sk-toggleable__content {max-height: 200px;max-width: 100%;overflow: auto;}#sk-container-id-1 input.sk-toggleable__control:checked~label.sk-toggleable__label-arrow:before {content: \"▾\";}#sk-container-id-1 div.sk-estimator input.sk-toggleable__control:checked~label.sk-toggleable__label {background-color: #d4ebff;}#sk-container-id-1 div.sk-label input.sk-toggleable__control:checked~label.sk-toggleable__label {background-color: #d4ebff;}#sk-container-id-1 input.sk-hidden--visually {border: 0;clip: rect(1px 1px 1px 1px);clip: rect(1px, 1px, 1px, 1px);height: 1px;margin: -1px;overflow: hidden;padding: 0;position: absolute;width: 1px;}#sk-container-id-1 div.sk-estimator {font-family: monospace;background-color: #f0f8ff;border: 1px dotted black;border-radius: 0.25em;box-sizing: border-box;margin-bottom: 0.5em;}#sk-container-id-1 div.sk-estimator:hover {background-color: #d4ebff;}#sk-container-id-1 div.sk-parallel-item::after {content: \"\";width: 100%;border-bottom: 1px solid gray;flex-grow: 1;}#sk-container-id-1 div.sk-label:hover label.sk-toggleable__label {background-color: #d4ebff;}#sk-container-id-1 div.sk-serial::before {content: \"\";position: absolute;border-left: 1px solid gray;box-sizing: border-box;top: 0;bottom: 0;left: 50%;z-index: 0;}#sk-container-id-1 div.sk-serial {display: flex;flex-direction: column;align-items: center;background-color: white;padding-right: 0.2em;padding-left: 0.2em;position: relative;}#sk-container-id-1 div.sk-item {position: relative;z-index: 1;}#sk-container-id-1 div.sk-parallel {display: flex;align-items: stretch;justify-content: center;background-color: white;position: relative;}#sk-container-id-1 div.sk-item::before, #sk-container-id-1 div.sk-parallel-item::before {content: \"\";position: absolute;border-left: 1px solid gray;box-sizing: border-box;top: 0;bottom: 0;left: 50%;z-index: -1;}#sk-container-id-1 div.sk-parallel-item {display: flex;flex-direction: column;z-index: 1;position: relative;background-color: white;}#sk-container-id-1 div.sk-parallel-item:first-child::after {align-self: flex-end;width: 50%;}#sk-container-id-1 div.sk-parallel-item:last-child::after {align-self: flex-start;width: 50%;}#sk-container-id-1 div.sk-parallel-item:only-child::after {width: 0;}#sk-container-id-1 div.sk-dashed-wrapped {border: 1px dashed gray;margin: 0 0.4em 0.5em 0.4em;box-sizing: border-box;padding-bottom: 0.4em;background-color: white;}#sk-container-id-1 div.sk-label label {font-family: monospace;font-weight: bold;display: inline-block;line-height: 1.2em;}#sk-container-id-1 div.sk-label-container {text-align: center;}#sk-container-id-1 div.sk-container {/* jupyter's `normalize.less` sets `[hidden] { display: none; }` but bootstrap.min.css set `[hidden] { display: none !important; }` so we also need the `!important` here to be able to override the default hidden behavior on the sphinx rendered scikit-learn.org. See: https://github.com/scikit-learn/scikit-learn/issues/21755 */display: inline-block !important;position: relative;}#sk-container-id-1 div.sk-text-repr-fallback {display: none;}</style><div id=\"sk-container-id-1\" class=\"sk-top-container\"><div class=\"sk-text-repr-fallback\"><pre>LogisticRegression()</pre><b>In a Jupyter environment, please rerun this cell to show the HTML representation or trust the notebook. <br />On GitHub, the HTML representation is unable to render, please try loading this page with nbviewer.org.</b></div><div class=\"sk-container\" hidden><div class=\"sk-item\"><div class=\"sk-estimator sk-toggleable\"><input class=\"sk-toggleable__control sk-hidden--visually\" id=\"sk-estimator-id-1\" type=\"checkbox\" checked><label for=\"sk-estimator-id-1\" class=\"sk-toggleable__label sk-toggleable__label-arrow\">LogisticRegression</label><div class=\"sk-toggleable__content\"><pre>LogisticRegression()</pre></div></div></div></div></div>"
      ],
      "text/plain": [
       "LogisticRegression()"
      ]
     },
     "execution_count": 15,
     "metadata": {},
     "output_type": "execute_result"
    }
   ],
   "source": [
    "\n",
    "\n",
    "from sklearn.linear_model import LinearRegression, LogisticRegression\n",
    "from sklearn.preprocessing import PolynomialFeatures\n",
    "from sklearn.pipeline import Pipeline\n",
    "propensity = LogisticRegression()\n",
    "propensity.fit(x_train[['q','d']], x_train['t'])\n",
    "\n"
   ]
  },
  {
   "cell_type": "markdown",
   "id": "af981cc3",
   "metadata": {},
   "source": [
    "## Off-manifold Shapley"
   ]
  },
  {
   "cell_type": "code",
   "execution_count": 16,
   "id": "679a9906",
   "metadata": {
    "scrolled": false
   },
   "outputs": [
    {
     "name": "stdout",
     "output_type": "stream",
     "text": [
      "unfair_off_all\n",
      "Execution time (s) : 0.02027606964111328\n",
      "unfair_off_all_but_t\n",
      "Execution time (s) : 0.020261049270629883\n",
      "unfair_off_all_but_q\n",
      "Execution time (s) : 0.015908002853393555\n",
      "unfair_off_all_but_q_t\n",
      "Execution time (s) : 0.013063430786132812\n",
      "unfair_off_all_but_d\n",
      "Execution time (s) : 0.013270139694213867\n",
      "unfair_off_all_but_d_t\n",
      "Execution time (s) : 0.011687040328979492\n",
      "unfair_off_all_but_q_d\n",
      "Execution time (s) : 0.011273384094238281\n",
      "unfair_off_all_but_q_d_t\n",
      "Execution time (s) : 0.012029409408569336\n",
      "attacker_off_all\n",
      "Execution time (s) : 0.00996851921081543\n",
      "attacker_off_all_but_t\n",
      "Execution time (s) : 0.010831594467163086\n",
      "attacker_off_all_but_q\n",
      "Execution time (s) : 0.012934446334838867\n",
      "attacker_off_all_but_q_t\n",
      "Execution time (s) : 0.010709285736083984\n",
      "attacker_off_all_but_d\n",
      "Execution time (s) : 0.011002302169799805\n",
      "attacker_off_all_but_d_t\n",
      "Execution time (s) : 0.013921499252319336\n",
      "attacker_off_all_but_q_d\n",
      "Execution time (s) : 0.012266159057617188\n",
      "attacker_off_all_but_q_d_t\n",
      "Execution time (s) : 0.013103961944580078\n",
      "fair_off_all\n",
      "Execution time (s) : 0.010803461074829102\n",
      "fair_off_all_but_t\n",
      "Execution time (s) : 0.01079869270324707\n",
      "fair_off_all_but_q\n",
      "Execution time (s) : 0.011995077133178711\n",
      "fair_off_all_but_q_t\n",
      "Execution time (s) : 0.011008262634277344\n",
      "fair_off_all_but_d\n",
      "Execution time (s) : 0.011460542678833008\n",
      "fair_off_all_but_d_t\n",
      "Execution time (s) : 0.011133193969726562\n",
      "fair_off_all_but_q_d\n",
      "Execution time (s) : 0.01197671890258789\n",
      "fair_off_all_but_q_d_t\n",
      "Execution time (s) : 0.01076197624206543\n"
     ]
    }
   ],
   "source": [
    "# Unfair\n",
    "print('unfair_off_all')\n",
    "unfair_off_all = model_outcomes_coal(model=unfair_model, coal=np.array([1,1,1]), local_obs=x_test.values, ref_point=x_train.values, imp=imp_off, predict_proba=True)\n",
    "print('unfair_off_all_but_t')\n",
    "unfair_off_all_but_t = model_outcomes_coal(model=unfair_model, coal=np.array([1,1,0]), local_obs=x_test.values, ref_point=x_train.values, imp=imp_off, predict_proba=True)\n",
    "\n",
    "\n",
    "print('unfair_off_all_but_q')\n",
    "unfair_off_all_but_q = model_outcomes_coal(model=unfair_model, coal=np.array([0,1,1]), local_obs=x_test.values, ref_point=x_train.values, imp=imp_off, predict_proba=True)\n",
    "print('unfair_off_all_but_q_t')\n",
    "unfair_off_all_but_q_t = model_outcomes_coal(model=unfair_model, coal=np.array([0,1,0]), local_obs=x_test.values, ref_point=x_train.values, imp=imp_off, predict_proba=True)\n",
    "\n",
    "\n",
    "print('unfair_off_all_but_d')\n",
    "unfair_off_all_but_d = model_outcomes_coal(model=unfair_model, coal=np.array([1,0,1]), local_obs=x_test.values, ref_point=x_train.values, imp=imp_off, predict_proba=True)\n",
    "print('unfair_off_all_but_d_t')\n",
    "unfair_off_all_but_d_t = model_outcomes_coal(model=unfair_model, coal=np.array([1,0,0]), local_obs=x_test.values, ref_point=x_train.values, imp=imp_off, predict_proba=True)\n",
    "\n",
    "print('unfair_off_all_but_q_d')\n",
    "unfair_off_all_but_q_d = model_outcomes_coal(model=unfair_model, coal=np.array([0,0,1]), local_obs=x_test.values, ref_point=x_train.values, imp=imp_off, predict_proba=True)\n",
    "print('unfair_off_all_but_q_d_t')\n",
    "unfair_off_all_but_q_d_t = model_outcomes_coal(model=unfair_model, coal=np.array([0,0,0]), local_obs=x_test.values, ref_point=x_train.values, imp=imp_off, predict_proba=True)\n",
    "\n",
    "# Attacker\n",
    "print('attacker_off_all')\n",
    "attacker_off_all = model_outcomes_coal(model=attacker_model, coal=np.array([1,1,1]), local_obs=x_test.values, ref_point=x_train.values, imp=imp_off, predict_proba=True)\n",
    "print('attacker_off_all_but_t')\n",
    "attacker_off_all_but_t = model_outcomes_coal(model=attacker_model, coal=np.array([1,1,0]), local_obs=x_test.values, ref_point=x_train.values, imp=imp_off, predict_proba=True)\n",
    "\n",
    "\n",
    "print('attacker_off_all_but_q')\n",
    "attacker_off_all_but_q = model_outcomes_coal(model=attacker_model, coal=np.array([0,1,1]), local_obs=x_test.values, ref_point=x_train.values, imp=imp_off, predict_proba=True)\n",
    "print('attacker_off_all_but_q_t')\n",
    "attacker_off_all_but_q_t = model_outcomes_coal(model=attacker_model, coal=np.array([0,1,0]), local_obs=x_test.values, ref_point=x_train.values, imp=imp_off, predict_proba=True)\n",
    "\n",
    "\n",
    "print('attacker_off_all_but_d')\n",
    "attacker_off_all_but_d = model_outcomes_coal(model=attacker_model, coal=np.array([1,0,1]), local_obs=x_test.values, ref_point=x_train.values, imp=imp_off, predict_proba=True)\n",
    "print('attacker_off_all_but_d_t')\n",
    "attacker_off_all_but_d_t = model_outcomes_coal(model=attacker_model, coal=np.array([1,0,0]), local_obs=x_test.values, ref_point=x_train.values, imp=imp_off, predict_proba=True)\n",
    "\n",
    "\n",
    "print('attacker_off_all_but_q_d')\n",
    "attacker_off_all_but_q_d = model_outcomes_coal(model=attacker_model, coal=np.array([0,0,1]), local_obs=x_test.values, ref_point=x_train.values, imp=imp_off, predict_proba=True)\n",
    "print('attacker_off_all_but_q_d_t')\n",
    "attacker_off_all_but_q_d_t = model_outcomes_coal(model=attacker_model, coal=np.array([0,0,0]), local_obs=x_test.values, ref_point=x_train.values, imp=imp_off, predict_proba=True)\n",
    "\n",
    "# Fair\n",
    "print('fair_off_all')\n",
    "fair_off_all = model_outcomes_coal(model=fair_model, coal=np.array([1,1,1]), local_obs=x_test.values, ref_point=x_train.values, imp=imp_off, predict_proba=True)\n",
    "print('fair_off_all_but_t')\n",
    "fair_off_all_but_t = model_outcomes_coal(model=fair_model, coal=np.array([1,1,0]), local_obs=x_test.values, ref_point=x_train.values, imp=imp_off, predict_proba=True)\n",
    "\n",
    "\n",
    "print('fair_off_all_but_q')\n",
    "fair_off_all_but_q = model_outcomes_coal(model=fair_model, coal=np.array([0,1,1]), local_obs=x_test.values, ref_point=x_train.values, imp=imp_off, predict_proba=True)\n",
    "print('fair_off_all_but_q_t')\n",
    "fair_off_all_but_q_t = model_outcomes_coal(model=fair_model, coal=np.array([0,1,0]), local_obs=x_test.values, ref_point=x_train.values, imp=imp_off, predict_proba=True)\n",
    "\n",
    "\n",
    "print('fair_off_all_but_d')\n",
    "fair_off_all_but_d = model_outcomes_coal(model=fair_model, coal=np.array([1,0,1]), local_obs=x_test.values, ref_point=x_train.values, imp=imp_off, predict_proba=True)\n",
    "print('fair_off_all_but_d_t')\n",
    "fair_off_all_but_d_t = model_outcomes_coal(model=fair_model, coal=np.array([1,0,0]), local_obs=x_test.values, ref_point=x_train.values, imp=imp_off, predict_proba=True)\n",
    "\n",
    "\n",
    "print('fair_off_all_but_q_d')\n",
    "fair_off_all_but_q_d = model_outcomes_coal(model=fair_model, coal=np.array([0,0,1]), local_obs=x_test.values, ref_point=x_train.values, imp=imp_off, predict_proba=True)\n",
    "print('fair_off_all_but_q_d_t')\n",
    "fair_off_all_but_q_d_t = model_outcomes_coal(model=fair_model, coal=np.array([0,0,0]), local_obs=x_test.values, ref_point=x_train.values, imp=imp_off, predict_proba=True)\n"
   ]
  },
  {
   "cell_type": "code",
   "execution_count": 17,
   "id": "4b8a7246",
   "metadata": {},
   "outputs": [
    {
     "data": {
      "image/png": "[encoded data removed]",
      "text/plain": [
       "<Figure size 400x300 with 1 Axes>"
      ]
     },
     "metadata": {},
     "output_type": "display_data"
    }
   ],
   "source": [
    "unfair_off = 1/3*(unfair_off_all - unfair_off_all_but_t) + 1/6*(unfair_off_all_but_q - unfair_off_all_but_q_t) + 1/6*(unfair_off_all_but_d - unfair_off_all_but_d_t) + 1/3*(unfair_off_all_but_q_d - unfair_off_all_but_q_d_t)\n",
    "unfair_off = unfair_off.mean(axis=1)\n",
    "\n",
    "attacker_off = 1/3*(attacker_off_all - attacker_off_all_but_t) + 1/6*(attacker_off_all_but_q - attacker_off_all_but_q_t) + 1/6*(attacker_off_all_but_d - attacker_off_all_but_d_t) + 1/3*(attacker_off_all_but_q_d - attacker_off_all_but_q_d_t)\n",
    "attacker_off = attacker_off.mean(axis=1)\n",
    "\n",
    "fair_off = 1/3*(fair_off_all - fair_off_all_but_t) + 1/6*(fair_off_all_but_q - fair_off_all_but_q_t) + 1/6*(fair_off_all_but_d - fair_off_all_but_d_t) + 1/3*(fair_off_all_but_q_d - fair_off_all_but_q_d_t)\n",
    "fair_off = fair_off.mean(axis=1)\n",
    "\n",
    "df_off = pd.DataFrame({\n",
    "    'unfair': unfair_off,\n",
    "    'attacker': attacker_off,\n",
    "    'fair': fair_off\n",
    "})\n",
    "df_off.boxplot(fontsize=13, figsize=(4,3))\n",
    "plt.show()"
   ]
  },
  {
   "cell_type": "markdown",
   "id": "5346a336",
   "metadata": {},
   "source": [
    "## Observational Shapley"
   ]
  },
  {
   "cell_type": "code",
   "execution_count": 18,
   "id": "1e3ecde2",
   "metadata": {},
   "outputs": [
    {
     "name": "stdout",
     "output_type": "stream",
     "text": [
      "unfair_on_all\n",
      "Execution time (s) : 0.42164039611816406\n",
      "unfair_on_all_but_t\n",
      "Execution time (s) : 488.25350046157837\n"
     ]
    }
   ],
   "source": [
    "# Full coalition\n",
    "print('unfair_on_all')\n",
    "unfair_on_all = model_outcomes_coal(model=unfair_model, coal=np.array([1,1,1]), local_obs=x_test.values, ref_point=x_train.values, imp=imp, predict_proba=True)\n",
    "print('unfair_on_all_but_t')\n",
    "unfair_on_all_but_t = model_outcomes_coal(model=unfair_model, coal=np.array([1,1,0]), local_obs=x_test.values, ref_point=x_train.values, imp=imp, predict_proba=True)\n"
   ]
  },
  {
   "cell_type": "code",
   "execution_count": 19,
   "id": "c33de4a9",
   "metadata": {},
   "outputs": [
    {
     "name": "stdout",
     "output_type": "stream",
     "text": [
      "unfair_on_all_but_q\n",
      "Execution time (s) : 510.01944398880005\n",
      "unfair_on_all_but_q_t\n",
      "Execution time (s) : 1048.646456003189\n"
     ]
    }
   ],
   "source": [
    "print('unfair_on_all_but_q')\n",
    "unfair_on_all_but_q = model_outcomes_coal(model=unfair_model, coal=np.array([0,1,1]), local_obs=x_test.values, ref_point=x_train.values, imp=imp, predict_proba=True)\n",
    "print('unfair_on_all_but_q_t')\n",
    "unfair_on_all_but_q_t = model_outcomes_coal(model=unfair_model, coal=np.array([0,1,0]), local_obs=x_test.values, ref_point=x_train.values, imp=imp, predict_proba=True)\n"
   ]
  },
  {
   "cell_type": "code",
   "execution_count": 20,
   "id": "c069105e",
   "metadata": {},
   "outputs": [
    {
     "name": "stdout",
     "output_type": "stream",
     "text": [
      "unfair_on_all_but_d\n",
      "Execution time (s) : 535.6945173740387\n",
      "unfair_on_all_but_d_t\n",
      "Execution time (s) : 1097.192411184311\n"
     ]
    }
   ],
   "source": [
    "print('unfair_on_all_but_d')\n",
    "unfair_on_all_but_d = model_outcomes_coal(model=unfair_model, coal=np.array([1,0,1]), local_obs=x_test.values, ref_point=x_train.values, imp=imp, predict_proba=True)\n",
    "print('unfair_on_all_but_d_t')\n",
    "unfair_on_all_but_d_t = model_outcomes_coal(model=unfair_model, coal=np.array([1,0,0]), local_obs=x_test.values, ref_point=x_train.values, imp=imp, predict_proba=True)\n"
   ]
  },
  {
   "cell_type": "code",
   "execution_count": 21,
   "id": "2d0a2073",
   "metadata": {},
   "outputs": [
    {
     "name": "stdout",
     "output_type": "stream",
     "text": [
      "unfair_on_all_but_q_d\n",
      "Execution time (s) : 967.6444959640503\n",
      "unfair_on_all_but_q_d_t\n",
      "Execution time (s) : 0.057219505310058594\n"
     ]
    }
   ],
   "source": [
    "print('unfair_on_all_but_q_d')\n",
    "unfair_on_all_but_q_d = model_outcomes_coal(model=unfair_model, coal=np.array([0,0,1]), local_obs=x_test.values, ref_point=x_train.values, imp=imp, predict_proba=True)\n",
    "print('unfair_on_all_but_q_d_t')\n",
    "unfair_on_all_but_q_d_t = model_outcomes_coal(model=unfair_model, coal=np.array([0,0,0]), local_obs=x_test.values, ref_point=x_train.values, imp=imp, predict_proba=True)\n"
   ]
  },
  {
   "cell_type": "code",
   "execution_count": null,
   "id": "fca272b4",
   "metadata": {},
   "outputs": [],
   "source": []
  },
  {
   "cell_type": "code",
   "execution_count": 22,
   "id": "6d642878",
   "metadata": {
    "scrolled": false
   },
   "outputs": [
    {
     "name": "stdout",
     "output_type": "stream",
     "text": [
      "attacker_on_all\n",
      "Execution time (s) : 0.41375041007995605\n",
      "attacker_on_all_but_t\n",
      "Execution time (s) : 467.2988336086273\n",
      "attacker_on_all_but_q\n",
      "Execution time (s) : 512.8583076000214\n",
      "attacker_on_all_but_q_t\n",
      "Execution time (s) : 984.4770331382751\n",
      "attacker_on_all_but_d\n",
      "Execution time (s) : 493.1918559074402\n",
      "attacker_on_all_but_d_t\n",
      "Execution time (s) : 1060.6040165424347\n",
      "attacker_on_all_but_q_d\n",
      "Execution time (s) : 1088.1881787776947\n",
      "attacker_on_all_but_q_d_t\n",
      "Execution time (s) : 0.07605886459350586\n"
     ]
    }
   ],
   "source": [
    "# Attacker\n",
    "print('attacker_on_all')\n",
    "attacker_on_all = model_outcomes_coal(model=attacker_model, coal=np.array([1,1,1]), local_obs=x_test.values, ref_point=x_train.values, imp=imp, predict_proba=True)\n",
    "print('attacker_on_all_but_t')\n",
    "attacker_on_all_but_t = model_outcomes_coal(model=attacker_model, coal=np.array([1,1,0]), local_obs=x_test.values, ref_point=x_train.values, imp=imp, predict_proba=True)\n",
    "\n",
    "\n",
    "print('attacker_on_all_but_q')\n",
    "attacker_on_all_but_q = model_outcomes_coal(model=attacker_model, coal=np.array([0,1,1]), local_obs=x_test.values, ref_point=x_train.values, imp=imp, predict_proba=True)\n",
    "print('attacker_on_all_but_q_t')\n",
    "attacker_on_all_but_q_t = model_outcomes_coal(model=attacker_model, coal=np.array([0,1,0]), local_obs=x_test.values, ref_point=x_train.values, imp=imp, predict_proba=True)\n",
    "\n",
    "\n",
    "print('attacker_on_all_but_d')\n",
    "attacker_on_all_but_d = model_outcomes_coal(model=attacker_model, coal=np.array([1,0,1]), local_obs=x_test.values, ref_point=x_train.values, imp=imp, predict_proba=True)\n",
    "print('attacker_on_all_but_d_t')\n",
    "attacker_on_all_but_d_t = model_outcomes_coal(model=attacker_model, coal=np.array([1,0,0]), local_obs=x_test.values, ref_point=x_train.values, imp=imp, predict_proba=True)\n",
    "\n",
    "\n",
    "print('attacker_on_all_but_q_d')\n",
    "attacker_on_all_but_q_d = model_outcomes_coal(model=attacker_model, coal=np.array([0,0,1]), local_obs=x_test.values, ref_point=x_train.values, imp=imp, predict_proba=True)\n",
    "print('attacker_on_all_but_q_d_t')\n",
    "attacker_on_all_but_q_d_t = model_outcomes_coal(model=attacker_model, coal=np.array([0,0,0]), local_obs=x_test.values, ref_point=x_train.values, imp=imp, predict_proba=True)\n"
   ]
  },
  {
   "cell_type": "code",
   "execution_count": 23,
   "id": "55e25706",
   "metadata": {},
   "outputs": [
    {
     "name": "stdout",
     "output_type": "stream",
     "text": [
      "fair_on_all\n",
      "Execution time (s) : 0.5582699775695801\n",
      "fair_on_all_but_t\n",
      "Execution time (s) : 544.4142117500305\n",
      "fair_on_all_but_q\n",
      "Execution time (s) : 545.5060021877289\n",
      "fair_on_all_but_q_t\n",
      "Execution time (s) : 1035.38884973526\n",
      "fair_on_all_but_d\n",
      "Execution time (s) : 448.3011326789856\n",
      "fair_on_all_but_d_t\n",
      "Execution time (s) : 874.2565083503723\n",
      "fair_on_all_but_q_d\n",
      "Execution time (s) : 895.2662060260773\n",
      "fair_on_all_but_q_d_t\n",
      "Execution time (s) : 0.05764031410217285\n"
     ]
    }
   ],
   "source": [
    "# Fair\n",
    "print('fair_on_all')\n",
    "fair_on_all = model_outcomes_coal(model=fair_model, coal=np.array([1,1,1]), local_obs=x_test.values, ref_point=x_train.values, imp=imp, predict_proba=True)\n",
    "print('fair_on_all_but_t')\n",
    "fair_on_all_but_t = model_outcomes_coal(model=fair_model, coal=np.array([1,1,0]), local_obs=x_test.values, ref_point=x_train.values, imp=imp, predict_proba=True)\n",
    "\n",
    "\n",
    "print('fair_on_all_but_q')\n",
    "fair_on_all_but_q = model_outcomes_coal(model=fair_model, coal=np.array([0,1,1]), local_obs=x_test.values, ref_point=x_train.values, imp=imp, predict_proba=True)\n",
    "print('fair_on_all_but_q_t')\n",
    "fair_on_all_but_q_t = model_outcomes_coal(model=fair_model, coal=np.array([0,1,0]), local_obs=x_test.values, ref_point=x_train.values, imp=imp, predict_proba=True)\n",
    "\n",
    "\n",
    "print('fair_on_all_but_d')\n",
    "fair_on_all_but_d = model_outcomes_coal(model=fair_model, coal=np.array([1,0,1]), local_obs=x_test.values, ref_point=x_train.values, imp=imp, predict_proba=True)\n",
    "print('fair_on_all_but_d_t')\n",
    "fair_on_all_but_d_t = model_outcomes_coal(model=fair_model, coal=np.array([1,0,0]), local_obs=x_test.values, ref_point=x_train.values, imp=imp, predict_proba=True)\n",
    "\n",
    "\n",
    "print('fair_on_all_but_q_d')\n",
    "fair_on_all_but_q_d = model_outcomes_coal(model=fair_model, coal=np.array([0,0,1]), local_obs=x_test.values, ref_point=x_train.values, imp=imp, predict_proba=True)\n",
    "print('fair_on_all_but_q_d_t')\n",
    "fair_on_all_but_q_d_t = model_outcomes_coal(model=fair_model, coal=np.array([0,0,0]), local_obs=x_test.values, ref_point=x_train.values, imp=imp, predict_proba=True)\n"
   ]
  },
  {
   "cell_type": "code",
   "execution_count": 24,
   "id": "6e13ba10",
   "metadata": {},
   "outputs": [],
   "source": [
    "unfair_on = 1/3*(unfair_on_all - unfair_on_all_but_t) + 1/6*(unfair_on_all_but_q - unfair_on_all_but_q_t) + 1/6*(unfair_on_all_but_d - unfair_on_all_but_d_t) + 1/3*(unfair_on_all_but_q_d - unfair_on_all_but_q_d_t)\n",
    "unfair_on = unfair_on.mean(axis=1)"
   ]
  },
  {
   "cell_type": "code",
   "execution_count": 25,
   "id": "3fb2bc20",
   "metadata": {},
   "outputs": [],
   "source": [
    "attacker_on = 1/3*(attacker_on_all - attacker_on_all_but_t) + 1/6*(attacker_on_all_but_q - attacker_on_all_but_q_t) + 1/6*(attacker_on_all_but_d - attacker_on_all_but_d_t) + 1/3*(attacker_on_all_but_q_d - attacker_on_all_but_q_d_t)\n",
    "attacker_on = attacker_on.mean(axis=1)"
   ]
  },
  {
   "cell_type": "code",
   "execution_count": 26,
   "id": "ab675d77",
   "metadata": {},
   "outputs": [],
   "source": [
    "fair_on = 1/3*(fair_on_all - fair_on_all_but_t) + 1/6*(fair_on_all_but_q - fair_on_all_but_q_t) + 1/6*(fair_on_all_but_d - fair_on_all_but_d_t) + 1/3*(fair_on_all_but_q_d - fair_on_all_but_q_d_t)\n",
    "fair_on = fair_on.mean(axis=1)"
   ]
  },
  {
   "cell_type": "code",
   "execution_count": 27,
   "id": "81061551",
   "metadata": {},
   "outputs": [
    {
     "data": {
      "image/png": "[encoded data removed]",
      "text/plain": [
       "<Figure size 400x300 with 1 Axes>"
      ]
     },
     "metadata": {},
     "output_type": "display_data"
    }
   ],
   "source": [
    "df_on = pd.DataFrame({\n",
    "    'unfair': unfair_on,\n",
    "    'attacker': attacker_on,\n",
    "    'fair': fair_on\n",
    "})\n",
    "df_on.boxplot(fontsize=13, figsize=(4,3))\n",
    "plt.show()"
   ]
  },
  {
   "cell_type": "markdown",
   "id": "7b347c6b",
   "metadata": {},
   "source": [
    "## PWSHAP"
   ]
  },
  {
   "cell_type": "code",
   "execution_count": 28,
   "id": "d4a808ed",
   "metadata": {},
   "outputs": [
    {
     "name": "stdout",
     "output_type": "stream",
     "text": [
      "Execution time (s) : 0.2997324466705322\n"
     ]
    },
    {
     "name": "stderr",
     "output_type": "stream",
     "text": [
      "/home/clivio/miniconda3/envs/pwshap/lib/python3.10/site-packages/sklearn/base.py:450: UserWarning: X does not have valid feature names, but LogisticRegression was fitted with feature names\n",
      "  warnings.warn(\n"
     ]
    },
    {
     "name": "stdout",
     "output_type": "stream",
     "text": [
      "Execution time (s) : 465.73522210121155\n",
      "Execution time (s) : 0.07220840454101562\n"
     ]
    },
    {
     "name": "stderr",
     "output_type": "stream",
     "text": [
      "/home/clivio/miniconda3/envs/pwshap/lib/python3.10/site-packages/sklearn/base.py:450: UserWarning: X does not have valid feature names, but LogisticRegression was fitted with feature names\n",
      "  warnings.warn(\n",
      "/home/clivio/miniconda3/envs/pwshap/lib/python3.10/site-packages/sklearn/base.py:450: UserWarning: X does not have valid feature names, but LogisticRegression was fitted with feature names\n",
      "  warnings.warn(\n"
     ]
    }
   ],
   "source": [
    "propensities_all =  model_outcomes_coal(model=propensity, coal=np.array([1,1]), local_obs=x_test[['q','d']].values, ref_point=x_train[['q','d']].values, imp=imp_all_but_t, predict_proba=True)\n",
    "propensities_all_but_d =  model_outcomes_coal(model=propensity, coal=np.array([1,0]), local_obs=x_test[['q','d']].values, ref_point=x_train[['q','d']].values, imp=imp_all_but_t, predict_proba=True)\n",
    "propensities_all_but_q_d =  model_outcomes_coal(model=propensity, coal=np.array([0,0]), local_obs=x_test[['q','d']].values, ref_point=x_train[['q','d']].values, imp=imp_all_but_t, predict_proba=True)\n"
   ]
  },
  {
   "cell_type": "code",
   "execution_count": 29,
   "id": "16053f58",
   "metadata": {},
   "outputs": [],
   "source": [
    "\n",
    "unfair_pwshap_t_y = (unfair_on_all_but_q_d - unfair_on_all_but_q_d_t).mean(axis=1) / (x_test['t'].values - propensities_all_but_q_d.mean(axis=1))\n",
    "\n",
    "unfair_pwshap_t_d_y = (unfair_on_all - unfair_on_all_but_t).mean(axis=1) / (x_test['t'].values - propensities_all.mean(axis=1)) - (unfair_on_all_but_d - unfair_on_all_but_d_t).mean(axis=1) / (x_test['t'].values - propensities_all_but_d.mean(axis=1))"
   ]
  },
  {
   "cell_type": "code",
   "execution_count": 30,
   "id": "211ebd24",
   "metadata": {},
   "outputs": [],
   "source": [
    "\n",
    "\n",
    "attacker_pwshap_t_y = (attacker_on_all_but_q_d - attacker_on_all_but_q_d_t).mean(axis=1) / (x_test['t'].values - propensities_all_but_q_d.mean(axis=1))\n",
    "\n",
    "attacker_pwshap_t_d_y = (attacker_on_all - attacker_on_all_but_t).mean(axis=1) / (x_test['t'].values - propensities_all.mean(axis=1)) - (attacker_on_all_but_d - attacker_on_all_but_d_t).mean(axis=1) / (x_test['t'].values - propensities_all_but_d.mean(axis=1))"
   ]
  },
  {
   "cell_type": "code",
   "execution_count": 31,
   "id": "d2f4f5bd",
   "metadata": {},
   "outputs": [],
   "source": [
    "\n",
    "fair_pwshap_t_y = (fair_on_all_but_q_d - fair_on_all_but_q_d_t).mean(axis=1) / (x_test['t'].values - propensities_all_but_q_d.mean(axis=1))\n",
    "\n",
    "fair_pwshap_t_d_y = (fair_on_all - fair_on_all_but_t).mean(axis=1) / (x_test['t'].values - propensities_all.mean(axis=1)) - (fair_on_all_but_d - fair_on_all_but_d_t).mean(axis=1) / (x_test['t'].values - propensities_all_but_d.mean(axis=1))"
   ]
  },
  {
   "cell_type": "code",
   "execution_count": 32,
   "id": "fa053ee7",
   "metadata": {},
   "outputs": [
    {
     "data": {
      "image/png": "[encoded data removed]",
      "text/plain": [
       "<Figure size 400x300 with 1 Axes>"
      ]
     },
     "metadata": {},
     "output_type": "display_data"
    }
   ],
   "source": [
    "\n",
    "df_pwshap_t_y = pd.DataFrame({\n",
    "    'unfair': unfair_pwshap_t_y,\n",
    "    'attacker': attacker_pwshap_t_y,\n",
    "    'fair': fair_pwshap_t_y\n",
    "})\n",
    "df_pwshap_t_y.boxplot(fontsize=13, figsize=(4,3))\n",
    "plt.show()"
   ]
  },
  {
   "cell_type": "code",
   "execution_count": null,
   "id": "b8ed708b",
   "metadata": {},
   "outputs": [],
   "source": []
  },
  {
   "cell_type": "code",
   "execution_count": 33,
   "id": "e7e1f1e6",
   "metadata": {},
   "outputs": [
    {
     "data": {
      "image/png": "[encoded data removed]",
      "text/plain": [
       "<Figure size 400x300 with 1 Axes>"
      ]
     },
     "metadata": {},
     "output_type": "display_data"
    }
   ],
   "source": [
    "\n",
    "df_pwshap_t_d_y = pd.DataFrame({\n",
    "    'unfair': unfair_pwshap_t_d_y,\n",
    "    'attacker': attacker_pwshap_t_d_y,\n",
    "    'fair': fair_pwshap_t_d_y\n",
    "})\n",
    "df_pwshap_t_d_y.boxplot(fontsize=13, figsize=(4,3))\n",
    "plt.show()"
   ]
  }
 ],
 "metadata": {
  "kernelspec": {
   "display_name": "Python 3 (ipykernel)",
   "language": "python",
   "name": "python3"
  },
  "language_info": {
   "codemirror_mode": {
    "name": "ipython",
    "version": 3
   },
   "file_extension": ".py",
   "mimetype": "text/x-python",
   "name": "python",
   "nbconvert_exporter": "python",
   "pygments_lexer": "ipython3",
   "version": "3.10.4"
  }
 },
 "nbformat": 4,
 "nbformat_minor": 5
}
