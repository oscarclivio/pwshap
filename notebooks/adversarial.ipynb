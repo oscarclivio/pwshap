{
 "cells": [
  {
   "cell_type": "code",
   "execution_count": 1,
   "id": "0139a6c0",
   "metadata": {},
   "outputs": [],
   "source": [
    "import matplotlib.pyplot as plt\n",
    "import numpy as np\n",
    "import pandas as pd\n",
    "import seaborn as sns\n",
    "import math\n",
    "import scipy\n",
    "from sklearn.experimental import enable_iterative_imputer\n",
    "from sklearn.impute import IterativeImputer\n",
    "from sklearn.linear_model import BayesianRidge, LogisticRegression\n",
    "from sklearn.ensemble import RandomForestClassifier\n",
    "from sklearn.preprocessing import StandardScaler\n",
    "from sklearn.metrics import roc_auc_score\n",
    "\n",
    "import pathlib\n",
    "import sklearn.metrics\n",
    "from scipy.stats import gaussian_kde\n",
    "import matplotlib.cm as cm\n",
    "\n",
    "import random\n",
    "import time"
   ]
  },
  {
   "cell_type": "code",
   "execution_count": 2,
   "id": "9b39c4d0",
   "metadata": {},
   "outputs": [],
   "source": [
    "\n",
    "def model_outcomes_coal(model, coal, local_obs, ref_point, imp=None, predict_proba=False, seed=0):\n",
    "    \n",
    "    start = time.time()\n",
    "    \n",
    "    ## this function outputs a list of all model predictions for a single coalition\n",
    "    # the input is the coalition of interest as a binary vector eg. [1,1,0,1]\n",
    "    # ref point is the entire reference distirbution (here we take x_train)\n",
    "    # local_obs is the instance we aim to explain\n",
    "    \n",
    "    n_obs, d_obs = np.shape(local_obs)\n",
    "\n",
    "    # we consider all 2**n coalitions and all n reference points\n",
    "    # get constants\n",
    "    \n",
    "    n, d = np.shape(ref_point)\n",
    "    assert d == d_obs\n",
    "    \n",
    "    # train imputation algorithm for conditional references   \n",
    "    # create an \"all_imputed_coalitions\" 3D matrix with all \"artificial inputs\" we get by imputing\n",
    "    coalitions = np.array([[int(i) for i in '0'*((d)-len(bin(j))+2) + bin(j)[2:]] for j in range(2**d)]) \n",
    "    all_imputed_coalitions = np.zeros((n_obs, n, d))\n",
    "    \n",
    "    \n",
    "    \n",
    "    \n",
    "    \n",
    "     ## below we build the concatenated inputs using conditional imputation for dropped features and averages\n",
    "    for k in range(n):#reference point index\n",
    "        vect=(1-coal) \n",
    "        vect = vect.astype('float')\n",
    "        vect[vect == 1] = 'nan'    # vect is a binary vector of being \"absent\" ('nan') or \"present\" (1)\n",
    "        # impute conditionally with Bayesian Ridge MICE \n",
    "        imputed_coalitions = coal * local_obs + vect #either local obs value or 'nan'\n",
    "        #print(imputed_coalitions)\n",
    "        nans = (np.isnan(imputed_coalitions).sum(axis=0) > 0)\n",
    "        if (~nans).sum() == 0 or imp is None:\n",
    "            idx = np.random.randint(n, size=n_obs)\n",
    "            imputation = ref_point[idx]\n",
    "            imputed_coalitions[:,nans] = imputation[:,nans]\n",
    "        else:\n",
    "            imputed_coalitions = imp.transform(imputed_coalitions)       \n",
    "        all_imputed_coalitions[:, k, :] = imputed_coalitions\n",
    "        \n",
    "    end = time.time()\n",
    "    print('Execution time (s) :', end - start)\n",
    "    #we ultimately return the model predictions\n",
    "    if predict_proba:\n",
    "        return model.predict_proba(all_imputed_coalitions.reshape(n_obs * n, d))[:,1].reshape(n_obs, n)\n",
    "    else:\n",
    "        return model.predict(all_imputed_coalitions.reshape(n_obs * n, d)).reshape(n_obs, n)\n"
   ]
  },
  {
   "cell_type": "code",
   "execution_count": 3,
   "id": "e02f2b9d",
   "metadata": {},
   "outputs": [],
   "source": [
    "np.random.seed(0)\n",
    "N = 500\n",
    "p = 0.5 * np.ones(N)\n",
    "t = np.random.binomial(n=1, p=p)\n",
    "\n",
    "q = np.random.uniform(size=N)\n",
    "d = np.random.uniform(size=N)\n",
    "eta = 0.45\n",
    "d = t*(eta*d) + (1-t)*(1 - eta*d)#np.random.binomial(n=1, p=4/5 - 3/5*t)\n",
    "\n",
    "q_mean = np.mean(q)\n",
    "d_mean = np.mean(d)\n",
    "t_mean = np.mean(t)"
   ]
  },
  {
   "cell_type": "code",
   "execution_count": 4,
   "id": "bd2ec42a",
   "metadata": {},
   "outputs": [],
   "source": [
    "class ModelWrapper(object):\n",
    "    \n",
    "    def __init__(self, func):\n",
    "        self.func = func\n",
    "        \n",
    "    def predict_proba(self, x):\n",
    "        probas = self.func(x).reshape(-1,1)\n",
    "        probas_sklearn = np.hstack([1 - probas, probas])\n",
    "        return probas_sklearn\n",
    "    \n",
    "    def predict(self, x):\n",
    "        pass"
   ]
  },
  {
   "cell_type": "code",
   "execution_count": 5,
   "id": "d9d3a51a",
   "metadata": {},
   "outputs": [],
   "source": [
    "class OracleClassifier(object):\n",
    "    \n",
    "    def __init__(self):\n",
    "        pass\n",
    "    \n",
    "    def predict(self, x):\n",
    "        x = np.array(x)\n",
    "        d = x[:,1]\n",
    "        q = x[:,0]\n",
    "        t = x[:,2]\n",
    "        return (t - 0.5) * (d - 0.5) > 0\n",
    "    \n",
    "    def score(self, x, y):\n",
    "        return np.mean(self.predict(x) == y)"
   ]
  },
  {
   "cell_type": "code",
   "execution_count": 6,
   "id": "b5e49d8f",
   "metadata": {},
   "outputs": [
    {
     "data": {
      "image/png": "[encoded data removed]",
      "text/plain": [
       "<Figure size 640x480 with 1 Axes>"
      ]
     },
     "metadata": {},
     "output_type": "display_data"
    }
   ],
   "source": [
    "plt.scatter(t, d)\n",
    "plt.show()"
   ]
  },
  {
   "cell_type": "code",
   "execution_count": 7,
   "id": "4a57a7ca",
   "metadata": {},
   "outputs": [
    {
     "data": {
      "text/plain": [
       "(array([49., 52., 45., 64., 53., 43., 43., 46., 54., 51.]),\n",
       " array([5.45964897e-04, 1.00472226e-01, 2.00398488e-01, 3.00324749e-01,\n",
       "        4.00251010e-01, 5.00177272e-01, 6.00103533e-01, 7.00029794e-01,\n",
       "        7.99956055e-01, 8.99882317e-01, 9.99808578e-01]),\n",
       " <BarContainer object of 10 artists>)"
      ]
     },
     "execution_count": 7,
     "metadata": {},
     "output_type": "execute_result"
    },
    {
     "data": {
      "image/png": "[encoded data removed]",
      "text/plain": [
       "<Figure size 640x480 with 1 Axes>"
      ]
     },
     "metadata": {},
     "output_type": "display_data"
    }
   ],
   "source": [
    "plt.hist(q)"
   ]
  },
  {
   "cell_type": "code",
   "execution_count": 8,
   "id": "da1d888c",
   "metadata": {},
   "outputs": [
    {
     "data": {
      "text/html": [
       "<style>#sk-container-id-1 {color: black;background-color: white;}#sk-container-id-1 pre{padding: 0;}#sk-container-id-1 div.sk-toggleable {background-color: white;}#sk-container-id-1 label.sk-toggleable__label {cursor: pointer;display: block;width: 100%;margin-bottom: 0;padding: 0.3em;box-sizing: border-box;text-align: center;}#sk-container-id-1 label.sk-toggleable__label-arrow:before {content: \"▸\";float: left;margin-right: 0.25em;color: #696969;}#sk-container-id-1 label.sk-toggleable__label-arrow:hover:before {color: black;}#sk-container-id-1 div.sk-estimator:hover label.sk-toggleable__label-arrow:before {color: black;}#sk-container-id-1 div.sk-toggleable__content {max-height: 0;max-width: 0;overflow: hidden;text-align: left;background-color: #f0f8ff;}#sk-container-id-1 div.sk-toggleable__content pre {margin: 0.2em;color: black;border-radius: 0.25em;background-color: #f0f8ff;}#sk-container-id-1 input.sk-toggleable__control:checked~div.sk-toggleable__content {max-height: 200px;max-width: 100%;overflow: auto;}#sk-container-id-1 input.sk-toggleable__control:checked~label.sk-toggleable__label-arrow:before {content: \"▾\";}#sk-container-id-1 div.sk-estimator input.sk-toggleable__control:checked~label.sk-toggleable__label {background-color: #d4ebff;}#sk-container-id-1 div.sk-label input.sk-toggleable__control:checked~label.sk-toggleable__label {background-color: #d4ebff;}#sk-container-id-1 input.sk-hidden--visually {border: 0;clip: rect(1px 1px 1px 1px);clip: rect(1px, 1px, 1px, 1px);height: 1px;margin: -1px;overflow: hidden;padding: 0;position: absolute;width: 1px;}#sk-container-id-1 div.sk-estimator {font-family: monospace;background-color: #f0f8ff;border: 1px dotted black;border-radius: 0.25em;box-sizing: border-box;margin-bottom: 0.5em;}#sk-container-id-1 div.sk-estimator:hover {background-color: #d4ebff;}#sk-container-id-1 div.sk-parallel-item::after {content: \"\";width: 100%;border-bottom: 1px solid gray;flex-grow: 1;}#sk-container-id-1 div.sk-label:hover label.sk-toggleable__label {background-color: #d4ebff;}#sk-container-id-1 div.sk-serial::before {content: \"\";position: absolute;border-left: 1px solid gray;box-sizing: border-box;top: 0;bottom: 0;left: 50%;z-index: 0;}#sk-container-id-1 div.sk-serial {display: flex;flex-direction: column;align-items: center;background-color: white;padding-right: 0.2em;padding-left: 0.2em;position: relative;}#sk-container-id-1 div.sk-item {position: relative;z-index: 1;}#sk-container-id-1 div.sk-parallel {display: flex;align-items: stretch;justify-content: center;background-color: white;position: relative;}#sk-container-id-1 div.sk-item::before, #sk-container-id-1 div.sk-parallel-item::before {content: \"\";position: absolute;border-left: 1px solid gray;box-sizing: border-box;top: 0;bottom: 0;left: 50%;z-index: -1;}#sk-container-id-1 div.sk-parallel-item {display: flex;flex-direction: column;z-index: 1;position: relative;background-color: white;}#sk-container-id-1 div.sk-parallel-item:first-child::after {align-self: flex-end;width: 50%;}#sk-container-id-1 div.sk-parallel-item:last-child::after {align-self: flex-start;width: 50%;}#sk-container-id-1 div.sk-parallel-item:only-child::after {width: 0;}#sk-container-id-1 div.sk-dashed-wrapped {border: 1px dashed gray;margin: 0 0.4em 0.5em 0.4em;box-sizing: border-box;padding-bottom: 0.4em;background-color: white;}#sk-container-id-1 div.sk-label label {font-family: monospace;font-weight: bold;display: inline-block;line-height: 1.2em;}#sk-container-id-1 div.sk-label-container {text-align: center;}#sk-container-id-1 div.sk-container {/* jupyter's `normalize.less` sets `[hidden] { display: none; }` but bootstrap.min.css set `[hidden] { display: none !important; }` so we also need the `!important` here to be able to override the default hidden behavior on the sphinx rendered scikit-learn.org. See: https://github.com/scikit-learn/scikit-learn/issues/21755 */display: inline-block !important;position: relative;}#sk-container-id-1 div.sk-text-repr-fallback {display: none;}</style><div id=\"sk-container-id-1\" class=\"sk-top-container\"><div class=\"sk-text-repr-fallback\"><pre>IterativeImputer(max_iter=100, random_state=0, sample_posterior=True)</pre><b>In a Jupyter environment, please rerun this cell to show the HTML representation or trust the notebook. <br />On GitHub, the HTML representation is unable to render, please try loading this page with nbviewer.org.</b></div><div class=\"sk-container\" hidden><div class=\"sk-item\"><div class=\"sk-estimator sk-toggleable\"><input class=\"sk-toggleable__control sk-hidden--visually\" id=\"sk-estimator-id-1\" type=\"checkbox\" checked><label for=\"sk-estimator-id-1\" class=\"sk-toggleable__label sk-toggleable__label-arrow\">IterativeImputer</label><div class=\"sk-toggleable__content\"><pre>IterativeImputer(max_iter=100, random_state=0, sample_posterior=True)</pre></div></div></div></div></div>"
      ],
      "text/plain": [
       "IterativeImputer(max_iter=100, random_state=0, sample_posterior=True)"
      ]
     },
     "execution_count": 8,
     "metadata": {},
     "output_type": "execute_result"
    }
   ],
   "source": [
    "x = pd.DataFrame({'q': q, 'd': d, 't': t})\n",
    "prop_train = 0.5\n",
    "N_train = int(prop_train * N)\n",
    "x_train = x.iloc[:N_train]\n",
    "x_test = x.iloc[N_train:]\n",
    "imp = IterativeImputer(max_iter=100, random_state=0, sample_posterior=True)\n",
    "imp.fit(x_train.values) #imputer learns from marginal distribution"
   ]
  },
  {
   "cell_type": "code",
   "execution_count": 9,
   "id": "e8be4fe6",
   "metadata": {},
   "outputs": [],
   "source": [
    "\n",
    "x_indep = pd.DataFrame({'q': np.random.permutation(q), 'd': np.random.permutation(d), 't': np.random.permutation(t)})\n",
    "x_indep_train = x_indep.iloc[:N_train]\n",
    "x_indep_test = x_indep.iloc[N_train:]\n"
   ]
  },
  {
   "cell_type": "code",
   "execution_count": 10,
   "id": "945980d9",
   "metadata": {},
   "outputs": [],
   "source": [
    "indep_classifier = OracleClassifier()"
   ]
  },
  {
   "cell_type": "code",
   "execution_count": 11,
   "id": "3254eccd",
   "metadata": {},
   "outputs": [
    {
     "data": {
      "text/plain": [
       "1.0"
      ]
     },
     "execution_count": 11,
     "metadata": {},
     "output_type": "execute_result"
    }
   ],
   "source": [
    "indep_classifier.score(np.vstack([x_train]), np.hstack([np.zeros(len(x_train))]))"
   ]
  },
  {
   "cell_type": "code",
   "execution_count": 12,
   "id": "927ff83d",
   "metadata": {},
   "outputs": [
    {
     "data": {
      "text/plain": [
       "0.472"
      ]
     },
     "execution_count": 12,
     "metadata": {},
     "output_type": "execute_result"
    }
   ],
   "source": [
    "indep_classifier.score(np.vstack([x_indep_train]), np.hstack([np.ones(len(x_indep_train))]))"
   ]
  },
  {
   "cell_type": "code",
   "execution_count": 13,
   "id": "d8a6edce",
   "metadata": {},
   "outputs": [
    {
     "data": {
      "text/plain": [
       "1.0"
      ]
     },
     "execution_count": 13,
     "metadata": {},
     "output_type": "execute_result"
    }
   ],
   "source": [
    "indep_classifier.score(np.vstack([x_test]), np.hstack([np.zeros(len(x_test))]))"
   ]
  },
  {
   "cell_type": "code",
   "execution_count": 14,
   "id": "2f40eda9",
   "metadata": {},
   "outputs": [
    {
     "data": {
      "text/plain": [
       "0.488"
      ]
     },
     "execution_count": 14,
     "metadata": {},
     "output_type": "execute_result"
    }
   ],
   "source": [
    "indep_classifier.score(np.vstack([x_indep_test]), np.hstack([np.ones(len(x_indep_test))]))"
   ]
  },
  {
   "cell_type": "code",
   "execution_count": null,
   "id": "fff36ee5",
   "metadata": {},
   "outputs": [],
   "source": []
  },
  {
   "cell_type": "code",
   "execution_count": 15,
   "id": "cf3f232b",
   "metadata": {},
   "outputs": [],
   "source": [
    "# x = pd.DataFrame({'q': q, 'd': d, 't': t})\n",
    "from scipy.special import expit\n",
    "def predict_proba_unfair(x):\n",
    "    d = x[:,1]\n",
    "    q = q_mean#x[:,0]\n",
    "    t = x[:,2]\n",
    "    return t\n",
    "\n",
    "unfair_model = ModelWrapper(predict_proba_unfair)\n",
    "\n",
    "def predict_proba_fair(x):\n",
    "    d = d_mean#x[:,1]\n",
    "    q = x[:,0]\n",
    "    t = t_mean#x[:,2]\n",
    "    return q\n",
    "\n",
    "fair_model = ModelWrapper(predict_proba_fair)\n",
    "\n",
    "\n",
    "def predict_proba_attacker(x):\n",
    "    indep = indep_classifier.predict(x)\n",
    "    print(indep.mean())\n",
    "    fair = predict_proba_fair(x)\n",
    "    unfair = predict_proba_unfair(x)\n",
    "    return indep*fair + (1 - indep)*unfair\n",
    "\n",
    "attacker_model = ModelWrapper(predict_proba_attacker)\n"
   ]
  },
  {
   "cell_type": "code",
   "execution_count": 16,
   "id": "f8cd26dd",
   "metadata": {},
   "outputs": [
    {
     "data": {
      "text/html": [
       "<style>#sk-container-id-2 {color: black;background-color: white;}#sk-container-id-2 pre{padding: 0;}#sk-container-id-2 div.sk-toggleable {background-color: white;}#sk-container-id-2 label.sk-toggleable__label {cursor: pointer;display: block;width: 100%;margin-bottom: 0;padding: 0.3em;box-sizing: border-box;text-align: center;}#sk-container-id-2 label.sk-toggleable__label-arrow:before {content: \"▸\";float: left;margin-right: 0.25em;color: #696969;}#sk-container-id-2 label.sk-toggleable__label-arrow:hover:before {color: black;}#sk-container-id-2 div.sk-estimator:hover label.sk-toggleable__label-arrow:before {color: black;}#sk-container-id-2 div.sk-toggleable__content {max-height: 0;max-width: 0;overflow: hidden;text-align: left;background-color: #f0f8ff;}#sk-container-id-2 div.sk-toggleable__content pre {margin: 0.2em;color: black;border-radius: 0.25em;background-color: #f0f8ff;}#sk-container-id-2 input.sk-toggleable__control:checked~div.sk-toggleable__content {max-height: 200px;max-width: 100%;overflow: auto;}#sk-container-id-2 input.sk-toggleable__control:checked~label.sk-toggleable__label-arrow:before {content: \"▾\";}#sk-container-id-2 div.sk-estimator input.sk-toggleable__control:checked~label.sk-toggleable__label {background-color: #d4ebff;}#sk-container-id-2 div.sk-label input.sk-toggleable__control:checked~label.sk-toggleable__label {background-color: #d4ebff;}#sk-container-id-2 input.sk-hidden--visually {border: 0;clip: rect(1px 1px 1px 1px);clip: rect(1px, 1px, 1px, 1px);height: 1px;margin: -1px;overflow: hidden;padding: 0;position: absolute;width: 1px;}#sk-container-id-2 div.sk-estimator {font-family: monospace;background-color: #f0f8ff;border: 1px dotted black;border-radius: 0.25em;box-sizing: border-box;margin-bottom: 0.5em;}#sk-container-id-2 div.sk-estimator:hover {background-color: #d4ebff;}#sk-container-id-2 div.sk-parallel-item::after {content: \"\";width: 100%;border-bottom: 1px solid gray;flex-grow: 1;}#sk-container-id-2 div.sk-label:hover label.sk-toggleable__label {background-color: #d4ebff;}#sk-container-id-2 div.sk-serial::before {content: \"\";position: absolute;border-left: 1px solid gray;box-sizing: border-box;top: 0;bottom: 0;left: 50%;z-index: 0;}#sk-container-id-2 div.sk-serial {display: flex;flex-direction: column;align-items: center;background-color: white;padding-right: 0.2em;padding-left: 0.2em;position: relative;}#sk-container-id-2 div.sk-item {position: relative;z-index: 1;}#sk-container-id-2 div.sk-parallel {display: flex;align-items: stretch;justify-content: center;background-color: white;position: relative;}#sk-container-id-2 div.sk-item::before, #sk-container-id-2 div.sk-parallel-item::before {content: \"\";position: absolute;border-left: 1px solid gray;box-sizing: border-box;top: 0;bottom: 0;left: 50%;z-index: -1;}#sk-container-id-2 div.sk-parallel-item {display: flex;flex-direction: column;z-index: 1;position: relative;background-color: white;}#sk-container-id-2 div.sk-parallel-item:first-child::after {align-self: flex-end;width: 50%;}#sk-container-id-2 div.sk-parallel-item:last-child::after {align-self: flex-start;width: 50%;}#sk-container-id-2 div.sk-parallel-item:only-child::after {width: 0;}#sk-container-id-2 div.sk-dashed-wrapped {border: 1px dashed gray;margin: 0 0.4em 0.5em 0.4em;box-sizing: border-box;padding-bottom: 0.4em;background-color: white;}#sk-container-id-2 div.sk-label label {font-family: monospace;font-weight: bold;display: inline-block;line-height: 1.2em;}#sk-container-id-2 div.sk-label-container {text-align: center;}#sk-container-id-2 div.sk-container {/* jupyter's `normalize.less` sets `[hidden] { display: none; }` but bootstrap.min.css set `[hidden] { display: none !important; }` so we also need the `!important` here to be able to override the default hidden behavior on the sphinx rendered scikit-learn.org. See: https://github.com/scikit-learn/scikit-learn/issues/21755 */display: inline-block !important;position: relative;}#sk-container-id-2 div.sk-text-repr-fallback {display: none;}</style><div id=\"sk-container-id-2\" class=\"sk-top-container\"><div class=\"sk-text-repr-fallback\"><pre>IterativeImputer(max_iter=100, random_state=0, sample_posterior=True)</pre><b>In a Jupyter environment, please rerun this cell to show the HTML representation or trust the notebook. <br />On GitHub, the HTML representation is unable to render, please try loading this page with nbviewer.org.</b></div><div class=\"sk-container\" hidden><div class=\"sk-item\"><div class=\"sk-estimator sk-toggleable\"><input class=\"sk-toggleable__control sk-hidden--visually\" id=\"sk-estimator-id-2\" type=\"checkbox\" checked><label for=\"sk-estimator-id-2\" class=\"sk-toggleable__label sk-toggleable__label-arrow\">IterativeImputer</label><div class=\"sk-toggleable__content\"><pre>IterativeImputer(max_iter=100, random_state=0, sample_posterior=True)</pre></div></div></div></div></div>"
      ],
      "text/plain": [
       "IterativeImputer(max_iter=100, random_state=0, sample_posterior=True)"
      ]
     },
     "execution_count": 16,
     "metadata": {},
     "output_type": "execute_result"
    }
   ],
   "source": [
    "imp_all_but_t = IterativeImputer(max_iter=100, random_state=0, sample_posterior=True)\n",
    "imp_all_but_t.fit(x_train[['q','d']].values)"
   ]
  },
  {
   "cell_type": "code",
   "execution_count": 17,
   "id": "80ef4528",
   "metadata": {},
   "outputs": [
    {
     "data": {
      "text/html": [
       "<style>#sk-container-id-3 {color: black;background-color: white;}#sk-container-id-3 pre{padding: 0;}#sk-container-id-3 div.sk-toggleable {background-color: white;}#sk-container-id-3 label.sk-toggleable__label {cursor: pointer;display: block;width: 100%;margin-bottom: 0;padding: 0.3em;box-sizing: border-box;text-align: center;}#sk-container-id-3 label.sk-toggleable__label-arrow:before {content: \"▸\";float: left;margin-right: 0.25em;color: #696969;}#sk-container-id-3 label.sk-toggleable__label-arrow:hover:before {color: black;}#sk-container-id-3 div.sk-estimator:hover label.sk-toggleable__label-arrow:before {color: black;}#sk-container-id-3 div.sk-toggleable__content {max-height: 0;max-width: 0;overflow: hidden;text-align: left;background-color: #f0f8ff;}#sk-container-id-3 div.sk-toggleable__content pre {margin: 0.2em;color: black;border-radius: 0.25em;background-color: #f0f8ff;}#sk-container-id-3 input.sk-toggleable__control:checked~div.sk-toggleable__content {max-height: 200px;max-width: 100%;overflow: auto;}#sk-container-id-3 input.sk-toggleable__control:checked~label.sk-toggleable__label-arrow:before {content: \"▾\";}#sk-container-id-3 div.sk-estimator input.sk-toggleable__control:checked~label.sk-toggleable__label {background-color: #d4ebff;}#sk-container-id-3 div.sk-label input.sk-toggleable__control:checked~label.sk-toggleable__label {background-color: #d4ebff;}#sk-container-id-3 input.sk-hidden--visually {border: 0;clip: rect(1px 1px 1px 1px);clip: rect(1px, 1px, 1px, 1px);height: 1px;margin: -1px;overflow: hidden;padding: 0;position: absolute;width: 1px;}#sk-container-id-3 div.sk-estimator {font-family: monospace;background-color: #f0f8ff;border: 1px dotted black;border-radius: 0.25em;box-sizing: border-box;margin-bottom: 0.5em;}#sk-container-id-3 div.sk-estimator:hover {background-color: #d4ebff;}#sk-container-id-3 div.sk-parallel-item::after {content: \"\";width: 100%;border-bottom: 1px solid gray;flex-grow: 1;}#sk-container-id-3 div.sk-label:hover label.sk-toggleable__label {background-color: #d4ebff;}#sk-container-id-3 div.sk-serial::before {content: \"\";position: absolute;border-left: 1px solid gray;box-sizing: border-box;top: 0;bottom: 0;left: 50%;z-index: 0;}#sk-container-id-3 div.sk-serial {display: flex;flex-direction: column;align-items: center;background-color: white;padding-right: 0.2em;padding-left: 0.2em;position: relative;}#sk-container-id-3 div.sk-item {position: relative;z-index: 1;}#sk-container-id-3 div.sk-parallel {display: flex;align-items: stretch;justify-content: center;background-color: white;position: relative;}#sk-container-id-3 div.sk-item::before, #sk-container-id-3 div.sk-parallel-item::before {content: \"\";position: absolute;border-left: 1px solid gray;box-sizing: border-box;top: 0;bottom: 0;left: 50%;z-index: -1;}#sk-container-id-3 div.sk-parallel-item {display: flex;flex-direction: column;z-index: 1;position: relative;background-color: white;}#sk-container-id-3 div.sk-parallel-item:first-child::after {align-self: flex-end;width: 50%;}#sk-container-id-3 div.sk-parallel-item:last-child::after {align-self: flex-start;width: 50%;}#sk-container-id-3 div.sk-parallel-item:only-child::after {width: 0;}#sk-container-id-3 div.sk-dashed-wrapped {border: 1px dashed gray;margin: 0 0.4em 0.5em 0.4em;box-sizing: border-box;padding-bottom: 0.4em;background-color: white;}#sk-container-id-3 div.sk-label label {font-family: monospace;font-weight: bold;display: inline-block;line-height: 1.2em;}#sk-container-id-3 div.sk-label-container {text-align: center;}#sk-container-id-3 div.sk-container {/* jupyter's `normalize.less` sets `[hidden] { display: none; }` but bootstrap.min.css set `[hidden] { display: none !important; }` so we also need the `!important` here to be able to override the default hidden behavior on the sphinx rendered scikit-learn.org. See: https://github.com/scikit-learn/scikit-learn/issues/21755 */display: inline-block !important;position: relative;}#sk-container-id-3 div.sk-text-repr-fallback {display: none;}</style><div id=\"sk-container-id-3\" class=\"sk-top-container\"><div class=\"sk-text-repr-fallback\"><pre>LogisticRegression()</pre><b>In a Jupyter environment, please rerun this cell to show the HTML representation or trust the notebook. <br />On GitHub, the HTML representation is unable to render, please try loading this page with nbviewer.org.</b></div><div class=\"sk-container\" hidden><div class=\"sk-item\"><div class=\"sk-estimator sk-toggleable\"><input class=\"sk-toggleable__control sk-hidden--visually\" id=\"sk-estimator-id-3\" type=\"checkbox\" checked><label for=\"sk-estimator-id-3\" class=\"sk-toggleable__label sk-toggleable__label-arrow\">LogisticRegression</label><div class=\"sk-toggleable__content\"><pre>LogisticRegression()</pre></div></div></div></div></div>"
      ],
      "text/plain": [
       "LogisticRegression()"
      ]
     },
     "execution_count": 17,
     "metadata": {},
     "output_type": "execute_result"
    }
   ],
   "source": [
    "from sklearn.linear_model import LinearRegression, LogisticRegression\n",
    "from sklearn.preprocessing import PolynomialFeatures\n",
    "from sklearn.pipeline import Pipeline\n",
    "propensity = LogisticRegression()\n",
    "propensity.fit(x_train[['q','d']], x_train['t'])"
   ]
  },
  {
   "cell_type": "code",
   "execution_count": 18,
   "id": "c475b7cf",
   "metadata": {},
   "outputs": [
    {
     "data": {
      "text/plain": [
       "(array([[-0.02300938, -7.10988868]]), array([3.59348987]))"
      ]
     },
     "execution_count": 18,
     "metadata": {},
     "output_type": "execute_result"
    }
   ],
   "source": [
    "propensity.coef_, propensity.intercept_"
   ]
  },
  {
   "cell_type": "markdown",
   "id": "af981cc3",
   "metadata": {},
   "source": [
    "## Off-manifold Shapley"
   ]
  },
  {
   "cell_type": "code",
   "execution_count": 19,
   "id": "679a9906",
   "metadata": {},
   "outputs": [
    {
     "name": "stdout",
     "output_type": "stream",
     "text": [
      "unfair_off_all\n",
      "Execution time (s) : 0.016586780548095703\n",
      "unfair_off_all_but_t\n",
      "Execution time (s) : 0.015485763549804688\n",
      "unfair_off_all_but_q\n",
      "Execution time (s) : 0.012666940689086914\n",
      "unfair_off_all_but_q_t\n",
      "Execution time (s) : 0.011327981948852539\n",
      "unfair_off_all_but_d\n",
      "Execution time (s) : 0.011465787887573242\n",
      "unfair_off_all_but_d_t\n",
      "Execution time (s) : 0.011539936065673828\n",
      "unfair_off_all_but_q_d\n",
      "Execution time (s) : 0.013573884963989258\n",
      "unfair_off_all_but_q_d_t\n",
      "Execution time (s) : 0.012055158615112305\n",
      "attacker_off_all\n",
      "Execution time (s) : 0.01111912727355957\n",
      "0.0\n",
      "attacker_off_all_but_t\n",
      "Execution time (s) : 0.012040376663208008\n",
      "0.504208\n",
      "attacker_off_all_but_q\n",
      "Execution time (s) : 0.011060237884521484\n",
      "0.0\n",
      "attacker_off_all_but_q_t\n",
      "Execution time (s) : 0.011189460754394531\n",
      "0.499072\n",
      "attacker_off_all_but_d\n",
      "Execution time (s) : 0.010641098022460938\n",
      "0.501936\n",
      "attacker_off_all_but_d_t\n",
      "Execution time (s) : 0.01069784164428711\n",
      "0.0\n",
      "attacker_off_all_but_q_d\n",
      "Execution time (s) : 0.01344609260559082\n",
      "0.500688\n",
      "attacker_off_all_but_q_d_t\n",
      "Execution time (s) : 0.012751579284667969\n",
      "0.0\n",
      "fair_off_all\n",
      "Execution time (s) : 0.011849641799926758\n",
      "fair_off_all_but_t\n",
      "Execution time (s) : 0.010901451110839844\n",
      "fair_off_all_but_q\n",
      "Execution time (s) : 0.010763168334960938\n",
      "fair_off_all_but_q_t\n",
      "Execution time (s) : 0.010704994201660156\n",
      "fair_off_all_but_d\n",
      "Execution time (s) : 0.012189626693725586\n",
      "fair_off_all_but_d_t\n",
      "Execution time (s) : 0.012729167938232422\n",
      "fair_off_all_but_q_d\n",
      "Execution time (s) : 0.014482975006103516\n",
      "fair_off_all_but_q_d_t\n",
      "Execution time (s) : 0.011857748031616211\n"
     ]
    }
   ],
   "source": [
    "# Unfair\n",
    "print('unfair_off_all')\n",
    "unfair_off_all = model_outcomes_coal(model=unfair_model, coal=np.array([1,1,1]), local_obs=x_test.values, ref_point=x_train.values, imp=None, predict_proba=True)\n",
    "print('unfair_off_all_but_t')\n",
    "unfair_off_all_but_t = model_outcomes_coal(model=unfair_model, coal=np.array([1,1,0]), local_obs=x_test.values, ref_point=x_train.values, imp=None, predict_proba=True)\n",
    "\n",
    "\n",
    "print('unfair_off_all_but_q')\n",
    "unfair_off_all_but_q = model_outcomes_coal(model=unfair_model, coal=np.array([0,1,1]), local_obs=x_test.values, ref_point=x_train.values, imp=None, predict_proba=True)\n",
    "print('unfair_off_all_but_q_t')\n",
    "unfair_off_all_but_q_t = model_outcomes_coal(model=unfair_model, coal=np.array([0,1,0]), local_obs=x_test.values, ref_point=x_train.values, imp=None, predict_proba=True)\n",
    "\n",
    "\n",
    "print('unfair_off_all_but_d')\n",
    "unfair_off_all_but_d = model_outcomes_coal(model=unfair_model, coal=np.array([1,0,1]), local_obs=x_test.values, ref_point=x_train.values, imp=None, predict_proba=True)\n",
    "print('unfair_off_all_but_d_t')\n",
    "unfair_off_all_but_d_t = model_outcomes_coal(model=unfair_model, coal=np.array([1,0,0]), local_obs=x_test.values, ref_point=x_train.values, imp=None, predict_proba=True)\n",
    "\n",
    "print('unfair_off_all_but_q_d')\n",
    "unfair_off_all_but_q_d = model_outcomes_coal(model=unfair_model, coal=np.array([0,0,1]), local_obs=x_test.values, ref_point=x_train.values, imp=None, predict_proba=True)\n",
    "print('unfair_off_all_but_q_d_t')\n",
    "unfair_off_all_but_q_d_t = model_outcomes_coal(model=unfair_model, coal=np.array([0,0,0]), local_obs=x_test.values, ref_point=x_train.values, imp=None, predict_proba=True)\n",
    "\n",
    "# Attacker\n",
    "print('attacker_off_all')\n",
    "attacker_off_all = model_outcomes_coal(model=attacker_model, coal=np.array([1,1,1]), local_obs=x_test.values, ref_point=x_train.values, imp=None, predict_proba=True)\n",
    "print('attacker_off_all_but_t')\n",
    "attacker_off_all_but_t = model_outcomes_coal(model=attacker_model, coal=np.array([1,1,0]), local_obs=x_test.values, ref_point=x_train.values, imp=None, predict_proba=True)\n",
    "\n",
    "\n",
    "print('attacker_off_all_but_q')\n",
    "attacker_off_all_but_q = model_outcomes_coal(model=attacker_model, coal=np.array([0,1,1]), local_obs=x_test.values, ref_point=x_train.values, imp=None, predict_proba=True)\n",
    "print('attacker_off_all_but_q_t')\n",
    "attacker_off_all_but_q_t = model_outcomes_coal(model=attacker_model, coal=np.array([0,1,0]), local_obs=x_test.values, ref_point=x_train.values, imp=None, predict_proba=True)\n",
    "\n",
    "\n",
    "print('attacker_off_all_but_d')\n",
    "attacker_off_all_but_d = model_outcomes_coal(model=attacker_model, coal=np.array([1,0,1]), local_obs=x_test.values, ref_point=x_train.values, imp=None, predict_proba=True)\n",
    "print('attacker_off_all_but_d_t')\n",
    "attacker_off_all_but_d_t = model_outcomes_coal(model=attacker_model, coal=np.array([1,0,0]), local_obs=x_test.values, ref_point=x_train.values, imp=None, predict_proba=True)\n",
    "\n",
    "\n",
    "print('attacker_off_all_but_q_d')\n",
    "attacker_off_all_but_q_d = model_outcomes_coal(model=attacker_model, coal=np.array([0,0,1]), local_obs=x_test.values, ref_point=x_train.values, imp=None, predict_proba=True)\n",
    "print('attacker_off_all_but_q_d_t')\n",
    "attacker_off_all_but_q_d_t = model_outcomes_coal(model=attacker_model, coal=np.array([0,0,0]), local_obs=x_test.values, ref_point=x_train.values, imp=None, predict_proba=True)\n",
    "\n",
    "# Fair\n",
    "print('fair_off_all')\n",
    "fair_off_all = model_outcomes_coal(model=fair_model, coal=np.array([1,1,1]), local_obs=x_test.values, ref_point=x_train.values, imp=None, predict_proba=True)\n",
    "print('fair_off_all_but_t')\n",
    "fair_off_all_but_t = model_outcomes_coal(model=fair_model, coal=np.array([1,1,0]), local_obs=x_test.values, ref_point=x_train.values, imp=None, predict_proba=True)\n",
    "\n",
    "\n",
    "print('fair_off_all_but_q')\n",
    "fair_off_all_but_q = model_outcomes_coal(model=fair_model, coal=np.array([0,1,1]), local_obs=x_test.values, ref_point=x_train.values, imp=None, predict_proba=True)\n",
    "print('fair_off_all_but_q_t')\n",
    "fair_off_all_but_q_t = model_outcomes_coal(model=fair_model, coal=np.array([0,1,0]), local_obs=x_test.values, ref_point=x_train.values, imp=None, predict_proba=True)\n",
    "\n",
    "\n",
    "print('fair_off_all_but_d')\n",
    "fair_off_all_but_d = model_outcomes_coal(model=fair_model, coal=np.array([1,0,1]), local_obs=x_test.values, ref_point=x_train.values, imp=None, predict_proba=True)\n",
    "print('fair_off_all_but_d_t')\n",
    "fair_off_all_but_d_t = model_outcomes_coal(model=fair_model, coal=np.array([1,0,0]), local_obs=x_test.values, ref_point=x_train.values, imp=None, predict_proba=True)\n",
    "\n",
    "\n",
    "print('fair_off_all_but_q_d')\n",
    "fair_off_all_but_q_d = model_outcomes_coal(model=fair_model, coal=np.array([0,0,1]), local_obs=x_test.values, ref_point=x_train.values, imp=None, predict_proba=True)\n",
    "print('fair_off_all_but_q_d_t')\n",
    "fair_off_all_but_q_d_t = model_outcomes_coal(model=fair_model, coal=np.array([0,0,0]), local_obs=x_test.values, ref_point=x_train.values, imp=None, predict_proba=True)\n"
   ]
  },
  {
   "cell_type": "code",
   "execution_count": 49,
   "id": "4b8a7246",
   "metadata": {},
   "outputs": [
    {
     "data": {
      "text/plain": [
       "<AxesSubplot:>"
      ]
     },
     "execution_count": 49,
     "metadata": {},
     "output_type": "execute_result"
    },
    {
     "data": {
      "image/png": "[encoded data removed]",
      "text/plain": [
       "<Figure size 400x300 with 1 Axes>"
      ]
     },
     "metadata": {},
     "output_type": "display_data"
    }
   ],
   "source": [
    "unfair_off = 1/3*(unfair_off_all - unfair_off_all_but_t) + 1/6*(unfair_off_all_but_q - unfair_off_all_but_q_t) + 1/6*(unfair_off_all_but_d - unfair_off_all_but_d_t) + 1/3*(unfair_off_all_but_q_d - unfair_off_all_but_q_d_t)\n",
    "unfair_off = unfair_off.mean(axis=1)\n",
    "\n",
    "attacker_off = 1/3*(attacker_off_all - attacker_off_all_but_t) + 1/6*(attacker_off_all_but_q - attacker_off_all_but_q_t) + 1/6*(attacker_off_all_but_d - attacker_off_all_but_d_t) + 1/3*(attacker_off_all_but_q_d - attacker_off_all_but_q_d_t)\n",
    "attacker_off = attacker_off.mean(axis=1)\n",
    "\n",
    "fair_off = 1/3*(fair_off_all - fair_off_all_but_t) + 1/6*(fair_off_all_but_q - fair_off_all_but_q_t) + 1/6*(fair_off_all_but_d - fair_off_all_but_d_t) + 1/3*(fair_off_all_but_q_d - fair_off_all_but_q_d_t)\n",
    "fair_off = fair_off.mean(axis=1)\n",
    "\n",
    "df_off = pd.DataFrame({\n",
    "    'unfair': unfair_off,\n",
    "    'attacker': attacker_off,\n",
    "    'fair': fair_off\n",
    "})\n",
    "df_off.boxplot(fontsize=13, figsize=(4,3))"
   ]
  },
  {
   "cell_type": "markdown",
   "id": "5346a336",
   "metadata": {},
   "source": [
    "## Observational Shapley"
   ]
  },
  {
   "cell_type": "code",
   "execution_count": 21,
   "id": "1e3ecde2",
   "metadata": {},
   "outputs": [
    {
     "name": "stdout",
     "output_type": "stream",
     "text": [
      "unfair_on_all\n",
      "Execution time (s) : 0.47779202461242676\n",
      "unfair_on_all_but_t\n",
      "Execution time (s) : 438.94160890579224\n"
     ]
    }
   ],
   "source": [
    "# Full coalition\n",
    "print('unfair_on_all')\n",
    "unfair_on_all = model_outcomes_coal(model=unfair_model, coal=np.array([1,1,1]), local_obs=x_test.values, ref_point=x_train.values, imp=imp, predict_proba=True)\n",
    "print('unfair_on_all_but_t')\n",
    "unfair_on_all_but_t = model_outcomes_coal(model=unfair_model, coal=np.array([1,1,0]), local_obs=x_test.values, ref_point=x_train.values, imp=imp, predict_proba=True)\n"
   ]
  },
  {
   "cell_type": "code",
   "execution_count": 22,
   "id": "c33de4a9",
   "metadata": {},
   "outputs": [
    {
     "name": "stdout",
     "output_type": "stream",
     "text": [
      "unfair_on_all_but_q\n",
      "Execution time (s) : 548.1919240951538\n",
      "unfair_on_all_but_q_t\n",
      "Execution time (s) : 1219.5083029270172\n"
     ]
    }
   ],
   "source": [
    "print('unfair_on_all_but_q')\n",
    "unfair_on_all_but_q = model_outcomes_coal(model=unfair_model, coal=np.array([0,1,1]), local_obs=x_test.values, ref_point=x_train.values, imp=imp, predict_proba=True)\n",
    "print('unfair_on_all_but_q_t')\n",
    "unfair_on_all_but_q_t = model_outcomes_coal(model=unfair_model, coal=np.array([0,1,0]), local_obs=x_test.values, ref_point=x_train.values, imp=imp, predict_proba=True)\n"
   ]
  },
  {
   "cell_type": "code",
   "execution_count": 23,
   "id": "c069105e",
   "metadata": {},
   "outputs": [
    {
     "name": "stdout",
     "output_type": "stream",
     "text": [
      "unfair_on_all_but_d\n",
      "Execution time (s) : 658.4767642021179\n",
      "unfair_on_all_but_d_t\n",
      "Execution time (s) : 1337.2694683074951\n"
     ]
    }
   ],
   "source": [
    "print('unfair_on_all_but_d')\n",
    "unfair_on_all_but_d = model_outcomes_coal(model=unfair_model, coal=np.array([1,0,1]), local_obs=x_test.values, ref_point=x_train.values, imp=imp, predict_proba=True)\n",
    "print('unfair_on_all_but_d_t')\n",
    "unfair_on_all_but_d_t = model_outcomes_coal(model=unfair_model, coal=np.array([1,0,0]), local_obs=x_test.values, ref_point=x_train.values, imp=imp, predict_proba=True)\n"
   ]
  },
  {
   "cell_type": "code",
   "execution_count": 24,
   "id": "2d0a2073",
   "metadata": {},
   "outputs": [
    {
     "name": "stdout",
     "output_type": "stream",
     "text": [
      "unfair_on_all_but_q_d\n",
      "Execution time (s) : 1242.6532764434814\n",
      "unfair_on_all_but_q_d_t\n",
      "Execution time (s) : 0.026889324188232422\n"
     ]
    }
   ],
   "source": [
    "print('unfair_on_all_but_q_d')\n",
    "unfair_on_all_but_q_d = model_outcomes_coal(model=unfair_model, coal=np.array([0,0,1]), local_obs=x_test.values, ref_point=x_train.values, imp=imp, predict_proba=True)\n",
    "print('unfair_on_all_but_q_d_t')\n",
    "unfair_on_all_but_q_d_t = model_outcomes_coal(model=unfair_model, coal=np.array([0,0,0]), local_obs=x_test.values, ref_point=x_train.values, imp=imp, predict_proba=True)\n"
   ]
  },
  {
   "cell_type": "code",
   "execution_count": null,
   "id": "fca272b4",
   "metadata": {},
   "outputs": [],
   "source": []
  },
  {
   "cell_type": "code",
   "execution_count": 25,
   "id": "6d642878",
   "metadata": {},
   "outputs": [
    {
     "name": "stdout",
     "output_type": "stream",
     "text": [
      "attacker_on_all\n",
      "Execution time (s) : 1.5798094272613525\n",
      "0.0\n",
      "attacker_on_all_but_t\n",
      "Execution time (s) : 721.6795024871826\n",
      "0.100448\n",
      "attacker_on_all_but_q\n",
      "Execution time (s) : 667.4885954856873\n",
      "0.0\n",
      "attacker_on_all_but_q_t\n",
      "Execution time (s) : 1159.0172159671783\n",
      "0.09968\n",
      "attacker_on_all_but_d\n",
      "Execution time (s) : 803.6634564399719\n",
      "0.02392\n",
      "attacker_on_all_but_d_t\n",
      "Execution time (s) : 1813.6883673667908\n",
      "0.14968\n",
      "attacker_on_all_but_q_d\n",
      "Execution time (s) : 1707.4329013824463\n",
      "0.024032\n",
      "attacker_on_all_but_q_d_t\n",
      "Execution time (s) : 0.014205217361450195\n",
      "0.0\n"
     ]
    }
   ],
   "source": [
    "# Attacker\n",
    "print('attacker_on_all')\n",
    "attacker_on_all = model_outcomes_coal(model=attacker_model, coal=np.array([1,1,1]), local_obs=x_test.values, ref_point=x_train.values, imp=imp, predict_proba=True)\n",
    "print('attacker_on_all_but_t')\n",
    "attacker_on_all_but_t = model_outcomes_coal(model=attacker_model, coal=np.array([1,1,0]), local_obs=x_test.values, ref_point=x_train.values, imp=imp, predict_proba=True)\n",
    "\n",
    "\n",
    "print('attacker_on_all_but_q')\n",
    "attacker_on_all_but_q = model_outcomes_coal(model=attacker_model, coal=np.array([0,1,1]), local_obs=x_test.values, ref_point=x_train.values, imp=imp, predict_proba=True)\n",
    "print('attacker_on_all_but_q_t')\n",
    "attacker_on_all_but_q_t = model_outcomes_coal(model=attacker_model, coal=np.array([0,1,0]), local_obs=x_test.values, ref_point=x_train.values, imp=imp, predict_proba=True)\n",
    "\n",
    "\n",
    "print('attacker_on_all_but_d')\n",
    "attacker_on_all_but_d = model_outcomes_coal(model=attacker_model, coal=np.array([1,0,1]), local_obs=x_test.values, ref_point=x_train.values, imp=imp, predict_proba=True)\n",
    "print('attacker_on_all_but_d_t')\n",
    "attacker_on_all_but_d_t = model_outcomes_coal(model=attacker_model, coal=np.array([1,0,0]), local_obs=x_test.values, ref_point=x_train.values, imp=imp, predict_proba=True)\n",
    "\n",
    "\n",
    "print('attacker_on_all_but_q_d')\n",
    "attacker_on_all_but_q_d = model_outcomes_coal(model=attacker_model, coal=np.array([0,0,1]), local_obs=x_test.values, ref_point=x_train.values, imp=imp, predict_proba=True)\n",
    "print('attacker_on_all_but_q_d_t')\n",
    "attacker_on_all_but_q_d_t = model_outcomes_coal(model=attacker_model, coal=np.array([0,0,0]), local_obs=x_test.values, ref_point=x_train.values, imp=imp, predict_proba=True)\n"
   ]
  },
  {
   "cell_type": "code",
   "execution_count": 26,
   "id": "55e25706",
   "metadata": {},
   "outputs": [
    {
     "name": "stdout",
     "output_type": "stream",
     "text": [
      "fair_on_all\n",
      "Execution time (s) : 0.6470329761505127\n",
      "fair_on_all_but_t\n",
      "Execution time (s) : 861.3681883811951\n",
      "fair_on_all_but_q\n",
      "Execution time (s) : 761.5781300067902\n",
      "fair_on_all_but_q_t\n",
      "Execution time (s) : 1318.658113002777\n",
      "fair_on_all_but_d\n",
      "Execution time (s) : 528.7995693683624\n",
      "fair_on_all_but_d_t\n",
      "Execution time (s) : 1116.4991617202759\n",
      "fair_on_all_but_q_d\n",
      "Execution time (s) : 967.6955134868622\n",
      "fair_on_all_but_q_d_t\n",
      "Execution time (s) : 0.025769948959350586\n"
     ]
    }
   ],
   "source": [
    "# Fair\n",
    "print('fair_on_all')\n",
    "fair_on_all = model_outcomes_coal(model=fair_model, coal=np.array([1,1,1]), local_obs=x_test.values, ref_point=x_train.values, imp=imp, predict_proba=True)\n",
    "print('fair_on_all_but_t')\n",
    "fair_on_all_but_t = model_outcomes_coal(model=fair_model, coal=np.array([1,1,0]), local_obs=x_test.values, ref_point=x_train.values, imp=imp, predict_proba=True)\n",
    "\n",
    "\n",
    "print('fair_on_all_but_q')\n",
    "fair_on_all_but_q = model_outcomes_coal(model=fair_model, coal=np.array([0,1,1]), local_obs=x_test.values, ref_point=x_train.values, imp=imp, predict_proba=True)\n",
    "print('fair_on_all_but_q_t')\n",
    "fair_on_all_but_q_t = model_outcomes_coal(model=fair_model, coal=np.array([0,1,0]), local_obs=x_test.values, ref_point=x_train.values, imp=imp, predict_proba=True)\n",
    "\n",
    "\n",
    "print('fair_on_all_but_d')\n",
    "fair_on_all_but_d = model_outcomes_coal(model=fair_model, coal=np.array([1,0,1]), local_obs=x_test.values, ref_point=x_train.values, imp=imp, predict_proba=True)\n",
    "print('fair_on_all_but_d_t')\n",
    "fair_on_all_but_d_t = model_outcomes_coal(model=fair_model, coal=np.array([1,0,0]), local_obs=x_test.values, ref_point=x_train.values, imp=imp, predict_proba=True)\n",
    "\n",
    "\n",
    "print('fair_on_all_but_q_d')\n",
    "fair_on_all_but_q_d = model_outcomes_coal(model=fair_model, coal=np.array([0,0,1]), local_obs=x_test.values, ref_point=x_train.values, imp=imp, predict_proba=True)\n",
    "print('fair_on_all_but_q_d_t')\n",
    "fair_on_all_but_q_d_t = model_outcomes_coal(model=fair_model, coal=np.array([0,0,0]), local_obs=x_test.values, ref_point=x_train.values, imp=imp, predict_proba=True)\n"
   ]
  },
  {
   "cell_type": "code",
   "execution_count": 27,
   "id": "6e13ba10",
   "metadata": {},
   "outputs": [],
   "source": [
    "unfair_on = 1/3*(unfair_on_all - unfair_on_all_but_t) + 1/6*(unfair_on_all_but_q - unfair_on_all_but_q_t) + 1/6*(unfair_on_all_but_d - unfair_on_all_but_d_t) + 1/3*(unfair_on_all_but_q_d - unfair_on_all_but_q_d_t)\n",
    "unfair_on = unfair_on.mean(axis=1)"
   ]
  },
  {
   "cell_type": "code",
   "execution_count": 28,
   "id": "3fb2bc20",
   "metadata": {},
   "outputs": [],
   "source": [
    "attacker_on = 1/3*(attacker_on_all - attacker_on_all_but_t) + 1/6*(attacker_on_all_but_q - attacker_on_all_but_q_t) + 1/6*(attacker_on_all_but_d - attacker_on_all_but_d_t) + 1/3*(attacker_on_all_but_q_d - attacker_on_all_but_q_d_t)\n",
    "attacker_on = attacker_on.mean(axis=1)"
   ]
  },
  {
   "cell_type": "code",
   "execution_count": 29,
   "id": "ab675d77",
   "metadata": {},
   "outputs": [],
   "source": [
    "fair_on = 1/3*(fair_on_all - fair_on_all_but_t) + 1/6*(fair_on_all_but_q - fair_on_all_but_q_t) + 1/6*(fair_on_all_but_d - fair_on_all_but_d_t) + 1/3*(fair_on_all_but_q_d - fair_on_all_but_q_d_t)\n",
    "fair_on = fair_on.mean(axis=1)"
   ]
  },
  {
   "cell_type": "code",
   "execution_count": 50,
   "id": "81061551",
   "metadata": {},
   "outputs": [
    {
     "data": {
      "text/plain": [
       "<AxesSubplot:>"
      ]
     },
     "execution_count": 50,
     "metadata": {},
     "output_type": "execute_result"
    },
    {
     "data": {
      "image/png": "[encoded data removed]",
      "text/plain": [
       "<Figure size 400x300 with 1 Axes>"
      ]
     },
     "metadata": {},
     "output_type": "display_data"
    }
   ],
   "source": [
    "df_on = pd.DataFrame({\n",
    "    'unfair': unfair_on,\n",
    "    'attacker': attacker_on,\n",
    "    'fair': fair_on\n",
    "})\n",
    "df_on.boxplot(fontsize=13, figsize=(4,3))"
   ]
  },
  {
   "cell_type": "markdown",
   "id": "7b347c6b",
   "metadata": {},
   "source": [
    "## PWSHAP"
   ]
  },
  {
   "cell_type": "code",
   "execution_count": 31,
   "id": "d4a808ed",
   "metadata": {},
   "outputs": [
    {
     "name": "stdout",
     "output_type": "stream",
     "text": [
      "Execution time (s) : 0.2812228202819824\n"
     ]
    },
    {
     "name": "stderr",
     "output_type": "stream",
     "text": [
      "/home/clivio/miniconda3/envs/pwshap/lib/python3.10/site-packages/sklearn/base.py:450: UserWarning: X does not have valid feature names, but LogisticRegression was fitted with feature names\n",
      "  warnings.warn(\n"
     ]
    },
    {
     "name": "stdout",
     "output_type": "stream",
     "text": [
      "Execution time (s) : 421.87686347961426\n",
      "Execution time (s) : 0.01398324966430664\n"
     ]
    },
    {
     "name": "stderr",
     "output_type": "stream",
     "text": [
      "/home/clivio/miniconda3/envs/pwshap/lib/python3.10/site-packages/sklearn/base.py:450: UserWarning: X does not have valid feature names, but LogisticRegression was fitted with feature names\n",
      "  warnings.warn(\n",
      "/home/clivio/miniconda3/envs/pwshap/lib/python3.10/site-packages/sklearn/base.py:450: UserWarning: X does not have valid feature names, but LogisticRegression was fitted with feature names\n",
      "  warnings.warn(\n"
     ]
    }
   ],
   "source": [
    "propensities_all =  model_outcomes_coal(model=propensity, coal=np.array([1,1]), local_obs=x_test[['q','d']].values, ref_point=x_train[['q','d']].values, imp=imp_all_but_t, predict_proba=True)\n",
    "propensities_all_but_d =  model_outcomes_coal(model=propensity, coal=np.array([1,0]), local_obs=x_test[['q','d']].values, ref_point=x_train[['q','d']].values, imp=imp_all_but_t, predict_proba=True)\n",
    "propensities_all_but_q_d =  model_outcomes_coal(model=propensity, coal=np.array([0,0]), local_obs=x_test[['q','d']].values, ref_point=x_train[['q','d']].values, imp=imp_all_but_t, predict_proba=True)\n"
   ]
  },
  {
   "cell_type": "code",
   "execution_count": 32,
   "id": "16053f58",
   "metadata": {},
   "outputs": [],
   "source": [
    "\n",
    "unfair_pwshap_t_y = (unfair_on_all_but_q_d - unfair_on_all_but_q_d_t).mean(axis=1) / (x_test['t'].values - propensities_all_but_q_d.mean(axis=1))\n",
    "\n",
    "unfair_pwshap_t_d_y = (unfair_on_all - unfair_on_all_but_t).mean(axis=1) / (x_test['t'].values - propensities_all.mean(axis=1)) - (unfair_on_all_but_d - unfair_on_all_but_d_t).mean(axis=1) / (x_test['t'].values - propensities_all_but_d.mean(axis=1))"
   ]
  },
  {
   "cell_type": "code",
   "execution_count": 33,
   "id": "211ebd24",
   "metadata": {},
   "outputs": [],
   "source": [
    "\n",
    "attacker_pwshap_t_y = (attacker_on_all_but_q_d - attacker_on_all_but_q_d_t).mean(axis=1) / (x_test['t'].values - propensities_all_but_q_d.mean(axis=1))\n",
    "\n",
    "attacker_pwshap_t_d_y = (attacker_on_all - attacker_on_all_but_t).mean(axis=1) / (x_test['t'].values - propensities_all.mean(axis=1)) - (attacker_on_all_but_d - attacker_on_all_but_d_t).mean(axis=1) / (x_test['t'].values - propensities_all_but_d.mean(axis=1))"
   ]
  },
  {
   "cell_type": "code",
   "execution_count": 34,
   "id": "d2f4f5bd",
   "metadata": {},
   "outputs": [],
   "source": [
    "\n",
    "fair_pwshap_t_y = (fair_on_all_but_q_d - fair_on_all_but_q_d_t).mean(axis=1) / (x_test['t'].values - propensities_all_but_q_d.mean(axis=1))\n",
    "\n",
    "fair_pwshap_t_d_y = (fair_on_all - fair_on_all_but_t).mean(axis=1) / (x_test['t'].values - propensities_all.mean(axis=1)) - (fair_on_all_but_d - fair_on_all_but_d_t).mean(axis=1) / (x_test['t'].values - propensities_all_but_d.mean(axis=1))"
   ]
  },
  {
   "cell_type": "code",
   "execution_count": 51,
   "id": "fa053ee7",
   "metadata": {},
   "outputs": [
    {
     "data": {
      "text/plain": [
       "<AxesSubplot:>"
      ]
     },
     "execution_count": 51,
     "metadata": {},
     "output_type": "execute_result"
    },
    {
     "data": {
      "image/png": "[encoded data removed]",
      "text/plain": [
       "<Figure size 400x300 with 1 Axes>"
      ]
     },
     "metadata": {},
     "output_type": "display_data"
    }
   ],
   "source": [
    "\n",
    "df_pwshap_t_y = pd.DataFrame({\n",
    "    'unfair': unfair_pwshap_t_y,\n",
    "    'attacker': attacker_pwshap_t_y,\n",
    "    'fair': fair_pwshap_t_y\n",
    "})\n",
    "df_pwshap_t_y.boxplot(fontsize=13, figsize=(4,3))"
   ]
  },
  {
   "cell_type": "code",
   "execution_count": 52,
   "id": "e7e1f1e6",
   "metadata": {},
   "outputs": [
    {
     "data": {
      "text/plain": [
       "<AxesSubplot:>"
      ]
     },
     "execution_count": 52,
     "metadata": {},
     "output_type": "execute_result"
    },
    {
     "data": {
      "image/png": "[encoded data removed]",
      "text/plain": [
       "<Figure size 400x300 with 1 Axes>"
      ]
     },
     "metadata": {},
     "output_type": "display_data"
    }
   ],
   "source": [
    "\n",
    "df_pwshap_t_d_y = pd.DataFrame({\n",
    "    'unfair': unfair_pwshap_t_d_y,\n",
    "    'attacker': attacker_pwshap_t_d_y,\n",
    "    'fair': fair_pwshap_t_d_y\n",
    "})\n",
    "df_pwshap_t_d_y.boxplot(fontsize=13, figsize=(4,3))"
   ]
  },
  {
   "cell_type": "code",
   "execution_count": null,
   "id": "e44e9cc3",
   "metadata": {},
   "outputs": [],
   "source": []
  },
  {
   "cell_type": "code",
   "execution_count": null,
   "id": "55533520",
   "metadata": {},
   "outputs": [],
   "source": []
  },
  {
   "cell_type": "code",
   "execution_count": null,
   "id": "acd6ca3d",
   "metadata": {},
   "outputs": [],
   "source": []
  },
  {
   "cell_type": "code",
   "execution_count": null,
   "id": "5e6c6af6",
   "metadata": {},
   "outputs": [],
   "source": []
  },
  {
   "cell_type": "code",
   "execution_count": null,
   "id": "72fd138b",
   "metadata": {},
   "outputs": [],
   "source": []
  },
  {
   "cell_type": "code",
   "execution_count": null,
   "id": "c1a13e94",
   "metadata": {},
   "outputs": [],
   "source": []
  },
  {
   "cell_type": "code",
   "execution_count": null,
   "id": "3727b660",
   "metadata": {},
   "outputs": [],
   "source": []
  },
  {
   "cell_type": "code",
   "execution_count": null,
   "id": "e787620e",
   "metadata": {},
   "outputs": [],
   "source": []
  },
  {
   "cell_type": "code",
   "execution_count": null,
   "id": "4919c19c",
   "metadata": {},
   "outputs": [],
   "source": []
  },
  {
   "cell_type": "code",
   "execution_count": null,
   "id": "9f4bcea6",
   "metadata": {},
   "outputs": [],
   "source": []
  }
 ],
 "metadata": {
  "kernelspec": {
   "display_name": "Python 3 (ipykernel)",
   "language": "python",
   "name": "python3"
  },
  "language_info": {
   "codemirror_mode": {
    "name": "ipython",
    "version": 3
   },
   "file_extension": ".py",
   "mimetype": "text/x-python",
   "name": "python",
   "nbconvert_exporter": "python",
   "pygments_lexer": "ipython3",
   "version": "3.10.4"
  }
 },
 "nbformat": 4,
 "nbformat_minor": 5
}
