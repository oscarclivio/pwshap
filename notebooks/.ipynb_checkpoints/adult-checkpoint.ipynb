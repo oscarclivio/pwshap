{
 "cells": [
  {
   "cell_type": "code",
   "execution_count": 1,
   "id": "ea3c15db",
   "metadata": {},
   "outputs": [
    {
     "ename": "ModuleNotFoundError",
     "evalue": "No module named 'yaml'",
     "output_type": "error",
     "traceback": [
      "\u001b[0;31m---------------------------------------------------------------------------\u001b[0m",
      "\u001b[0;31mModuleNotFoundError\u001b[0m                       Traceback (most recent call last)",
      "Input \u001b[0;32mIn [1]\u001b[0m, in \u001b[0;36m<cell line: 18>\u001b[0;34m()\u001b[0m\n\u001b[1;32m     16\u001b[0m \u001b[38;5;28;01mfrom\u001b[39;00m \u001b[38;5;21;01mscipy\u001b[39;00m\u001b[38;5;21;01m.\u001b[39;00m\u001b[38;5;21;01mstats\u001b[39;00m \u001b[38;5;28;01mimport\u001b[39;00m gaussian_kde\n\u001b[1;32m     17\u001b[0m \u001b[38;5;28;01mimport\u001b[39;00m \u001b[38;5;21;01mmatplotlib\u001b[39;00m\u001b[38;5;21;01m.\u001b[39;00m\u001b[38;5;21;01mcm\u001b[39;00m \u001b[38;5;28;01mas\u001b[39;00m \u001b[38;5;21;01mcm\u001b[39;00m\n\u001b[0;32m---> 18\u001b[0m \u001b[38;5;28;01mfrom\u001b[39;00m \u001b[38;5;21;01mdataset_fetcher\u001b[39;00m \u001b[38;5;28;01mimport\u001b[39;00m download_uci_adult\n\u001b[1;32m     20\u001b[0m \u001b[38;5;28;01mimport\u001b[39;00m \u001b[38;5;21;01mrandom\u001b[39;00m\n",
      "File \u001b[0;32m~/ox3/projects/p220923_pwshap_to_aistats/e230529_github_code/notebooks/dataset_fetcher.py:8\u001b[0m, in \u001b[0;36m<module>\u001b[0;34m\u001b[0m\n\u001b[1;32m      6\u001b[0m \u001b[38;5;28;01mimport\u001b[39;00m \u001b[38;5;21;01mpandas\u001b[39;00m \u001b[38;5;28;01mas\u001b[39;00m \u001b[38;5;21;01mpd\u001b[39;00m\n\u001b[1;32m      7\u001b[0m \u001b[38;5;28;01mimport\u001b[39;00m \u001b[38;5;21;01mrequests\u001b[39;00m\n\u001b[0;32m----> 8\u001b[0m \u001b[38;5;28;01mimport\u001b[39;00m \u001b[38;5;21;01myaml\u001b[39;00m\n\u001b[1;32m     11\u001b[0m \u001b[38;5;28;01mdef\u001b[39;00m \u001b[38;5;21mdownload_uci_adult\u001b[39m(data_dir: pathlib\u001b[38;5;241m.\u001b[39mPath) \\\n\u001b[1;32m     12\u001b[0m         \u001b[38;5;241m-\u001b[39m\u001b[38;5;241m>\u001b[39m Tuple[pd\u001b[38;5;241m.\u001b[39mDataFrame, pd\u001b[38;5;241m.\u001b[39mDataFrame]:\n\u001b[1;32m     13\u001b[0m     \u001b[38;5;124;03m\"\"\"Downloads the UCI Adult Income dataset and caches it as pickled\u001b[39;00m\n\u001b[1;32m     14\u001b[0m \u001b[38;5;124;03m    pandas dataframes\"\"\"\u001b[39;00m\n",
      "\u001b[0;31mModuleNotFoundError\u001b[0m: No module named 'yaml'"
     ]
    }
   ],
   "source": [
    "import matplotlib.pyplot as plt\n",
    "import numpy as np\n",
    "import pandas as pd\n",
    "import seaborn as sns\n",
    "import math\n",
    "import scipy\n",
    "from sklearn.experimental import enable_iterative_imputer\n",
    "from sklearn.impute import IterativeImputer\n",
    "from sklearn.linear_model import BayesianRidge, LogisticRegression\n",
    "from sklearn.ensemble import RandomForestClassifier\n",
    "from sklearn.preprocessing import StandardScaler\n",
    "from sklearn.metrics import roc_auc_score\n",
    "\n",
    "import pathlib\n",
    "import sklearn.metrics\n",
    "from scipy.stats import gaussian_kde\n",
    "import matplotlib.cm as cm\n",
    "from dataset_fetcher import download_uci_adult\n",
    "\n",
    "import random"
   ]
  },
  {
   "cell_type": "code",
   "execution_count": null,
   "id": "885a2917",
   "metadata": {},
   "outputs": [],
   "source": [
    "def model_outcomes_coal(model, coal, local_obs, ref_point, seed=0):\n",
    "    \n",
    "    ## this function outputs a list of all model predictions for a single coalition\n",
    "    # the input is the coalition of interest as a binary vector eg. [1,1,0,1]\n",
    "    # ref point is the entire reference distirbution (here we take x_train)\n",
    "    # local_obs is the instance we aim to explain\n",
    "    \n",
    "\n",
    "    # we consider all 2**n coalitions and all n reference points\n",
    "    # get constants\n",
    "    n, d = np.shape(ref_point)\n",
    "    \n",
    "    # train imputation algorithm for conditional references   \n",
    "    # create an \"all_imputed_coalitions\" 3D matrix with all \"artificial inputs\" we get by imputing\n",
    "    coalitions = np.array([[int(i) for i in '0'*((d)-len(bin(j))+2) + bin(j)[2:]] for j in range(2**d)]) \n",
    "    all_imputed_coalitions = np.zeros((n, d))\n",
    "    \n",
    "    imp = IterativeImputer(max_iter=100, random_state=0, sample_posterior=True)\n",
    "    imp.fit(ref_point) #imputer learns from marginal distribution\n",
    "    \n",
    "    \n",
    "    \n",
    "     ## below we build the concatenated inputs using conditional imputation for dropped features and averages\n",
    "    for k in range(n):#reference point index     \n",
    "        vect=(1-coal) \n",
    "        vect = vect.astype('float')\n",
    "        vect[vect == 1] = 'nan'    # vect is a binary vector of being \"absent\" ('nan') or \"present\" (1)\n",
    "        # impute conditionally with Bayesian Ridge MICE \n",
    "        imputed_coalitions = coal * local_obs + vect #either local obs value or 'nan'\n",
    "        imputed_coalitions = imp.transform(imputed_coalitions.reshape(1,-1))       \n",
    "        all_imputed_coalitions[k, :] = imputed_coalitions.reshape(d)\n",
    "    \n",
    "    #we ultimately return the model predictions\n",
    "    return model.predict_proba(all_imputed_coalitions)[:,1]\n"
   ]
  },
  {
   "cell_type": "code",
   "execution_count": null,
   "id": "abceb1eb",
   "metadata": {},
   "outputs": [],
   "source": [
    "data_dir = pathlib.Path(\"uci\") ## add your path here\n",
    "train_df, test_df = download_uci_adult(data_dir)\n",
    "\n",
    "data=pd.concat([train_df, test_df], axis=0)\n",
    "n=np.shape(data)[0]\n",
    "\n",
    "random.seed(0)\n",
    "subsample_initial=random.sample(range(0, n-1), 5000)\n",
    "\n",
    "train_df=data.iloc[subsample_initial]\n",
    "\n",
    "train_df=train_df[['fnlwgt','age','race','occupation','marital-status','relationship','capitalgain','native-country','class']]\n",
    "sample_weights = train_df['fnlwgt']\n",
    "y_train = train_df['class']\n",
    "x_train = train_df.drop(columns=['class', 'fnlwgt'])\n"
   ]
  },
  {
   "cell_type": "code",
   "execution_count": null,
   "id": "8976be57",
   "metadata": {},
   "outputs": [],
   "source": [
    "###making race binary: white=1\n",
    "x_train['race'].value_counts()\n",
    "x_train[['race']]=x_train[['race']].replace(['Black', 'Asian-Pac-Islander', 'Amer-Indian-Eskimo', 'Other'], 0)\n",
    "x_train[['race']]=x_train[['race']].replace(['White'], 1)\n",
    "x_train['race'].value_counts()"
   ]
  },
  {
   "cell_type": "code",
   "execution_count": null,
   "id": "bf4b1561",
   "metadata": {},
   "outputs": [],
   "source": [
    "##making occupation binary : tertiary sector = 1\n",
    "x_train['occupation'].value_counts()\n",
    "x_train[['occupation']]=x_train[['occupation']].replace(['Prof-specialty', 'Exec-managerial',\n",
    "                                                         'Other-service', 'Tech-support', '?', 'Sales','Machine-op-inspct'], 1)\n",
    "x_train[['occupation']]=x_train[['occupation']].replace(['Craft-repair', 'Adm-clerical',\n",
    "                                                         'Transport-moving', 'Handlers-cleaners', 'Farming-fishing',\n",
    "                                                         'Protective-serv', 'Priv-house-serv', 'Armed-Forces'], 0)"
   ]
  },
  {
   "cell_type": "code",
   "execution_count": null,
   "id": "8771821e",
   "metadata": {},
   "outputs": [],
   "source": [
    "# pre processing\n",
    "from sklearn.preprocessing import OrdinalEncoder\n",
    "ord_enc = OrdinalEncoder(dtype=int)\n",
    "x_train[['native-country','marital-status','relationship']] = ord_enc.fit_transform(x_train[['native-country','marital-status','relationship']])\n"
   ]
  },
  {
   "cell_type": "code",
   "execution_count": null,
   "id": "a45d35d5",
   "metadata": {},
   "outputs": [],
   "source": [
    "# fit and score the model\n",
    "outcome = RandomForestClassifier(n_estimators=500, class_weight='balanced', random_state=0)\n",
    "outcome.fit(x_train, y_train, sample_weight=sample_weights)\n",
    "print(sklearn.metrics.accuracy_score(y_train, outcome.predict(x_train)))\n",
    "print(sklearn.metrics.roc_auc_score(y_train, outcome.predict_proba(x_train)[:, 1]))\n"
   ]
  },
  {
   "cell_type": "markdown",
   "id": "f6c63131",
   "metadata": {},
   "source": [
    "## Treatment = Race (mediation analysis) 4"
   ]
  },
  {
   "cell_type": "code",
   "execution_count": null,
   "id": "0f415922",
   "metadata": {},
   "outputs": [],
   "source": [
    "propensity_race = RandomForestClassifier(n_estimators=500, class_weight=\"balanced\", random_state=0)\n",
    "propensity_race.fit(x_train.drop(columns=['race']), x_train['race'])\n",
    "print(sklearn.metrics.accuracy_score(x_train['race'], propensity_race.predict(x_train.drop(columns=['race']))))\n",
    "print(sklearn.metrics.roc_auc_score(x_train['race'], propensity_race.predict_proba(x_train.drop(columns=['race']))[:, 1]))"
   ]
  },
  {
   "cell_type": "code",
   "execution_count": null,
   "id": "c019b293",
   "metadata": {},
   "outputs": [],
   "source": [
    "inst=10 # chose your treated instance\n",
    "print(x_train.iloc[inst,:].values)\n",
    "print(y_train.iloc[inst])\n",
    "print(outcome.predict_proba(x_train)[inst,1])"
   ]
  },
  {
   "cell_type": "code",
   "execution_count": null,
   "id": "ef33abb8",
   "metadata": {},
   "outputs": [],
   "source": [
    "# COALITION-SPECIFIC SHAPLEY TERMS: an example (we only want the mean prediction over all reference points ultimately)\n",
    "\n",
    "model_outcome_all= np.mean(model_outcomes_coal(outcome, np.array([1, 1, 1, 1, 1, 1, 1]), x_train.iloc[inst,:].values, x_train.values, seed=0))\n",
    "model_outcome_all_but_race= np.mean(model_outcomes_coal(outcome, np.array([1, 0, 1, 1, 1, 1, 1]), x_train.iloc[inst,:].values, x_train.values, seed=0))\n",
    "model_outcome_all_but_marital= np.mean(model_outcomes_coal(outcome, np.array([1, 1, 1, 0, 1, 1, 1]), x_train.iloc[inst,:].values, x_train.values, seed=0))\n",
    "model_outcome_all_but_race_but_marital = np.mean(model_outcomes_coal(outcome, np.array([1, 0, 1, 0, 1, 1, 1]), x_train.iloc[inst,:].values, x_train.values, seed=0))\n",
    "\n",
    "print('model_outcome_all '+str(model_outcome_all))\n",
    "print('model_outcome_all_but_race '+str(model_outcome_all_but_race))\n",
    "print('model_outcome_all_but_marital '+str(model_outcome_all_but_marital))\n",
    "print('model_outcome_all_but_race_but_marital '+str(model_outcome_all_but_race_but_marital))\n"
   ]
  },
  {
   "cell_type": "code",
   "execution_count": null,
   "id": "f6449dd3",
   "metadata": {},
   "outputs": [],
   "source": [
    "# weights : 1 - P(T=1 knowing CS) example:\n",
    "weight_all_but_race= 1-np.mean(model_outcomes_coal(propensity_race, np.array([1, 1, 1, 1, 1, 1]), x_train.drop(columns=['race']).iloc[inst,:].values, x_train.drop(columns=['race']).values, seed=0))\n",
    "weight_all_but_race_but_marital=1--np.mean(model_outcomes_coal(propensity_race, np.array([0, 0, 1, 0, 0, 0]), x_train.drop(columns=['race']).iloc[inst,:].values, x_train.drop(columns=['race']).values, seed=0))\n",
    "\n",
    "print('weight_all_but_race '+str(weight_all_but_race))\n",
    "print('weight_all_but_race_but_marital '+str(weight_all_but_race_but_marital))\n"
   ]
  },
  {
   "cell_type": "code",
   "execution_count": null,
   "id": "1b5591b7",
   "metadata": {},
   "outputs": [],
   "source": [
    "phi_med_by_marital=((model_outcome_all-model_outcome_all_but_race)/weight_all_but_race)-((model_outcome_all_but_marital-model_outcome_all_but_race_but_marital)/weight_all_but_race_but_marital)\n",
    "\n",
    "print('phi_med_by_marital ' +str(phi_med_by_marital))\n"
   ]
  },
  {
   "cell_type": "markdown",
   "id": "a897ec56",
   "metadata": {},
   "source": [
    "## Treatment = Occupation (bias analysis)"
   ]
  },
  {
   "cell_type": "code",
   "execution_count": null,
   "id": "a5a9bf4b",
   "metadata": {},
   "outputs": [],
   "source": [
    "propensity_occ = RandomForestClassifier(n_estimators=500, oob_score=True, class_weight=\"balanced\", random_state=0)\n",
    "propensity_occ.fit(x_train.drop(columns=['occupation']), x_train['occupation'])\n",
    "print(sklearn.metrics.accuracy_score(x_train['occupation'], propensity_occ.predict(x_train.drop(columns=['occupation']))))\n",
    "print(sklearn.metrics.roc_auc_score(x_train['occupation'], propensity_occ.predict_proba(x_train.drop(columns=['occupation']))[:, 1]))"
   ]
  },
  {
   "cell_type": "code",
   "execution_count": null,
   "id": "97c7e3c5",
   "metadata": {},
   "outputs": [],
   "source": [
    "model_outcome_all= np.mean(model_outcomes_coal(outcome, np.array([1, 1, 1, 1, 1, 1, 1]), x_train.iloc[inst,:].values, x_train.values, seed=0))\n",
    "model_outcome_all_but_occup= np.mean(model_outcomes_coal(outcome, np.array([1, 1, 0, 1, 1, 1, 1]), x_train.iloc[inst,:].values, x_train.values, seed=0))\n",
    "model_outcome_all_but_relationship= np.mean(model_outcomes_coal(outcome, np.array([1, 1, 1, 1, 0, 1, 1]), x_train.iloc[inst,:].values, x_train.values, seed=0))\n",
    "model_outcome_all_but_relationship_but_occup= np.mean(model_outcomes_coal(outcome, np.array([1, 1, 0, 1, 0, 1, 1]), x_train.iloc[inst,:].values, x_train.values, seed=0))\n",
    "\n",
    "print('model_outcome_all '+str(model_outcome_all))\n",
    "print('model_outcome_all_but_occup '+str(model_outcome_all_but_occup))\n",
    "print('model_outcome_all_but_relationship '+str(model_outcome_all_but_relationship))\n",
    "print('model_outcome_all_but_relationship_but_occup '+str(model_outcome_all_but_relationship_but_occup))\n"
   ]
  },
  {
   "cell_type": "code",
   "execution_count": null,
   "id": "b6cb25ee",
   "metadata": {},
   "outputs": [],
   "source": [
    "#weights\n",
    "# weights : 1 - P(T=1 knowing CS)\n",
    "weight_all_but_occ = np.mean(model_outcomes_coal(propensity_occ, np.array([1, 1, 1, 1, 1, 1]), x_train.drop(columns=['occupation']).iloc[inst,:].values, x_train.drop(columns=['occupation']).values, seed=0))\n",
    "weight_all_but_occ_but_relationship = np.mean(model_outcomes_coal(propensity_occ, np.array([1, 1, 1, 0, 1, 1]), x_train.drop(columns=['occupation']).iloc[inst,:].values, x_train.drop(columns=['occupation']).values, seed=0))\n",
    "\n",
    "print('weight_all_but_occ '+str(weight_all_but_occ))\n",
    "print('weight_all_but_occ_but_relationship '+str(weight_all_but_occ_but_relationship))\n"
   ]
  },
  {
   "cell_type": "code",
   "execution_count": null,
   "id": "eb618f98",
   "metadata": {},
   "outputs": [],
   "source": [
    "phi_mod_by_relationship=((model_outcome_all-model_outcome_all_but_occup)/weight_all_but_occ)-((model_outcome_all_but_relationship-model_outcome_all_but_relationship_but_occup)/weight_all_but_occ_but_relationship)\n",
    "print('phi_mod_by_relationship' +str(phi_mod_by_relationship))\n"
   ]
  },
  {
   "cell_type": "code",
   "execution_count": null,
   "id": "2849ac28",
   "metadata": {},
   "outputs": [],
   "source": []
  }
 ],
 "metadata": {
  "hide_input": false,
  "kernelspec": {
   "display_name": "Python 3 (ipykernel)",
   "language": "python",
   "name": "python3"
  },
  "language_info": {
   "codemirror_mode": {
    "name": "ipython",
    "version": 3
   },
   "file_extension": ".py",
   "mimetype": "text/x-python",
   "name": "python",
   "nbconvert_exporter": "python",
   "pygments_lexer": "ipython3",
   "version": "3.10.4"
  }
 },
 "nbformat": 4,
 "nbformat_minor": 5
}
