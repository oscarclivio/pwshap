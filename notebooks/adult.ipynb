{
 "cells": [
  {
   "cell_type": "code",
   "execution_count": 1,
   "id": "ea3c15db",
   "metadata": {},
   "outputs": [],
   "source": [
    "import matplotlib.pyplot as plt\n",
    "import numpy as np\n",
    "import pandas as pd\n",
    "import seaborn as sns\n",
    "import math\n",
    "import scipy\n",
    "from sklearn.experimental import enable_iterative_imputer\n",
    "from sklearn.impute import IterativeImputer\n",
    "from sklearn.linear_model import BayesianRidge, LogisticRegression\n",
    "from sklearn.ensemble import RandomForestClassifier\n",
    "from sklearn.preprocessing import StandardScaler\n",
    "from sklearn.metrics import roc_auc_score\n",
    "\n",
    "import pathlib\n",
    "import sklearn.metrics\n",
    "from scipy.stats import gaussian_kde\n",
    "import matplotlib.cm as cm\n",
    "from dataset_fetcher import download_uci_adult\n",
    "\n",
    "import random"
   ]
  },
  {
   "cell_type": "code",
   "execution_count": 2,
   "id": "885a2917",
   "metadata": {},
   "outputs": [],
   "source": [
    "def model_outcomes_coal(model, coal, local_obs, ref_point, seed=0):\n",
    "    \n",
    "    ## this function outputs a list of all model predictions for a single coalition\n",
    "    # the input is the coalition of interest as a binary vector eg. [1,1,0,1]\n",
    "    # ref point is the entire reference distirbution (here we take x_train)\n",
    "    # local_obs is the instance we aim to explain\n",
    "    \n",
    "\n",
    "    # we consider all 2**n coalitions and all n reference points\n",
    "    # get constants\n",
    "    n, d = np.shape(ref_point)\n",
    "    \n",
    "    # train imputation algorithm for conditional references   \n",
    "    # create an \"all_imputed_coalitions\" 3D matrix with all \"artificial inputs\" we get by imputing\n",
    "    coalitions = np.array([[int(i) for i in '0'*((d)-len(bin(j))+2) + bin(j)[2:]] for j in range(2**d)]) \n",
    "    all_imputed_coalitions = np.zeros((n, d))\n",
    "    \n",
    "    imp = IterativeImputer(max_iter=100, random_state=0, sample_posterior=True)\n",
    "    imp.fit(ref_point) #imputer learns from marginal distribution\n",
    "    \n",
    "    \n",
    "    \n",
    "     ## below we build the concatenated inputs using conditional imputation for dropped features and averages\n",
    "    for k in range(n):#reference point index     \n",
    "        vect=(1-coal) \n",
    "        vect = vect.astype('float')\n",
    "        vect[vect == 1] = 'nan'    # vect is a binary vector of being \"absent\" ('nan') or \"present\" (1)\n",
    "        # impute conditionally with Bayesian Ridge MICE \n",
    "        imputed_coalitions = coal * local_obs + vect #either local obs value or 'nan'\n",
    "        imputed_coalitions = imp.transform(imputed_coalitions.reshape(1,-1))       \n",
    "        all_imputed_coalitions[k, :] = imputed_coalitions.reshape(d)\n",
    "    \n",
    "    #we ultimately return the model predictions\n",
    "    return model.predict_proba(all_imputed_coalitions)[:,1]\n"
   ]
  },
  {
   "cell_type": "code",
   "execution_count": 3,
   "id": "abceb1eb",
   "metadata": {},
   "outputs": [
    {
     "name": "stderr",
     "output_type": "stream",
     "text": [
      "/home/clivio/ox3/projects/p220923_pwshap_to_aistats/e230529_github_code/notebooks/dataset_fetcher.py:55: FutureWarning: The default value of regex will change from True to False in a future version. In addition, single character regular expressions will *not* be treated as literal strings when regex=True.\n",
      "  test_df['class'] = test_df['class'].str.replace('.', '')\n",
      "/home/clivio/ox3/projects/p220923_pwshap_to_aistats/e230529_github_code/notebooks/dataset_fetcher.py:60: FutureWarning: The frame.append method is deprecated and will be removed from pandas in a future version. Use pandas.concat instead.\n",
      "  full_df = train_df.append(test_df)\n"
     ]
    }
   ],
   "source": [
    "data_dir = pathlib.Path(\"uci\") ## add your path here\n",
    "train_df, test_df = download_uci_adult(data_dir)\n",
    "\n",
    "data=pd.concat([train_df, test_df], axis=0)\n",
    "n=np.shape(data)[0]\n",
    "\n",
    "random.seed(0)\n",
    "subsample_initial=random.sample(range(0, n-1), 5000)\n",
    "\n",
    "train_df=data.iloc[subsample_initial]\n",
    "\n",
    "train_df=train_df[['fnlwgt','age','race','occupation','marital-status','relationship','capitalgain','native-country','class']]\n",
    "sample_weights = train_df['fnlwgt']\n",
    "y_train = train_df['class']\n",
    "x_train = train_df.drop(columns=['class', 'fnlwgt'])\n"
   ]
  },
  {
   "cell_type": "code",
   "execution_count": 4,
   "id": "8976be57",
   "metadata": {},
   "outputs": [
    {
     "data": {
      "text/plain": [
       "1    4264\n",
       "0     736\n",
       "Name: race, dtype: int64"
      ]
     },
     "execution_count": 4,
     "metadata": {},
     "output_type": "execute_result"
    }
   ],
   "source": [
    "###making race binary: white=1\n",
    "x_train['race'].value_counts()\n",
    "x_train[['race']]=x_train[['race']].replace(['Black', 'Asian-Pac-Islander', 'Amer-Indian-Eskimo', 'Other'], 0)\n",
    "x_train[['race']]=x_train[['race']].replace(['White'], 1)\n",
    "x_train['race'].value_counts()"
   ]
  },
  {
   "cell_type": "code",
   "execution_count": 5,
   "id": "bf4b1561",
   "metadata": {},
   "outputs": [],
   "source": [
    "##making occupation binary : tertiary sector = 1\n",
    "x_train['occupation'].value_counts()\n",
    "x_train[['occupation']]=x_train[['occupation']].replace(['Prof-specialty', 'Exec-managerial',\n",
    "                                                         'Other-service', 'Tech-support', '?', 'Sales','Machine-op-inspct'], 1)\n",
    "x_train[['occupation']]=x_train[['occupation']].replace(['Craft-repair', 'Adm-clerical',\n",
    "                                                         'Transport-moving', 'Handlers-cleaners', 'Farming-fishing',\n",
    "                                                         'Protective-serv', 'Priv-house-serv', 'Armed-Forces'], 0)"
   ]
  },
  {
   "cell_type": "code",
   "execution_count": 6,
   "id": "8771821e",
   "metadata": {},
   "outputs": [],
   "source": [
    "# pre processing\n",
    "from sklearn.preprocessing import OrdinalEncoder\n",
    "ord_enc = OrdinalEncoder(dtype=int)\n",
    "x_train[['native-country','marital-status','relationship']] = ord_enc.fit_transform(x_train[['native-country','marital-status','relationship']])\n"
   ]
  },
  {
   "cell_type": "code",
   "execution_count": 7,
   "id": "a45d35d5",
   "metadata": {},
   "outputs": [
    {
     "name": "stdout",
     "output_type": "stream",
     "text": [
      "0.8346\n",
      "0.9281609157635291\n"
     ]
    }
   ],
   "source": [
    "# fit and score the model\n",
    "outcome = RandomForestClassifier(n_estimators=500, class_weight='balanced', random_state=0)\n",
    "outcome.fit(x_train, y_train, sample_weight=sample_weights)\n",
    "print(sklearn.metrics.accuracy_score(y_train, outcome.predict(x_train)))\n",
    "print(sklearn.metrics.roc_auc_score(y_train, outcome.predict_proba(x_train)[:, 1]))\n"
   ]
  },
  {
   "cell_type": "markdown",
   "id": "f6c63131",
   "metadata": {},
   "source": [
    "## Treatment = Race (mediation analysis) 4"
   ]
  },
  {
   "cell_type": "code",
   "execution_count": 8,
   "id": "0f415922",
   "metadata": {},
   "outputs": [
    {
     "name": "stdout",
     "output_type": "stream",
     "text": [
      "0.8722\n",
      "0.9104780798800881\n"
     ]
    }
   ],
   "source": [
    "propensity_race = RandomForestClassifier(n_estimators=500, class_weight=\"balanced\", random_state=0)\n",
    "propensity_race.fit(x_train.drop(columns=['race']), x_train['race'])\n",
    "print(sklearn.metrics.accuracy_score(x_train['race'], propensity_race.predict(x_train.drop(columns=['race']))))\n",
    "print(sklearn.metrics.roc_auc_score(x_train['race'], propensity_race.predict_proba(x_train.drop(columns=['race']))[:, 1]))"
   ]
  },
  {
   "cell_type": "code",
   "execution_count": 9,
   "id": "c019b293",
   "metadata": {},
   "outputs": [
    {
     "name": "stdout",
     "output_type": "stream",
     "text": [
      "[38  1  1  0  4  0 38]\n",
      ">50K\n",
      "0.5364075446395272\n"
     ]
    }
   ],
   "source": [
    "inst=10 # chose your treated instance\n",
    "print(x_train.iloc[inst,:].values)\n",
    "print(y_train.iloc[inst])\n",
    "print(outcome.predict_proba(x_train)[inst,1])"
   ]
  },
  {
   "cell_type": "code",
   "execution_count": 10,
   "id": "ef33abb8",
   "metadata": {},
   "outputs": [
    {
     "name": "stderr",
     "output_type": "stream",
     "text": [
      "/home/clivio/miniconda3/envs/pwshap/lib/python3.10/site-packages/sklearn/base.py:450: UserWarning: X does not have valid feature names, but RandomForestClassifier was fitted with feature names\n",
      "  warnings.warn(\n",
      "/home/clivio/miniconda3/envs/pwshap/lib/python3.10/site-packages/sklearn/base.py:450: UserWarning: X does not have valid feature names, but RandomForestClassifier was fitted with feature names\n",
      "  warnings.warn(\n",
      "/home/clivio/miniconda3/envs/pwshap/lib/python3.10/site-packages/sklearn/base.py:450: UserWarning: X does not have valid feature names, but RandomForestClassifier was fitted with feature names\n",
      "  warnings.warn(\n"
     ]
    },
    {
     "name": "stdout",
     "output_type": "stream",
     "text": [
      "model_outcome_all 0.5364075446395272\n",
      "model_outcome_all_but_race 0.45412186137179233\n",
      "model_outcome_all_but_marital 0.165421556594821\n",
      "model_outcome_all_but_race_but_marital 0.14769848819642178\n"
     ]
    },
    {
     "name": "stderr",
     "output_type": "stream",
     "text": [
      "/home/clivio/miniconda3/envs/pwshap/lib/python3.10/site-packages/sklearn/base.py:450: UserWarning: X does not have valid feature names, but RandomForestClassifier was fitted with feature names\n",
      "  warnings.warn(\n"
     ]
    }
   ],
   "source": [
    "# COALITION-SPECIFIC SHAPLEY TERMS: an example (we only want the mean prediction over all reference points ultimately)\n",
    "\n",
    "model_outcome_all= np.mean(model_outcomes_coal(outcome, np.array([1, 1, 1, 1, 1, 1, 1]), x_train.iloc[inst,:].values, x_train.values, seed=0))\n",
    "model_outcome_all_but_race= np.mean(model_outcomes_coal(outcome, np.array([1, 0, 1, 1, 1, 1, 1]), x_train.iloc[inst,:].values, x_train.values, seed=0))\n",
    "model_outcome_all_but_marital= np.mean(model_outcomes_coal(outcome, np.array([1, 1, 1, 0, 1, 1, 1]), x_train.iloc[inst,:].values, x_train.values, seed=0))\n",
    "model_outcome_all_but_race_but_marital = np.mean(model_outcomes_coal(outcome, np.array([1, 0, 1, 0, 1, 1, 1]), x_train.iloc[inst,:].values, x_train.values, seed=0))\n",
    "\n",
    "print('model_outcome_all '+str(model_outcome_all))\n",
    "print('model_outcome_all_but_race '+str(model_outcome_all_but_race))\n",
    "print('model_outcome_all_but_marital '+str(model_outcome_all_but_marital))\n",
    "print('model_outcome_all_but_race_but_marital '+str(model_outcome_all_but_race_but_marital))\n"
   ]
  },
  {
   "cell_type": "code",
   "execution_count": 11,
   "id": "f6449dd3",
   "metadata": {},
   "outputs": [
    {
     "name": "stderr",
     "output_type": "stream",
     "text": [
      "/home/clivio/miniconda3/envs/pwshap/lib/python3.10/site-packages/sklearn/base.py:450: UserWarning: X does not have valid feature names, but RandomForestClassifier was fitted with feature names\n",
      "  warnings.warn(\n",
      "/home/clivio/miniconda3/envs/pwshap/lib/python3.10/site-packages/sklearn/base.py:450: UserWarning: X does not have valid feature names, but RandomForestClassifier was fitted with feature names\n",
      "  warnings.warn(\n"
     ]
    },
    {
     "name": "stdout",
     "output_type": "stream",
     "text": [
      "weight_all_but_race 0.4334032432569791\n",
      "weight_all_but_race_but_marital 1.6175033666081315\n"
     ]
    }
   ],
   "source": [
    "# weights : 1 - P(T=1 knowing CS) example:\n",
    "weight_all_but_race= 1-np.mean(model_outcomes_coal(propensity_race, np.array([1, 1, 1, 1, 1, 1]), x_train.drop(columns=['race']).iloc[inst,:].values, x_train.drop(columns=['race']).values, seed=0))\n",
    "weight_all_but_race_but_marital=1--np.mean(model_outcomes_coal(propensity_race, np.array([0, 0, 1, 0, 0, 0]), x_train.drop(columns=['race']).iloc[inst,:].values, x_train.drop(columns=['race']).values, seed=0))\n",
    "\n",
    "print('weight_all_but_race '+str(weight_all_but_race))\n",
    "print('weight_all_but_race_but_marital '+str(weight_all_but_race_but_marital))\n"
   ]
  },
  {
   "cell_type": "code",
   "execution_count": 12,
   "id": "1b5591b7",
   "metadata": {},
   "outputs": [
    {
     "name": "stdout",
     "output_type": "stream",
     "text": [
      "phi_med_by_marital 0.17890235624088272\n"
     ]
    }
   ],
   "source": [
    "phi_med_by_marital=((model_outcome_all-model_outcome_all_but_race)/weight_all_but_race)-((model_outcome_all_but_marital-model_outcome_all_but_race_but_marital)/weight_all_but_race_but_marital)\n",
    "\n",
    "print('phi_med_by_marital ' +str(phi_med_by_marital))\n"
   ]
  },
  {
   "cell_type": "markdown",
   "id": "a897ec56",
   "metadata": {},
   "source": [
    "## Treatment = Occupation (bias analysis)"
   ]
  },
  {
   "cell_type": "code",
   "execution_count": 13,
   "id": "a5a9bf4b",
   "metadata": {},
   "outputs": [
    {
     "name": "stdout",
     "output_type": "stream",
     "text": [
      "0.7102\n",
      "0.8113698548655722\n"
     ]
    }
   ],
   "source": [
    "propensity_occ = RandomForestClassifier(n_estimators=500, oob_score=True, class_weight=\"balanced\", random_state=0)\n",
    "propensity_occ.fit(x_train.drop(columns=['occupation']), x_train['occupation'])\n",
    "print(sklearn.metrics.accuracy_score(x_train['occupation'], propensity_occ.predict(x_train.drop(columns=['occupation']))))\n",
    "print(sklearn.metrics.roc_auc_score(x_train['occupation'], propensity_occ.predict_proba(x_train.drop(columns=['occupation']))[:, 1]))"
   ]
  },
  {
   "cell_type": "code",
   "execution_count": 14,
   "id": "97c7e3c5",
   "metadata": {},
   "outputs": [
    {
     "name": "stderr",
     "output_type": "stream",
     "text": [
      "/home/clivio/miniconda3/envs/pwshap/lib/python3.10/site-packages/sklearn/base.py:450: UserWarning: X does not have valid feature names, but RandomForestClassifier was fitted with feature names\n",
      "  warnings.warn(\n",
      "/home/clivio/miniconda3/envs/pwshap/lib/python3.10/site-packages/sklearn/base.py:450: UserWarning: X does not have valid feature names, but RandomForestClassifier was fitted with feature names\n",
      "  warnings.warn(\n",
      "/home/clivio/miniconda3/envs/pwshap/lib/python3.10/site-packages/sklearn/base.py:450: UserWarning: X does not have valid feature names, but RandomForestClassifier was fitted with feature names\n",
      "  warnings.warn(\n",
      "/home/clivio/miniconda3/envs/pwshap/lib/python3.10/site-packages/sklearn/base.py:450: UserWarning: X does not have valid feature names, but RandomForestClassifier was fitted with feature names\n",
      "  warnings.warn(\n"
     ]
    },
    {
     "name": "stdout",
     "output_type": "stream",
     "text": [
      "model_outcome_all 0.5364075446395272\n",
      "model_outcome_all_but_occup 0.3131024532681641\n",
      "model_outcome_all_but_relationship 0.4435772873515245\n",
      "model_outcome_all_but_relationship_but_occup 0.34468733150662567\n"
     ]
    }
   ],
   "source": [
    "model_outcome_all= np.mean(model_outcomes_coal(outcome, np.array([1, 1, 1, 1, 1, 1, 1]), x_train.iloc[inst,:].values, x_train.values, seed=0))\n",
    "model_outcome_all_but_occup= np.mean(model_outcomes_coal(outcome, np.array([1, 1, 0, 1, 1, 1, 1]), x_train.iloc[inst,:].values, x_train.values, seed=0))\n",
    "model_outcome_all_but_relationship= np.mean(model_outcomes_coal(outcome, np.array([1, 1, 1, 1, 0, 1, 1]), x_train.iloc[inst,:].values, x_train.values, seed=0))\n",
    "model_outcome_all_but_relationship_but_occup= np.mean(model_outcomes_coal(outcome, np.array([1, 1, 0, 1, 0, 1, 1]), x_train.iloc[inst,:].values, x_train.values, seed=0))\n",
    "\n",
    "print('model_outcome_all '+str(model_outcome_all))\n",
    "print('model_outcome_all_but_occup '+str(model_outcome_all_but_occup))\n",
    "print('model_outcome_all_but_relationship '+str(model_outcome_all_but_relationship))\n",
    "print('model_outcome_all_but_relationship_but_occup '+str(model_outcome_all_but_relationship_but_occup))\n"
   ]
  },
  {
   "cell_type": "code",
   "execution_count": 15,
   "id": "b6cb25ee",
   "metadata": {},
   "outputs": [
    {
     "name": "stderr",
     "output_type": "stream",
     "text": [
      "/home/clivio/miniconda3/envs/pwshap/lib/python3.10/site-packages/sklearn/base.py:450: UserWarning: X does not have valid feature names, but RandomForestClassifier was fitted with feature names\n",
      "  warnings.warn(\n",
      "/home/clivio/miniconda3/envs/pwshap/lib/python3.10/site-packages/sklearn/base.py:450: UserWarning: X does not have valid feature names, but RandomForestClassifier was fitted with feature names\n",
      "  warnings.warn(\n"
     ]
    },
    {
     "name": "stdout",
     "output_type": "stream",
     "text": [
      "weight_all_but_occ 0.5828651498231744\n",
      "weight_all_but_occ_but_relationship 0.6143123722980809\n"
     ]
    }
   ],
   "source": [
    "#weights\n",
    "# weights : 1 - P(T=1 knowing CS)\n",
    "weight_all_but_occ = np.mean(model_outcomes_coal(propensity_occ, np.array([1, 1, 1, 1, 1, 1]), x_train.drop(columns=['occupation']).iloc[inst,:].values, x_train.drop(columns=['occupation']).values, seed=0))\n",
    "weight_all_but_occ_but_relationship = np.mean(model_outcomes_coal(propensity_occ, np.array([1, 1, 1, 0, 1, 1]), x_train.drop(columns=['occupation']).iloc[inst,:].values, x_train.drop(columns=['occupation']).values, seed=0))\n",
    "\n",
    "print('weight_all_but_occ '+str(weight_all_but_occ))\n",
    "print('weight_all_but_occ_but_relationship '+str(weight_all_but_occ_but_relationship))\n"
   ]
  },
  {
   "cell_type": "code",
   "execution_count": 16,
   "id": "eb618f98",
   "metadata": {},
   "outputs": [
    {
     "name": "stdout",
     "output_type": "stream",
     "text": [
      "phi_mod_by_relationship0.222139554073776\n"
     ]
    }
   ],
   "source": [
    "phi_mod_by_relationship=((model_outcome_all-model_outcome_all_but_occup)/weight_all_but_occ)-((model_outcome_all_but_relationship-model_outcome_all_but_relationship_but_occup)/weight_all_but_occ_but_relationship)\n",
    "print('phi_mod_by_relationship' +str(phi_mod_by_relationship))\n"
   ]
  },
  {
   "cell_type": "code",
   "execution_count": null,
   "id": "2849ac28",
   "metadata": {},
   "outputs": [],
   "source": []
  },
  {
   "cell_type": "code",
   "execution_count": null,
   "id": "0dcf1434",
   "metadata": {},
   "outputs": [],
   "source": []
  }
 ],
 "metadata": {
  "hide_input": false,
  "kernelspec": {
   "display_name": "Python 3 (ipykernel)",
   "language": "python",
   "name": "python3"
  },
  "language_info": {
   "codemirror_mode": {
    "name": "ipython",
    "version": 3
   },
   "file_extension": ".py",
   "mimetype": "text/x-python",
   "name": "python",
   "nbconvert_exporter": "python",
   "pygments_lexer": "ipython3",
   "version": "3.10.4"
  }
 },
 "nbformat": 4,
 "nbformat_minor": 5
}
